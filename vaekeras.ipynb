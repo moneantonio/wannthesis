{
 "cells": [
  {
   "cell_type": "code",
   "execution_count": 33,
   "metadata": {},
   "outputs": [],
   "source": [
    "import tensorflow as tf\n",
    "import tensorflow.keras as keras\n",
    "import numpy as np\n",
    "import tensorflow.keras.backend as K\n",
    "import matplotlib.pyplot as plt\n",
    "import os\n",
    "from keras.layers import Layer\n",
    "from tensorflow.python.ops import math_ops\n",
    "from tensorflow.python.ops import array_ops\n",
    "from tensorflow.keras.layers import Input, Layer, Dense, Conv2D, MaxPooling2D, UpSampling2D, Conv2DTranspose, Dropout, GaussianNoise, Lambda, InputLayer\n",
    "from tensorflow.keras.layers import concatenate, ZeroPadding2D, Cropping2D, Reshape, Flatten, SpatialDropout2D, Softmax, Embedding, BatchNormalization\n",
    "from tensorflow.keras.models import Model, Sequential\n",
    "from tensorflow.keras.callbacks import EarlyStopping, ModelCheckpoint\n",
    "from tensorflow.keras.optimizers import Adam\n",
    "import gym\n",
    "from keras.utils import plot_model\n",
    " #to fix error in the autoencoder.fit() , as in https://github.com/keras-team/keras/issues/16066\n",
    "#https://dropsofai.com/variational-autoencoders-and-image-generation-with-keras/\n",
    "#https://blog.paperspace.com/working-with-the-lambda-layer-in-keras/\n",
    "#final fix for eager? https://linux-blog.anracom.com/2022/05/28/variational-autoencoder-with-tensorflow-2-8-iv-simple-rules-to-avoid-problems-with-eager-execution/\n",
    "#https://linux-blog.anracom.com/2022/05/30/variational-autoencoder-with-tensorflow-2-8-v-a-customized-encoder-layer-for-the-kl-loss/\n",
    "\n"
   ]
  },
  {
   "attachments": {},
   "cell_type": "markdown",
   "metadata": {},
   "source": [
    "# First Version"
   ]
  },
  {
   "cell_type": "code",
   "execution_count": 32,
   "metadata": {},
   "outputs": [],
   "source": [
    "atari_env_names = ['Assault','DemonAttack','SpaceInvaders','StarGunner']\n",
    "next_game = str(np.random.choice(atari_env_names,1)[0])\n",
    "env = gym.make(next_game+'-v0',full_action_space=True)\n",
    "state = env.reset()"
   ]
  },
  {
   "cell_type": "code",
   "execution_count": 33,
   "metadata": {},
   "outputs": [
    {
     "name": "stdout",
     "output_type": "stream",
     "text": [
      "EPISODE 0 OF 100\n",
      "Episode finished after 757 timesteps\n",
      "EPISODE 1 OF 100\n",
      "Episode finished after 1832 timesteps\n",
      "EPISODE 2 OF 100\n",
      "Episode finished after 875 timesteps\n",
      "EPISODE 3 OF 100\n"
     ]
    },
    {
     "ename": "KeyboardInterrupt",
     "evalue": "",
     "output_type": "error",
     "traceback": [
      "\u001b[0;31m---------------------------------------------------------------------------\u001b[0m",
      "\u001b[0;31mKeyboardInterrupt\u001b[0m                         Traceback (most recent call last)",
      "Cell \u001b[0;32mIn[33], line 7\u001b[0m\n\u001b[1;32m      5\u001b[0m \u001b[39mprint\u001b[39m(\u001b[39m\"\u001b[39m\u001b[39mEPISODE\u001b[39m\u001b[39m\"\u001b[39m,i_episode,\u001b[39m\"\u001b[39m\u001b[39mOF\u001b[39m\u001b[39m\"\u001b[39m,episodes)\n\u001b[1;32m      6\u001b[0m next_game \u001b[39m=\u001b[39m \u001b[39mstr\u001b[39m(np\u001b[39m.\u001b[39mrandom\u001b[39m.\u001b[39mchoice(atari_env_names,\u001b[39m1\u001b[39m)[\u001b[39m0\u001b[39m])\n\u001b[0;32m----> 7\u001b[0m env \u001b[39m=\u001b[39m gym\u001b[39m.\u001b[39;49mmake(next_game\u001b[39m+\u001b[39;49m\u001b[39m'\u001b[39;49m\u001b[39m-v0\u001b[39;49m\u001b[39m'\u001b[39;49m,full_action_space\u001b[39m=\u001b[39;49m\u001b[39mTrue\u001b[39;49;00m)\n\u001b[1;32m      8\u001b[0m observation \u001b[39m=\u001b[39m env\u001b[39m.\u001b[39mreset()\n\u001b[1;32m      9\u001b[0m \u001b[39mfor\u001b[39;00m t \u001b[39min\u001b[39;00m \u001b[39mrange\u001b[39m(\u001b[39m10000\u001b[39m):\n",
      "File \u001b[0;32m~/miniforge3/envs/wannenvjup/lib/python3.10/site-packages/gym/envs/registration.py:184\u001b[0m, in \u001b[0;36mmake\u001b[0;34m(id, **kwargs)\u001b[0m\n\u001b[1;32m    183\u001b[0m \u001b[39mdef\u001b[39;00m \u001b[39mmake\u001b[39m(\u001b[39mid\u001b[39m, \u001b[39m*\u001b[39m\u001b[39m*\u001b[39mkwargs):\n\u001b[0;32m--> 184\u001b[0m     \u001b[39mreturn\u001b[39;00m registry\u001b[39m.\u001b[39;49mmake(\u001b[39mid\u001b[39;49m, \u001b[39m*\u001b[39;49m\u001b[39m*\u001b[39;49mkwargs)\n",
      "File \u001b[0;32m~/miniforge3/envs/wannenvjup/lib/python3.10/site-packages/gym/envs/registration.py:106\u001b[0m, in \u001b[0;36mEnvRegistry.make\u001b[0;34m(self, path, **kwargs)\u001b[0m\n\u001b[1;32m    104\u001b[0m     logger\u001b[39m.\u001b[39minfo(\u001b[39m\"\u001b[39m\u001b[39mMaking new env: \u001b[39m\u001b[39m%s\u001b[39;00m\u001b[39m\"\u001b[39m, path)\n\u001b[1;32m    105\u001b[0m spec \u001b[39m=\u001b[39m \u001b[39mself\u001b[39m\u001b[39m.\u001b[39mspec(path)\n\u001b[0;32m--> 106\u001b[0m env \u001b[39m=\u001b[39m spec\u001b[39m.\u001b[39;49mmake(\u001b[39m*\u001b[39;49m\u001b[39m*\u001b[39;49mkwargs)\n\u001b[1;32m    107\u001b[0m \u001b[39m# We used to have people override _reset/_step rather than\u001b[39;00m\n\u001b[1;32m    108\u001b[0m \u001b[39m# reset/step. Set _gym_disable_underscore_compat = True on\u001b[39;00m\n\u001b[1;32m    109\u001b[0m \u001b[39m# your environment if you use these methods and don't want\u001b[39;00m\n\u001b[1;32m    110\u001b[0m \u001b[39m# compatibility code to be invoked.\u001b[39;00m\n\u001b[1;32m    111\u001b[0m \u001b[39mif\u001b[39;00m (\n\u001b[1;32m    112\u001b[0m     \u001b[39mhasattr\u001b[39m(env, \u001b[39m\"\u001b[39m\u001b[39m_reset\u001b[39m\u001b[39m\"\u001b[39m)\n\u001b[1;32m    113\u001b[0m     \u001b[39mand\u001b[39;00m \u001b[39mhasattr\u001b[39m(env, \u001b[39m\"\u001b[39m\u001b[39m_step\u001b[39m\u001b[39m\"\u001b[39m)\n\u001b[1;32m    114\u001b[0m     \u001b[39mand\u001b[39;00m \u001b[39mnot\u001b[39;00m \u001b[39mgetattr\u001b[39m(env, \u001b[39m\"\u001b[39m\u001b[39m_gym_disable_underscore_compat\u001b[39m\u001b[39m\"\u001b[39m, \u001b[39mFalse\u001b[39;00m)\n\u001b[1;32m    115\u001b[0m ):\n",
      "File \u001b[0;32m~/miniforge3/envs/wannenvjup/lib/python3.10/site-packages/gym/envs/registration.py:76\u001b[0m, in \u001b[0;36mEnvSpec.make\u001b[0;34m(self, **kwargs)\u001b[0m\n\u001b[1;32m     74\u001b[0m \u001b[39melse\u001b[39;00m:\n\u001b[1;32m     75\u001b[0m     \u001b[39mcls\u001b[39m \u001b[39m=\u001b[39m load(\u001b[39mself\u001b[39m\u001b[39m.\u001b[39mentry_point)\n\u001b[0;32m---> 76\u001b[0m     env \u001b[39m=\u001b[39m \u001b[39mcls\u001b[39;49m(\u001b[39m*\u001b[39;49m\u001b[39m*\u001b[39;49m_kwargs)\n\u001b[1;32m     78\u001b[0m \u001b[39m# Make the environment aware of which spec it came from.\u001b[39;00m\n\u001b[1;32m     79\u001b[0m spec \u001b[39m=\u001b[39m copy\u001b[39m.\u001b[39mdeepcopy(\u001b[39mself\u001b[39m)\n",
      "File \u001b[0;32m~/miniforge3/envs/wannenvjup/lib/python3.10/site-packages/gym/envs/atari/atari_env.py:74\u001b[0m, in \u001b[0;36mAtariEnv.__init__\u001b[0;34m(self, game, mode, difficulty, obs_type, frameskip, repeat_action_probability, full_action_space)\u001b[0m\n\u001b[1;32m     67\u001b[0m \u001b[39massert\u001b[39;00m \u001b[39misinstance\u001b[39m(\n\u001b[1;32m     68\u001b[0m     repeat_action_probability, (\u001b[39mfloat\u001b[39m, \u001b[39mint\u001b[39m)\n\u001b[1;32m     69\u001b[0m ), \u001b[39m\"\u001b[39m\u001b[39mInvalid repeat_action_probability: \u001b[39m\u001b[39m{!r}\u001b[39;00m\u001b[39m\"\u001b[39m\u001b[39m.\u001b[39mformat(repeat_action_probability)\n\u001b[1;32m     70\u001b[0m \u001b[39mself\u001b[39m\u001b[39m.\u001b[39male\u001b[39m.\u001b[39msetFloat(\n\u001b[1;32m     71\u001b[0m     \u001b[39m\"\u001b[39m\u001b[39mrepeat_action_probability\u001b[39m\u001b[39m\"\u001b[39m\u001b[39m.\u001b[39mencode(\u001b[39m\"\u001b[39m\u001b[39mutf-8\u001b[39m\u001b[39m\"\u001b[39m), repeat_action_probability\n\u001b[1;32m     72\u001b[0m )\n\u001b[0;32m---> 74\u001b[0m \u001b[39mself\u001b[39;49m\u001b[39m.\u001b[39;49mseed()\n\u001b[1;32m     76\u001b[0m \u001b[39mself\u001b[39m\u001b[39m.\u001b[39m_action_set \u001b[39m=\u001b[39m (\n\u001b[1;32m     77\u001b[0m     \u001b[39mself\u001b[39m\u001b[39m.\u001b[39male\u001b[39m.\u001b[39mgetLegalActionSet()\n\u001b[1;32m     78\u001b[0m     \u001b[39mif\u001b[39;00m full_action_space\n\u001b[1;32m     79\u001b[0m     \u001b[39melse\u001b[39;00m \u001b[39mself\u001b[39m\u001b[39m.\u001b[39male\u001b[39m.\u001b[39mgetMinimalActionSet()\n\u001b[1;32m     80\u001b[0m )\n\u001b[1;32m     81\u001b[0m \u001b[39mself\u001b[39m\u001b[39m.\u001b[39maction_space \u001b[39m=\u001b[39m spaces\u001b[39m.\u001b[39mDiscrete(\u001b[39mlen\u001b[39m(\u001b[39mself\u001b[39m\u001b[39m.\u001b[39m_action_set))\n",
      "File \u001b[0;32m~/miniforge3/envs/wannenvjup/lib/python3.10/site-packages/gym/envs/atari/atari_env.py:105\u001b[0m, in \u001b[0;36mAtariEnv.seed\u001b[0;34m(self, seed)\u001b[0m\n\u001b[1;32m    103\u001b[0m \u001b[39m# Empirically, we need to seed before loading the ROM.\u001b[39;00m\n\u001b[1;32m    104\u001b[0m \u001b[39mself\u001b[39m\u001b[39m.\u001b[39male\u001b[39m.\u001b[39msetInt(\u001b[39mb\u001b[39m\u001b[39m\"\u001b[39m\u001b[39mrandom_seed\u001b[39m\u001b[39m\"\u001b[39m, seed2)\n\u001b[0;32m--> 105\u001b[0m \u001b[39mself\u001b[39;49m\u001b[39m.\u001b[39;49male\u001b[39m.\u001b[39;49mloadROM(\u001b[39mself\u001b[39;49m\u001b[39m.\u001b[39;49mgame_path)\n\u001b[1;32m    107\u001b[0m \u001b[39mif\u001b[39;00m \u001b[39mself\u001b[39m\u001b[39m.\u001b[39mgame_mode \u001b[39mis\u001b[39;00m \u001b[39mnot\u001b[39;00m \u001b[39mNone\u001b[39;00m:\n\u001b[1;32m    108\u001b[0m     modes \u001b[39m=\u001b[39m \u001b[39mself\u001b[39m\u001b[39m.\u001b[39male\u001b[39m.\u001b[39mgetAvailableModes()\n",
      "File \u001b[0;32m~/miniforge3/envs/wannenvjup/lib/python3.10/site-packages/atari_py/ale_python_interface.py:149\u001b[0m, in \u001b[0;36mALEInterface.loadROM\u001b[0;34m(self, rom_file)\u001b[0m\n\u001b[1;32m    148\u001b[0m \u001b[39mdef\u001b[39;00m \u001b[39mloadROM\u001b[39m(\u001b[39mself\u001b[39m, rom_file):\n\u001b[0;32m--> 149\u001b[0m     ale_lib\u001b[39m.\u001b[39;49mloadROM(\u001b[39mself\u001b[39;49m\u001b[39m.\u001b[39;49mobj, _as_bytes(rom_file))\n",
      "\u001b[0;31mKeyboardInterrupt\u001b[0m: "
     ]
    }
   ],
   "source": [
    "import cv2\n",
    "episodes = 100\n",
    "imgs = []\n",
    "for i_episode in range(episodes):\n",
    "    print(\"EPISODE\",i_episode,\"OF\",episodes)\n",
    "    next_game = str(np.random.choice(atari_env_names,1)[0])\n",
    "    env = gym.make(next_game+'-v0',full_action_space=True)\n",
    "    observation = env.reset()\n",
    "    for t in range(10000):\n",
    "        imgs.append(cv2.resize(env.env.ale.getScreenRGB(), (128,128)))\n",
    "        action = env.action_space.sample()\n",
    "        observation, reward, done, info = env.step(action)\n",
    "        if done:\n",
    "            print(\"Episode finished after {} timesteps\".format(t+1))\n",
    "            break"
   ]
  },
  {
   "cell_type": "code",
   "execution_count": null,
   "metadata": {},
   "outputs": [],
   "source": [
    "x_imgs = np.array(imgs)\n",
    "x_imgs = x_imgs.astype('float32')\n",
    "x_imgs /= 255\n",
    "train = x_imgs[:len(imgs)*8//10]\n",
    "val = x_imgs[len(imgs)*8//10:]"
   ]
  },
  {
   "cell_type": "code",
   "execution_count": null,
   "metadata": {},
   "outputs": [
    {
     "data": {
      "text/plain": [
       "(83160, 128, 128, 3)"
      ]
     },
     "execution_count": 230,
     "metadata": {},
     "output_type": "execute_result"
    }
   ],
   "source": [
    "train.shape"
   ]
  },
  {
   "cell_type": "code",
   "execution_count": null,
   "metadata": {},
   "outputs": [],
   "source": [
    "PROJECT_ROOT_DIR = \"/Users/antoniomone/Desktop/Uni/LEIDEN/THESIS/RLtests/outputs/kerasimgs/\"\n",
    "IMAGES_PATH = os.path.join(PROJECT_ROOT_DIR, \"images\")\n",
    "os.makedirs(IMAGES_PATH, exist_ok=True)\n",
    "\n",
    "def save_fig(fig_id, tight_layout=True, fig_extension=\"png\", resolution=300):\n",
    "    path = os.path.join(IMAGES_PATH, fig_id + \".\" + fig_extension)\n",
    "    print(\"Saving figure\", fig_id)\n",
    "    if tight_layout:\n",
    "        plt.tight_layout()\n",
    "    plt.savefig(path, format=fig_extension, dpi=resolution)\n",
    "\n",
    "def plot_image(image, save=False, i=0):\n",
    "    plt.imshow(image, cmap=\"binary\")\n",
    "    plt.axis(\"off\")\n",
    "    if save:\n",
    "      plt.savefig(str(i) + '.png')\n",
    "\n",
    "def save_image(image, pred, i=0):\n",
    "    ax1 = plt.subplot(1,2,1)\n",
    "    ax2 = plt.subplot(1,2,2)\n",
    "    ax1.imshow(image, cmap=\"binary\")\n",
    "    ax2.imshow(pred, cmap=\"binary\")\n",
    "#    plt.show()\n",
    "#    plt.axis(\"off\")\n",
    "    plt.savefig(str(i) + '.png')"
   ]
  },
  {
   "cell_type": "code",
   "execution_count": null,
   "metadata": {},
   "outputs": [],
   "source": [
    "latent_dim = 16"
   ]
  },
  {
   "cell_type": "code",
   "execution_count": null,
   "metadata": {},
   "outputs": [],
   "source": [
    "class Sampling(tf.keras.layers.Layer):\n",
    "    \"\"\"\n",
    "    Custom layer for the variational autoencoder\n",
    "    It takes two vectors as input - one for means and other for variances of the latent variables described by a multimodal gaussian\n",
    "    Its output is a latent vector randomly sampled from this distribution\n",
    "    \"\"\"\n",
    "    def call(self, inputs):\n",
    "        z_mean, z_var = inputs\n",
    "        batch = tf.shape(z_mean)[0]\n",
    "        dim = tf.shape(z_mean)[1]\n",
    "        epsilon = tf.keras.backend.random_normal(shape=(batch, dim))\n",
    "        return z_mean + tf.exp(0.5 * z_var) * epsilon"
   ]
  },
  {
   "cell_type": "code",
   "execution_count": null,
   "metadata": {},
   "outputs": [],
   "source": [
    "\n",
    "inputs = Input(shape=[128,128,3], name=\"Input\")\n",
    "x = inputs\n",
    "x1 = Conv2D(8, 3, strides=1, padding='same', activation='selu', kernel_initializer='he_normal')(x)\n",
    "x2 = Conv2D(8, 3, strides=1, padding='same', dilation_rate=(2,1), activation='selu', kernel_initializer='he_normal')(x)\n",
    "x3 = Conv2D(8, 3, strides=1, padding='same', dilation_rate=(1,2), activation='selu', kernel_initializer='he_normal')(x)\n",
    "x4 = Conv2D(8, 3, strides=1, padding='same', dilation_rate=(2,2), activation='selu', kernel_initializer='he_normal')(x)\n",
    "x = concatenate([x1, x2, x3,x4])\n",
    "x = BatchNormalization()(x)\n",
    "x = Conv2D(32, 5, strides=2, padding='same', activation='selu', kernel_initializer='he_normal')(x)\n",
    "x = BatchNormalization()(x)\n",
    "x = Conv2D(64, 5, strides=2, padding='same', activation='selu', kernel_initializer='he_normal')(x)\n",
    "x = BatchNormalization()(x)\n",
    "x = Flatten()(x)\n",
    "eo = Dense(256, activation='selu')(x)\n",
    "enc = Model(inputs=inputs, outputs=eo)\n",
    "\n",
    "z_mean = Dense(latent_dim)(eo)\n",
    "z_var = Dense(latent_dim)(eo)\n",
    "z = Sampling()([z_mean, z_var])\n",
    "\n",
    "# Connecting the two encoder parts\n",
    "enc = tf.keras.Model(inputs=inputs, outputs=z)\n",
    "\n",
    "dec = Sequential([\n",
    "    Dense(128*128*3, activation='relu'),\n",
    "    Reshape((128,128,3)),\n",
    "    Conv2DTranspose(128, 3, padding='same', activation='relu'),\n",
    "    BatchNormalization(),\n",
    "    Conv2DTranspose(3, 3, padding='same', activation='sigmoid')\n",
    "])\n",
    "\n",
    "'''\n",
    "dec = Sequential([\n",
    "                  Dense(256, activation='selu', input_shape=(16,), kernel_initializer='he_normal'),\n",
    "                  Dropout(0.2),\n",
    "                  Dense(512, activation='selu', kernel_initializer='he_normal'),\n",
    "                  Dropout(0.2),\n",
    "                  Dense(256, activation='selu', kernel_initializer='he_normal'),\n",
    "                  Dropout(0.2),\n",
    "                  Dense(84*84*3, activation='selu'),\n",
    "                  Reshape((84,84,3)),\n",
    "                  Conv2DTranspose(128, 3, padding='same', activation='selu'),\n",
    "                  BatchNormalization(),\n",
    "                  Conv2DTranspose(3, 3, padding='same', activation='sigmoid')\n",
    "])'''\n",
    "\n",
    "ae = Sequential([enc, dec])"
   ]
  },
  {
   "cell_type": "code",
   "execution_count": null,
   "metadata": {},
   "outputs": [
    {
     "name": "stdout",
     "output_type": "stream",
     "text": [
      "Model: \"model_35\"\n",
      "__________________________________________________________________________________________________\n",
      " Layer (type)                   Output Shape         Param #     Connected to                     \n",
      "==================================================================================================\n",
      " Input (InputLayer)             [(None, 128, 128, 3  0           []                               \n",
      "                                )]                                                                \n",
      "                                                                                                  \n",
      " conv2d_60 (Conv2D)             (None, 128, 128, 8)  224         ['Input[0][0]']                  \n",
      "                                                                                                  \n",
      " conv2d_61 (Conv2D)             (None, 128, 128, 8)  224         ['Input[0][0]']                  \n",
      "                                                                                                  \n",
      " conv2d_62 (Conv2D)             (None, 128, 128, 8)  224         ['Input[0][0]']                  \n",
      "                                                                                                  \n",
      " conv2d_63 (Conv2D)             (None, 128, 128, 8)  224         ['Input[0][0]']                  \n",
      "                                                                                                  \n",
      " concatenate_8 (Concatenate)    (None, 128, 128, 32  0           ['conv2d_60[0][0]',              \n",
      "                                )                                 'conv2d_61[0][0]',              \n",
      "                                                                  'conv2d_62[0][0]',              \n",
      "                                                                  'conv2d_63[0][0]']              \n",
      "                                                                                                  \n",
      " batch_normalization_35 (BatchN  (None, 128, 128, 32  128        ['concatenate_8[0][0]']          \n",
      " ormalization)                  )                                                                 \n",
      "                                                                                                  \n",
      " conv2d_64 (Conv2D)             (None, 64, 64, 32)   25632       ['batch_normalization_35[0][0]'] \n",
      "                                                                                                  \n",
      " batch_normalization_36 (BatchN  (None, 64, 64, 32)  128         ['conv2d_64[0][0]']              \n",
      " ormalization)                                                                                    \n",
      "                                                                                                  \n",
      " conv2d_65 (Conv2D)             (None, 32, 32, 64)   51264       ['batch_normalization_36[0][0]'] \n",
      "                                                                                                  \n",
      " batch_normalization_37 (BatchN  (None, 32, 32, 64)  256         ['conv2d_65[0][0]']              \n",
      " ormalization)                                                                                    \n",
      "                                                                                                  \n",
      " flatten_13 (Flatten)           (None, 65536)        0           ['batch_normalization_37[0][0]'] \n",
      "                                                                                                  \n",
      " dense_65 (Dense)               (None, 256)          16777472    ['flatten_13[0][0]']             \n",
      "                                                                                                  \n",
      " dense_66 (Dense)               (None, 16)           4112        ['dense_65[0][0]']               \n",
      "                                                                                                  \n",
      " dense_67 (Dense)               (None, 16)           4112        ['dense_65[0][0]']               \n",
      "                                                                                                  \n",
      " sampling_8 (Sampling)          (None, 16)           0           ['dense_66[0][0]',               \n",
      "                                                                  'dense_67[0][0]']               \n",
      "                                                                                                  \n",
      "==================================================================================================\n",
      "Total params: 16,864,000\n",
      "Trainable params: 16,863,744\n",
      "Non-trainable params: 256\n",
      "__________________________________________________________________________________________________\n"
     ]
    }
   ],
   "source": [
    "enc.compile(loss='mse')\n",
    "enc.summary()"
   ]
  },
  {
   "cell_type": "code",
   "execution_count": null,
   "metadata": {},
   "outputs": [
    {
     "name": "stdout",
     "output_type": "stream",
     "text": [
      "Model: \"sequential_16\"\n",
      "_________________________________________________________________\n",
      " Layer (type)                Output Shape              Param #   \n",
      "=================================================================\n",
      " dense_68 (Dense)            (None, 49152)             835584    \n",
      "                                                                 \n",
      " reshape_18 (Reshape)        (None, 128, 128, 3)       0         \n",
      "                                                                 \n",
      " conv2d_transpose_44 (Conv2D  (None, 128, 128, 128)    3584      \n",
      " Transpose)                                                      \n",
      "                                                                 \n",
      " batch_normalization_38 (Bat  (None, 128, 128, 128)    512       \n",
      " chNormalization)                                                \n",
      "                                                                 \n",
      " conv2d_transpose_45 (Conv2D  (None, 128, 128, 3)      3459      \n",
      " Transpose)                                                      \n",
      "                                                                 \n",
      "=================================================================\n",
      "Total params: 843,139\n",
      "Trainable params: 842,883\n",
      "Non-trainable params: 256\n",
      "_________________________________________________________________\n"
     ]
    }
   ],
   "source": [
    "dec.compile(loss='mse')\n",
    "dec.summary()"
   ]
  },
  {
   "cell_type": "code",
   "execution_count": null,
   "metadata": {},
   "outputs": [
    {
     "name": "stdout",
     "output_type": "stream",
     "text": [
      "Model: \"sequential_17\"\n",
      "_________________________________________________________________\n",
      " Layer (type)                Output Shape              Param #   \n",
      "=================================================================\n",
      " model_35 (Functional)       (None, 16)                16864000  \n",
      "                                                                 \n",
      " sequential_16 (Sequential)  multiple                  843139    \n",
      "                                                                 \n",
      "=================================================================\n",
      "Total params: 17,707,139\n",
      "Trainable params: 17,706,627\n",
      "Non-trainable params: 512\n",
      "_________________________________________________________________\n"
     ]
    }
   ],
   "source": [
    "ae.summary()"
   ]
  },
  {
   "cell_type": "code",
   "execution_count": null,
   "metadata": {},
   "outputs": [],
   "source": [
    "ae.compile(loss='mse', optimizer=keras.optimizers.Adam(), metrics=['mean_absolute_error'])"
   ]
  },
  {
   "cell_type": "code",
   "execution_count": null,
   "metadata": {},
   "outputs": [],
   "source": [
    "batch_size = 128\n",
    "epochs = 200"
   ]
  },
  {
   "cell_type": "code",
   "execution_count": null,
   "metadata": {},
   "outputs": [
    {
     "name": "stdout",
     "output_type": "stream",
     "text": [
      "Epoch 1/200\n"
     ]
    },
    {
     "name": "stderr",
     "output_type": "stream",
     "text": [
      "2023-01-30 11:45:27.493809: I tensorflow/core/grappler/optimizers/custom_graph_optimizer_registry.cc:114] Plugin optimizer for device_type GPU is enabled.\n"
     ]
    },
    {
     "name": "stdout",
     "output_type": "stream",
     "text": [
      "103/103 [==============================] - ETA: 0s - loss: 0.0690 - mean_absolute_error: 0.1962"
     ]
    },
    {
     "name": "stderr",
     "output_type": "stream",
     "text": [
      "2023-01-30 11:48:41.943160: I tensorflow/core/grappler/optimizers/custom_graph_optimizer_registry.cc:114] Plugin optimizer for device_type GPU is enabled.\n"
     ]
    },
    {
     "name": "stdout",
     "output_type": "stream",
     "text": [
      "103/103 [==============================] - 216s 2s/step - loss: 0.0690 - mean_absolute_error: 0.1962 - val_loss: 0.0180 - val_mean_absolute_error: 0.0654\n",
      "Epoch 2/200\n",
      "103/103 [==============================] - 209s 2s/step - loss: 0.0146 - mean_absolute_error: 0.0602 - val_loss: 0.0181 - val_mean_absolute_error: 0.0626\n",
      "Epoch 3/200\n",
      "103/103 [==============================] - 207s 2s/step - loss: 0.0146 - mean_absolute_error: 0.0576 - val_loss: 0.0181 - val_mean_absolute_error: 0.0624\n",
      "Epoch 4/200\n",
      "103/103 [==============================] - 208s 2s/step - loss: 0.0146 - mean_absolute_error: 0.0568 - val_loss: 0.0181 - val_mean_absolute_error: 0.0622\n",
      "Epoch 5/200\n",
      "103/103 [==============================] - 208s 2s/step - loss: 0.0146 - mean_absolute_error: 0.0566 - val_loss: 0.0180 - val_mean_absolute_error: 0.0622\n",
      "Epoch 6/200\n",
      "103/103 [==============================] - 211s 2s/step - loss: 0.0146 - mean_absolute_error: 0.0563 - val_loss: 0.0180 - val_mean_absolute_error: 0.0627\n",
      "Epoch 7/200\n",
      "103/103 [==============================] - 209s 2s/step - loss: 0.0146 - mean_absolute_error: 0.0563 - val_loss: 0.0180 - val_mean_absolute_error: 0.0628\n",
      "Epoch 8/200\n",
      "103/103 [==============================] - 211s 2s/step - loss: 0.0145 - mean_absolute_error: 0.0565 - val_loss: 0.0180 - val_mean_absolute_error: 0.0626\n",
      "Epoch 9/200\n",
      "103/103 [==============================] - 210s 2s/step - loss: 0.0145 - mean_absolute_error: 0.0563 - val_loss: 0.0180 - val_mean_absolute_error: 0.0626\n",
      "Epoch 10/200\n",
      "103/103 [==============================] - 209s 2s/step - loss: 0.0145 - mean_absolute_error: 0.0563 - val_loss: 0.0180 - val_mean_absolute_error: 0.0628\n",
      "Epoch 11/200\n",
      "103/103 [==============================] - 198s 2s/step - loss: 0.0145 - mean_absolute_error: 0.0564 - val_loss: 0.0180 - val_mean_absolute_error: 0.0630\n",
      "Epoch 12/200\n",
      "103/103 [==============================] - 197s 2s/step - loss: 0.0145 - mean_absolute_error: 0.0563 - val_loss: 0.0180 - val_mean_absolute_error: 0.0625\n",
      "Epoch 13/200\n",
      "103/103 [==============================] - 197s 2s/step - loss: 0.0145 - mean_absolute_error: 0.0564 - val_loss: 0.0180 - val_mean_absolute_error: 0.0626\n",
      "Epoch 14/200\n",
      "103/103 [==============================] - 197s 2s/step - loss: 0.0145 - mean_absolute_error: 0.0563 - val_loss: 0.0180 - val_mean_absolute_error: 0.0627\n",
      "Epoch 15/200\n",
      "103/103 [==============================] - 197s 2s/step - loss: 0.0145 - mean_absolute_error: 0.0564 - val_loss: 0.0180 - val_mean_absolute_error: 0.0626\n",
      "Epoch 16/200\n",
      "103/103 [==============================] - 197s 2s/step - loss: 0.0145 - mean_absolute_error: 0.0561 - val_loss: 0.0179 - val_mean_absolute_error: 0.0631\n",
      "Epoch 17/200\n",
      "103/103 [==============================] - 205s 2s/step - loss: 0.0145 - mean_absolute_error: 0.0563 - val_loss: 0.0179 - val_mean_absolute_error: 0.0627\n",
      "Epoch 18/200\n",
      "103/103 [==============================] - 208s 2s/step - loss: 0.0145 - mean_absolute_error: 0.0562 - val_loss: 0.0179 - val_mean_absolute_error: 0.0630\n",
      "Epoch 19/200\n",
      "103/103 [==============================] - 209s 2s/step - loss: 0.0145 - mean_absolute_error: 0.0562 - val_loss: 0.0179 - val_mean_absolute_error: 0.0622\n",
      "Epoch 20/200\n",
      "103/103 [==============================] - 207s 2s/step - loss: 0.0145 - mean_absolute_error: 0.0562 - val_loss: 0.0179 - val_mean_absolute_error: 0.0621\n",
      "Epoch 21/200\n",
      "  5/103 [>.............................] - ETA: 3:07 - loss: 0.0157 - mean_absolute_error: 0.0569"
     ]
    },
    {
     "ename": "KeyboardInterrupt",
     "evalue": "",
     "output_type": "error",
     "traceback": [
      "\u001b[0;31m---------------------------------------------------------------------------\u001b[0m",
      "\u001b[0;31mKeyboardInterrupt\u001b[0m                         Traceback (most recent call last)",
      "Cell \u001b[0;32mIn[76], line 1\u001b[0m\n\u001b[0;32m----> 1\u001b[0m history \u001b[39m=\u001b[39m ae\u001b[39m.\u001b[39;49mfit(train, train, epochs\u001b[39m=\u001b[39;49mepochs, batch_size\u001b[39m=\u001b[39;49mbatch_size, validation_data\u001b[39m=\u001b[39;49m(val, val), shuffle\u001b[39m=\u001b[39;49m\u001b[39mTrue\u001b[39;49;00m)\n",
      "File \u001b[0;32m~/miniforge3/envs/wannenvjup/lib/python3.10/site-packages/keras/utils/traceback_utils.py:65\u001b[0m, in \u001b[0;36mfilter_traceback.<locals>.error_handler\u001b[0;34m(*args, **kwargs)\u001b[0m\n\u001b[1;32m     63\u001b[0m filtered_tb \u001b[39m=\u001b[39m \u001b[39mNone\u001b[39;00m\n\u001b[1;32m     64\u001b[0m \u001b[39mtry\u001b[39;00m:\n\u001b[0;32m---> 65\u001b[0m     \u001b[39mreturn\u001b[39;00m fn(\u001b[39m*\u001b[39;49margs, \u001b[39m*\u001b[39;49m\u001b[39m*\u001b[39;49mkwargs)\n\u001b[1;32m     66\u001b[0m \u001b[39mexcept\u001b[39;00m \u001b[39mException\u001b[39;00m \u001b[39mas\u001b[39;00m e:\n\u001b[1;32m     67\u001b[0m     filtered_tb \u001b[39m=\u001b[39m _process_traceback_frames(e\u001b[39m.\u001b[39m__traceback__)\n",
      "File \u001b[0;32m~/miniforge3/envs/wannenvjup/lib/python3.10/site-packages/keras/engine/training.py:1564\u001b[0m, in \u001b[0;36mModel.fit\u001b[0;34m(self, x, y, batch_size, epochs, verbose, callbacks, validation_split, validation_data, shuffle, class_weight, sample_weight, initial_epoch, steps_per_epoch, validation_steps, validation_batch_size, validation_freq, max_queue_size, workers, use_multiprocessing)\u001b[0m\n\u001b[1;32m   1556\u001b[0m \u001b[39mwith\u001b[39;00m tf\u001b[39m.\u001b[39mprofiler\u001b[39m.\u001b[39mexperimental\u001b[39m.\u001b[39mTrace(\n\u001b[1;32m   1557\u001b[0m     \u001b[39m\"\u001b[39m\u001b[39mtrain\u001b[39m\u001b[39m\"\u001b[39m,\n\u001b[1;32m   1558\u001b[0m     epoch_num\u001b[39m=\u001b[39mepoch,\n\u001b[0;32m   (...)\u001b[0m\n\u001b[1;32m   1561\u001b[0m     _r\u001b[39m=\u001b[39m\u001b[39m1\u001b[39m,\n\u001b[1;32m   1562\u001b[0m ):\n\u001b[1;32m   1563\u001b[0m     callbacks\u001b[39m.\u001b[39mon_train_batch_begin(step)\n\u001b[0;32m-> 1564\u001b[0m     tmp_logs \u001b[39m=\u001b[39m \u001b[39mself\u001b[39;49m\u001b[39m.\u001b[39;49mtrain_function(iterator)\n\u001b[1;32m   1565\u001b[0m     \u001b[39mif\u001b[39;00m data_handler\u001b[39m.\u001b[39mshould_sync:\n\u001b[1;32m   1566\u001b[0m         context\u001b[39m.\u001b[39masync_wait()\n",
      "File \u001b[0;32m~/miniforge3/envs/wannenvjup/lib/python3.10/site-packages/tensorflow/python/util/traceback_utils.py:150\u001b[0m, in \u001b[0;36mfilter_traceback.<locals>.error_handler\u001b[0;34m(*args, **kwargs)\u001b[0m\n\u001b[1;32m    148\u001b[0m filtered_tb \u001b[39m=\u001b[39m \u001b[39mNone\u001b[39;00m\n\u001b[1;32m    149\u001b[0m \u001b[39mtry\u001b[39;00m:\n\u001b[0;32m--> 150\u001b[0m   \u001b[39mreturn\u001b[39;00m fn(\u001b[39m*\u001b[39;49margs, \u001b[39m*\u001b[39;49m\u001b[39m*\u001b[39;49mkwargs)\n\u001b[1;32m    151\u001b[0m \u001b[39mexcept\u001b[39;00m \u001b[39mException\u001b[39;00m \u001b[39mas\u001b[39;00m e:\n\u001b[1;32m    152\u001b[0m   filtered_tb \u001b[39m=\u001b[39m _process_traceback_frames(e\u001b[39m.\u001b[39m__traceback__)\n",
      "File \u001b[0;32m~/miniforge3/envs/wannenvjup/lib/python3.10/site-packages/tensorflow/python/eager/def_function.py:915\u001b[0m, in \u001b[0;36mFunction.__call__\u001b[0;34m(self, *args, **kwds)\u001b[0m\n\u001b[1;32m    912\u001b[0m compiler \u001b[39m=\u001b[39m \u001b[39m\"\u001b[39m\u001b[39mxla\u001b[39m\u001b[39m\"\u001b[39m \u001b[39mif\u001b[39;00m \u001b[39mself\u001b[39m\u001b[39m.\u001b[39m_jit_compile \u001b[39melse\u001b[39;00m \u001b[39m\"\u001b[39m\u001b[39mnonXla\u001b[39m\u001b[39m\"\u001b[39m\n\u001b[1;32m    914\u001b[0m \u001b[39mwith\u001b[39;00m OptionalXlaContext(\u001b[39mself\u001b[39m\u001b[39m.\u001b[39m_jit_compile):\n\u001b[0;32m--> 915\u001b[0m   result \u001b[39m=\u001b[39m \u001b[39mself\u001b[39;49m\u001b[39m.\u001b[39;49m_call(\u001b[39m*\u001b[39;49margs, \u001b[39m*\u001b[39;49m\u001b[39m*\u001b[39;49mkwds)\n\u001b[1;32m    917\u001b[0m new_tracing_count \u001b[39m=\u001b[39m \u001b[39mself\u001b[39m\u001b[39m.\u001b[39mexperimental_get_tracing_count()\n\u001b[1;32m    918\u001b[0m without_tracing \u001b[39m=\u001b[39m (tracing_count \u001b[39m==\u001b[39m new_tracing_count)\n",
      "File \u001b[0;32m~/miniforge3/envs/wannenvjup/lib/python3.10/site-packages/tensorflow/python/eager/def_function.py:947\u001b[0m, in \u001b[0;36mFunction._call\u001b[0;34m(self, *args, **kwds)\u001b[0m\n\u001b[1;32m    944\u001b[0m   \u001b[39mself\u001b[39m\u001b[39m.\u001b[39m_lock\u001b[39m.\u001b[39mrelease()\n\u001b[1;32m    945\u001b[0m   \u001b[39m# In this case we have created variables on the first call, so we run the\u001b[39;00m\n\u001b[1;32m    946\u001b[0m   \u001b[39m# defunned version which is guaranteed to never create variables.\u001b[39;00m\n\u001b[0;32m--> 947\u001b[0m   \u001b[39mreturn\u001b[39;00m \u001b[39mself\u001b[39;49m\u001b[39m.\u001b[39;49m_stateless_fn(\u001b[39m*\u001b[39;49margs, \u001b[39m*\u001b[39;49m\u001b[39m*\u001b[39;49mkwds)  \u001b[39m# pylint: disable=not-callable\u001b[39;00m\n\u001b[1;32m    948\u001b[0m \u001b[39melif\u001b[39;00m \u001b[39mself\u001b[39m\u001b[39m.\u001b[39m_stateful_fn \u001b[39mis\u001b[39;00m \u001b[39mnot\u001b[39;00m \u001b[39mNone\u001b[39;00m:\n\u001b[1;32m    949\u001b[0m   \u001b[39m# Release the lock early so that multiple threads can perform the call\u001b[39;00m\n\u001b[1;32m    950\u001b[0m   \u001b[39m# in parallel.\u001b[39;00m\n\u001b[1;32m    951\u001b[0m   \u001b[39mself\u001b[39m\u001b[39m.\u001b[39m_lock\u001b[39m.\u001b[39mrelease()\n",
      "File \u001b[0;32m~/miniforge3/envs/wannenvjup/lib/python3.10/site-packages/tensorflow/python/eager/function.py:2496\u001b[0m, in \u001b[0;36mFunction.__call__\u001b[0;34m(self, *args, **kwargs)\u001b[0m\n\u001b[1;32m   2493\u001b[0m \u001b[39mwith\u001b[39;00m \u001b[39mself\u001b[39m\u001b[39m.\u001b[39m_lock:\n\u001b[1;32m   2494\u001b[0m   (graph_function,\n\u001b[1;32m   2495\u001b[0m    filtered_flat_args) \u001b[39m=\u001b[39m \u001b[39mself\u001b[39m\u001b[39m.\u001b[39m_maybe_define_function(args, kwargs)\n\u001b[0;32m-> 2496\u001b[0m \u001b[39mreturn\u001b[39;00m graph_function\u001b[39m.\u001b[39;49m_call_flat(\n\u001b[1;32m   2497\u001b[0m     filtered_flat_args, captured_inputs\u001b[39m=\u001b[39;49mgraph_function\u001b[39m.\u001b[39;49mcaptured_inputs)\n",
      "File \u001b[0;32m~/miniforge3/envs/wannenvjup/lib/python3.10/site-packages/tensorflow/python/eager/function.py:1862\u001b[0m, in \u001b[0;36mConcreteFunction._call_flat\u001b[0;34m(self, args, captured_inputs, cancellation_manager)\u001b[0m\n\u001b[1;32m   1858\u001b[0m possible_gradient_type \u001b[39m=\u001b[39m gradients_util\u001b[39m.\u001b[39mPossibleTapeGradientTypes(args)\n\u001b[1;32m   1859\u001b[0m \u001b[39mif\u001b[39;00m (possible_gradient_type \u001b[39m==\u001b[39m gradients_util\u001b[39m.\u001b[39mPOSSIBLE_GRADIENT_TYPES_NONE\n\u001b[1;32m   1860\u001b[0m     \u001b[39mand\u001b[39;00m executing_eagerly):\n\u001b[1;32m   1861\u001b[0m   \u001b[39m# No tape is watching; skip to running the function.\u001b[39;00m\n\u001b[0;32m-> 1862\u001b[0m   \u001b[39mreturn\u001b[39;00m \u001b[39mself\u001b[39m\u001b[39m.\u001b[39m_build_call_outputs(\u001b[39mself\u001b[39;49m\u001b[39m.\u001b[39;49m_inference_function\u001b[39m.\u001b[39;49mcall(\n\u001b[1;32m   1863\u001b[0m       ctx, args, cancellation_manager\u001b[39m=\u001b[39;49mcancellation_manager))\n\u001b[1;32m   1864\u001b[0m forward_backward \u001b[39m=\u001b[39m \u001b[39mself\u001b[39m\u001b[39m.\u001b[39m_select_forward_and_backward_functions(\n\u001b[1;32m   1865\u001b[0m     args,\n\u001b[1;32m   1866\u001b[0m     possible_gradient_type,\n\u001b[1;32m   1867\u001b[0m     executing_eagerly)\n\u001b[1;32m   1868\u001b[0m forward_function, args_with_tangents \u001b[39m=\u001b[39m forward_backward\u001b[39m.\u001b[39mforward()\n",
      "File \u001b[0;32m~/miniforge3/envs/wannenvjup/lib/python3.10/site-packages/tensorflow/python/eager/function.py:499\u001b[0m, in \u001b[0;36m_EagerDefinedFunction.call\u001b[0;34m(self, ctx, args, cancellation_manager)\u001b[0m\n\u001b[1;32m    497\u001b[0m \u001b[39mwith\u001b[39;00m _InterpolateFunctionError(\u001b[39mself\u001b[39m):\n\u001b[1;32m    498\u001b[0m   \u001b[39mif\u001b[39;00m cancellation_manager \u001b[39mis\u001b[39;00m \u001b[39mNone\u001b[39;00m:\n\u001b[0;32m--> 499\u001b[0m     outputs \u001b[39m=\u001b[39m execute\u001b[39m.\u001b[39;49mexecute(\n\u001b[1;32m    500\u001b[0m         \u001b[39mstr\u001b[39;49m(\u001b[39mself\u001b[39;49m\u001b[39m.\u001b[39;49msignature\u001b[39m.\u001b[39;49mname),\n\u001b[1;32m    501\u001b[0m         num_outputs\u001b[39m=\u001b[39;49m\u001b[39mself\u001b[39;49m\u001b[39m.\u001b[39;49m_num_outputs,\n\u001b[1;32m    502\u001b[0m         inputs\u001b[39m=\u001b[39;49margs,\n\u001b[1;32m    503\u001b[0m         attrs\u001b[39m=\u001b[39;49mattrs,\n\u001b[1;32m    504\u001b[0m         ctx\u001b[39m=\u001b[39;49mctx)\n\u001b[1;32m    505\u001b[0m   \u001b[39melse\u001b[39;00m:\n\u001b[1;32m    506\u001b[0m     outputs \u001b[39m=\u001b[39m execute\u001b[39m.\u001b[39mexecute_with_cancellation(\n\u001b[1;32m    507\u001b[0m         \u001b[39mstr\u001b[39m(\u001b[39mself\u001b[39m\u001b[39m.\u001b[39msignature\u001b[39m.\u001b[39mname),\n\u001b[1;32m    508\u001b[0m         num_outputs\u001b[39m=\u001b[39m\u001b[39mself\u001b[39m\u001b[39m.\u001b[39m_num_outputs,\n\u001b[0;32m   (...)\u001b[0m\n\u001b[1;32m    511\u001b[0m         ctx\u001b[39m=\u001b[39mctx,\n\u001b[1;32m    512\u001b[0m         cancellation_manager\u001b[39m=\u001b[39mcancellation_manager)\n",
      "File \u001b[0;32m~/miniforge3/envs/wannenvjup/lib/python3.10/site-packages/tensorflow/python/eager/execute.py:54\u001b[0m, in \u001b[0;36mquick_execute\u001b[0;34m(op_name, num_outputs, inputs, attrs, ctx, name)\u001b[0m\n\u001b[1;32m     52\u001b[0m \u001b[39mtry\u001b[39;00m:\n\u001b[1;32m     53\u001b[0m   ctx\u001b[39m.\u001b[39mensure_initialized()\n\u001b[0;32m---> 54\u001b[0m   tensors \u001b[39m=\u001b[39m pywrap_tfe\u001b[39m.\u001b[39;49mTFE_Py_Execute(ctx\u001b[39m.\u001b[39;49m_handle, device_name, op_name,\n\u001b[1;32m     55\u001b[0m                                       inputs, attrs, num_outputs)\n\u001b[1;32m     56\u001b[0m \u001b[39mexcept\u001b[39;00m core\u001b[39m.\u001b[39m_NotOkStatusException \u001b[39mas\u001b[39;00m e:\n\u001b[1;32m     57\u001b[0m   \u001b[39mif\u001b[39;00m name \u001b[39mis\u001b[39;00m \u001b[39mnot\u001b[39;00m \u001b[39mNone\u001b[39;00m:\n",
      "\u001b[0;31mKeyboardInterrupt\u001b[0m: "
     ]
    }
   ],
   "source": [
    "history = ae.fit(train, train, epochs=epochs, batch_size=batch_size, validation_data=(val, val), shuffle=True)"
   ]
  },
  {
   "cell_type": "code",
   "execution_count": null,
   "metadata": {},
   "outputs": [
    {
     "name": "stderr",
     "output_type": "stream",
     "text": [
      "2023-01-30 12:54:14.356493: I tensorflow/core/grappler/optimizers/custom_graph_optimizer_registry.cc:114] Plugin optimizer for device_type GPU is enabled.\n"
     ]
    },
    {
     "name": "stdout",
     "output_type": "stream",
     "text": [
      "103/103 [==============================] - 23s 224ms/step\n"
     ]
    }
   ],
   "source": [
    "pred = ae.predict(val)"
   ]
  },
  {
   "cell_type": "code",
   "execution_count": null,
   "metadata": {},
   "outputs": [
    {
     "data": {
      "text/plain": [
       "(3279, 128, 128, 3)"
      ]
     },
     "execution_count": 78,
     "metadata": {},
     "output_type": "execute_result"
    }
   ],
   "source": [
    "pred.shape"
   ]
  },
  {
   "cell_type": "code",
   "execution_count": null,
   "metadata": {},
   "outputs": [
    {
     "data": {
      "image/png": "[encoded data removed]",
      "text/plain": [
       "<Figure size 640x480 with 1 Axes>"
      ]
     },
     "metadata": {},
     "output_type": "display_data"
    }
   ],
   "source": [
    "plot_image(val[0], save=False, i=0)"
   ]
  },
  {
   "cell_type": "code",
   "execution_count": null,
   "metadata": {},
   "outputs": [
    {
     "data": {
      "image/png": "[encoded data removed]",
      "text/plain": [
       "<Figure size 640x480 with 1 Axes>"
      ]
     },
     "metadata": {},
     "output_type": "display_data"
    }
   ],
   "source": [
    "plot_image(pred[0], save=False, i=0)"
   ]
  },
  {
   "attachments": {},
   "cell_type": "markdown",
   "metadata": {},
   "source": [
    "# Other Version"
   ]
  },
  {
   "cell_type": "code",
   "execution_count": 10,
   "metadata": {},
   "outputs": [
    {
     "name": "stdout",
     "output_type": "stream",
     "text": [
      "EPISODE 0 OF 20\n",
      "Metal device set to: Apple M1\n",
      "\n",
      "systemMemory: 16.00 GB\n",
      "maxCacheSize: 5.33 GB\n",
      "\n"
     ]
    },
    {
     "name": "stderr",
     "output_type": "stream",
     "text": [
      "2023-02-13 16:43:25.225580: I tensorflow/core/common_runtime/pluggable_device/pluggable_device_factory.cc:306] Could not identify NUMA node of platform GPU ID 0, defaulting to 0. Your kernel may not have been built with NUMA support.\n",
      "2023-02-13 16:43:25.225685: I tensorflow/core/common_runtime/pluggable_device/pluggable_device_factory.cc:272] Created TensorFlow device (/job:localhost/replica:0/task:0/device:GPU:0 with 0 MB memory) -> physical PluggableDevice (device: 0, name: METAL, pci bus id: <undefined>)\n"
     ]
    },
    {
     "name": "stdout",
     "output_type": "stream",
     "text": [
      "Episode finished after 823 timesteps\n",
      "EPISODE 1 OF 20\n",
      "Episode finished after 2486 timesteps\n",
      "EPISODE 2 OF 20\n",
      "Episode finished after 625 timesteps\n",
      "EPISODE 3 OF 20\n",
      "Episode finished after 1778 timesteps\n",
      "EPISODE 4 OF 20\n",
      "Episode finished after 417 timesteps\n",
      "EPISODE 5 OF 20\n",
      "Episode finished after 1989 timesteps\n",
      "EPISODE 6 OF 20\n",
      "Episode finished after 459 timesteps\n",
      "EPISODE 7 OF 20\n",
      "Episode finished after 582 timesteps\n",
      "EPISODE 8 OF 20\n",
      "Episode finished after 577 timesteps\n",
      "EPISODE 9 OF 20\n",
      "Episode finished after 1642 timesteps\n",
      "EPISODE 10 OF 20\n",
      "Episode finished after 737 timesteps\n",
      "EPISODE 11 OF 20\n",
      "Episode finished after 1879 timesteps\n",
      "EPISODE 12 OF 20\n",
      "Episode finished after 2517 timesteps\n",
      "EPISODE 13 OF 20\n",
      "Episode finished after 1461 timesteps\n",
      "EPISODE 14 OF 20\n",
      "Episode finished after 297 timesteps\n",
      "EPISODE 15 OF 20\n",
      "Episode finished after 674 timesteps\n",
      "EPISODE 16 OF 20\n",
      "Episode finished after 679 timesteps\n",
      "EPISODE 17 OF 20\n",
      "Episode finished after 791 timesteps\n",
      "EPISODE 18 OF 20\n",
      "Episode finished after 734 timesteps\n",
      "EPISODE 19 OF 20\n",
      "Episode finished after 1266 timesteps\n",
      "(17930, 128, 128, 3)\n"
     ]
    }
   ],
   "source": [
    "atari_env_names = ['Assault','DemonAttack','SpaceInvaders','StarGunner','BeamRider','Phoenix']\n",
    "'''atari_env_names = ['Alien','Amidar','Assault','Asterix','Asteroids','Atlantis','DemonAttack','SpaceInvaders','StarGunner',\\\n",
    "                   'Berzerk','Bowling','Boxing','Breakout','Carnival','Centipede','Defender','Enduro',\\\n",
    "                   'Freeway','Frostbite','Gopher','Hero','Jamesbond','Kangaroo','Krull','Phoenix','Pitfall','Pong',\\\n",
    "                   'Pooyan','Qbert','Riverraid','Seaquest','Skiing','Solaris','Tennis','Tutankham','Venture','Zaxxon']'''\n",
    "\n",
    "next_game = str(np.random.choice(atari_env_names,1)[0])\n",
    "env = gym.make(next_game+'-v0',full_action_space=True)\n",
    "state = env.reset()\n",
    "import cv2\n",
    "episodes = 20\n",
    "imgs = []\n",
    "for i_episode in range(episodes):\n",
    "    print(\"EPISODE\",i_episode,\"OF\",episodes)\n",
    "    next_game = str(np.random.choice(atari_env_names,1)[0])\n",
    "    env = gym.make(next_game+'-v0',full_action_space=True)\n",
    "    observation = env.reset()\n",
    "    for t in range(5000):\n",
    "        obj = cv2.resize(env.env.ale.getScreenRGB(), (128,128))\n",
    "        obj = tf.convert_to_tensor(obj,dtype=tf.float32)\n",
    "        imgs.append(obj)\n",
    "        action = env.action_space.sample()\n",
    "        observation, reward, done, info = env.step(action)\n",
    "        if done:\n",
    "            print(\"Episode finished after {} timesteps\".format(t+1))\n",
    "            break\n",
    "        \n",
    "x_imgs = np.array(imgs)\n",
    "x_imgs = x_imgs.astype('float32')\n",
    "x_imgs /= 255\n",
    "train = x_imgs[:len(imgs)*8//10]\n",
    "val = x_imgs[len(imgs)*8//10:]\n",
    "print(train.shape)\n",
    "PROJECT_ROOT_DIR = \"/Users/antoniomone/Desktop/Uni/LEIDEN/THESIS/RLtests/outputs/kerasimgs/\"\n",
    "IMAGES_PATH = os.path.join(PROJECT_ROOT_DIR, \"images\")\n",
    "os.makedirs(IMAGES_PATH, exist_ok=True)\n",
    "\n",
    "def save_fig(fig_id, tight_layout=True, fig_extension=\"png\", resolution=300):\n",
    "    path = os.path.join(IMAGES_PATH, fig_id + \".\" + fig_extension)\n",
    "    print(\"Saving figure\", fig_id)\n",
    "    if tight_layout:\n",
    "        plt.tight_layout()\n",
    "    plt.savefig(path, format=fig_extension, dpi=resolution)\n",
    "\n",
    "def plot_image(image, save=False, i=0):\n",
    "    plt.imshow(image, cmap=\"binary\")\n",
    "    plt.axis(\"off\")\n",
    "    if save:\n",
    "      plt.savefig(str(i) + '.png')\n",
    "\n",
    "def save_image(image, pred, i=0):\n",
    "    ax1 = plt.subplot(1,2,1)\n",
    "    ax2 = plt.subplot(1,2,2)\n",
    "    ax1.imshow(image, cmap=\"binary\")\n",
    "    ax2.imshow(pred, cmap=\"binary\")\n",
    "#    plt.show()\n",
    "#    plt.axis(\"off\")\n",
    "    plt.savefig(str(i) + '.png')\n",
    "    \n",
    "latent_dim = 128"
   ]
  },
  {
   "cell_type": "code",
   "execution_count": 3,
   "metadata": {},
   "outputs": [
    {
     "data": {
      "text/plain": [
       "160"
      ]
     },
     "execution_count": 3,
     "metadata": {},
     "output_type": "execute_result"
    }
   ],
   "source": [
    "from sys import getsizeof\n",
    "getsizeof(train)"
   ]
  },
  {
   "cell_type": "code",
   "execution_count": 3,
   "metadata": {},
   "outputs": [],
   "source": [
    "import tensorflow\n",
    " \n",
    "input_data = tensorflow.keras.layers.Input(shape=(128,128, 3))\n",
    " \n",
    "encoder = tensorflow.keras.layers.Conv2D(128, (5,5), activation='relu')(input_data)\n",
    "#encoder = tensorflow.keras.layers.MaxPooling2D((2,2))(encoder)\n",
    " \n",
    "encoder = tensorflow.keras.layers.Conv2D(64, (3,3), activation='relu')(encoder)\n",
    "encoder = tensorflow.keras.layers.MaxPooling2D((2,2))(encoder)\n",
    " \n",
    "encoder = tensorflow.keras.layers.Conv2D(32, (3,3), activation='relu')(encoder)\n",
    "encoder = tensorflow.keras.layers.MaxPooling2D((2,2))(encoder)\n",
    "\n",
    "#encoder = tensorflow.keras.layers.Conv2D(16, (3,3), activation='relu')(encoder)\n",
    "#encoder = tensorflow.keras.layers.MaxPooling2D((2,2))(encoder)\n",
    " \n",
    "encoder = tensorflow.keras.layers.Flatten()(encoder)\n",
    "encoder = tensorflow.keras.layers.Dense(latent_dim)(encoder)"
   ]
  },
  {
   "cell_type": "code",
   "execution_count": 16,
   "metadata": {},
   "outputs": [],
   "source": [
    "class Sampling(tf.keras.layers.Layer):\n",
    "    \"\"\"\n",
    "    Custom layer for the variational autoencoder\n",
    "    It takes two vectors as input - one for means and other for variances of the latent variables described by a multimodal gaussian\n",
    "    Its output is a latent vector randomly sampled from this distribution\n",
    "    \"\"\"\n",
    "    def call(self, inputs):\n",
    "        z_mean, z_var = inputs\n",
    "        batch = K.shape(z_mean)[0]\n",
    "        dim = K.int_shape(z_mean)[1]\n",
    "        epsilon = K.random_normal(shape=(batch, dim))\n",
    "        return z_mean + K.exp(0.5 * z_var) * epsilon"
   ]
  },
  {
   "cell_type": "code",
   "execution_count": 6,
   "metadata": {},
   "outputs": [],
   "source": [
    "def sample_latent_features(distribution):\n",
    "    distribution_mean, distribution_variance = distribution\n",
    "    batch_size = tensorflow.shape(distribution_variance)[0]\n",
    "    random = tensorflow.keras.backend.random_normal(shape=(batch_size, tensorflow.shape(distribution_variance)[1]))\n",
    "    return distribution_mean + tensorflow.exp(0.5 * distribution_variance) * random\n",
    " \n",
    "distribution_mean = tensorflow.keras.layers.Dense(latent_dim, name='mean')(encoder)\n",
    "distribution_variance = tensorflow.keras.layers.Dense(latent_dim, name='log_variance')(encoder)\n",
    "z = tensorflow.keras.layers.Lambda(sample_latent_features)([distribution_mean, distribution_variance])"
   ]
  },
  {
   "cell_type": "code",
   "execution_count": 17,
   "metadata": {},
   "outputs": [],
   "source": [
    "distribution_mean = tensorflow.keras.layers.Dense(latent_dim, name='mean')(encoder)\n",
    "distribution_variance = tensorflow.keras.layers.Dense(latent_dim, name='log_variance')(encoder)\n",
    "z = Sampling()([distribution_mean, distribution_variance])"
   ]
  },
  {
   "cell_type": "code",
   "execution_count": 7,
   "metadata": {},
   "outputs": [
    {
     "name": "stdout",
     "output_type": "stream",
     "text": [
      "Model: \"model\"\n",
      "__________________________________________________________________________________________________\n",
      " Layer (type)                   Output Shape         Param #     Connected to                     \n",
      "==================================================================================================\n",
      " input_1 (InputLayer)           [(None, 128, 128, 3  0           []                               \n",
      "                                )]                                                                \n",
      "                                                                                                  \n",
      " conv2d (Conv2D)                (None, 124, 124, 12  9728        ['input_1[0][0]']                \n",
      "                                8)                                                                \n",
      "                                                                                                  \n",
      " conv2d_1 (Conv2D)              (None, 122, 122, 64  73792       ['conv2d[0][0]']                 \n",
      "                                )                                                                 \n",
      "                                                                                                  \n",
      " max_pooling2d (MaxPooling2D)   (None, 61, 61, 64)   0           ['conv2d_1[0][0]']               \n",
      "                                                                                                  \n",
      " conv2d_2 (Conv2D)              (None, 59, 59, 32)   18464       ['max_pooling2d[0][0]']          \n",
      "                                                                                                  \n",
      " max_pooling2d_1 (MaxPooling2D)  (None, 29, 29, 32)  0           ['conv2d_2[0][0]']               \n",
      "                                                                                                  \n",
      " flatten (Flatten)              (None, 26912)        0           ['max_pooling2d_1[0][0]']        \n",
      "                                                                                                  \n",
      " dense (Dense)                  (None, 128)          3444864     ['flatten[0][0]']                \n",
      "                                                                                                  \n",
      " mean (Dense)                   (None, 128)          16512       ['dense[0][0]']                  \n",
      "                                                                                                  \n",
      " log_variance (Dense)           (None, 128)          16512       ['dense[0][0]']                  \n",
      "                                                                                                  \n",
      " lambda_1 (Lambda)              (None, 128)          0           ['mean[0][0]',                   \n",
      "                                                                  'log_variance[0][0]']           \n",
      "                                                                                                  \n",
      "==================================================================================================\n",
      "Total params: 3,579,872\n",
      "Trainable params: 3,579,872\n",
      "Non-trainable params: 0\n",
      "__________________________________________________________________________________________________\n"
     ]
    }
   ],
   "source": [
    "encoder_model = tensorflow.keras.Model(input_data, z)\n",
    "encoder_model.summary()"
   ]
  },
  {
   "cell_type": "code",
   "execution_count": null,
   "metadata": {},
   "outputs": [
    {
     "name": "stdout",
     "output_type": "stream",
     "text": [
      "Metal device set to: Apple M1\n",
      "\n",
      "systemMemory: 16.00 GB\n",
      "maxCacheSize: 5.33 GB\n",
      "\n"
     ]
    },
    {
     "name": "stderr",
     "output_type": "stream",
     "text": [
      "2023-02-05 02:08:45.360842: I tensorflow/core/common_runtime/pluggable_device/pluggable_device_factory.cc:306] Could not identify NUMA node of platform GPU ID 0, defaulting to 0. Your kernel may not have been built with NUMA support.\n",
      "2023-02-05 02:08:45.361003: I tensorflow/core/common_runtime/pluggable_device/pluggable_device_factory.cc:272] Created TensorFlow device (/job:localhost/replica:0/task:0/device:GPU:0 with 0 MB memory) -> physical PluggableDevice (device: 0, name: METAL, pci bus id: <undefined>)\n",
      "2023-02-05 02:08:45.369992: I tensorflow/compiler/mlir/mlir_graph_optimization_pass.cc:354] MLIR V1 optimization pass is not enabled\n",
      "2023-02-05 02:08:45.371388: W tensorflow/core/platform/profile_utils/cpu_utils.cc:128] Failed to get CPU frequency: 0 Hz\n",
      "2023-02-05 02:08:45.371867: I tensorflow/core/grappler/optimizers/custom_graph_optimizer_registry.cc:114] Plugin optimizer for device_type GPU is enabled.\n",
      "2023-02-05 02:08:45.390176: I tensorflow/core/grappler/optimizers/custom_graph_optimizer_registry.cc:114] Plugin optimizer for device_type GPU is enabled.\n",
      "2023-02-05 02:08:45.444857: I tensorflow/core/grappler/optimizers/custom_graph_optimizer_registry.cc:114] Plugin optimizer for device_type GPU is enabled.\n"
     ]
    }
   ],
   "source": [
    "#encoder_model.save('/Users/antoniomone/Desktop/Uni/LEIDEN/THESIS/RLtests/models/encoder128.h5')\n",
    "#encoder_model.load_weights('/Users/antoniomone/Desktop/Uni/LEIDEN/THESIS/RLtests/models/encoder128_w.h5')"
   ]
  },
  {
   "cell_type": "code",
   "execution_count": 8,
   "metadata": {},
   "outputs": [
    {
     "name": "stdout",
     "output_type": "stream",
     "text": [
      "Model: \"model_1\"\n",
      "_________________________________________________________________\n",
      " Layer (type)                Output Shape              Param #   \n",
      "=================================================================\n",
      " input_2 (InputLayer)        [(None, 128)]             0         \n",
      "                                                                 \n",
      " dense_1 (Dense)             (None, 49152)             6340608   \n",
      "                                                                 \n",
      " reshape (Reshape)           (None, 128, 128, 3)       0         \n",
      "                                                                 \n",
      " conv2d_transpose (Conv2DTra  (None, 128, 128, 32)     896       \n",
      " nspose)                                                         \n",
      "                                                                 \n",
      " conv2d_transpose_1 (Conv2DT  (None, 128, 128, 64)     18496     \n",
      " ranspose)                                                       \n",
      "                                                                 \n",
      " conv2d_transpose_2 (Conv2DT  (None, 128, 128, 128)    73856     \n",
      " ranspose)                                                       \n",
      "                                                                 \n",
      " batch_normalization (BatchN  (None, 128, 128, 128)    512       \n",
      " ormalization)                                                   \n",
      "                                                                 \n",
      " conv2d_transpose_3 (Conv2DT  (None, 128, 128, 3)      3459      \n",
      " ranspose)                                                       \n",
      "                                                                 \n",
      "=================================================================\n",
      "Total params: 6,437,827\n",
      "Trainable params: 6,437,571\n",
      "Non-trainable params: 256\n",
      "_________________________________________________________________\n"
     ]
    },
    {
     "data": {
      "text/plain": [
       "\"\\ndec = Sequential([\\n    Dense(128*128*3, activation='relu'),\\n    Reshape((128,128,3)),\\n    Conv2DTranspose(128, 3, padding='same', activation='relu'),\\n    BatchNormalization(),\\n    Conv2DTranspose(3, 3, padding='same', activation='sigmoid')\\n])\\n\\n\\ndec = Sequential([\\n                  Dense(256, activation='selu', input_shape=(16,), kernel_initializer='he_normal'),\\n                  Dropout(0.2),\\n                  Dense(512, activation='selu', kernel_initializer='he_normal'),\\n                  Dropout(0.2),\\n                  Dense(256, activation='selu', kernel_initializer='he_normal'),\\n                  Dropout(0.2),\\n                  Dense(84*84*3, activation='selu'),\\n                  Reshape((84,84,3)),\\n                  Conv2DTranspose(128, 3, padding='same', activation='selu'),\\n                  BatchNormalization(),\\n                  Conv2DTranspose(3, 3, padding='same', activation='sigmoid')\\n])\""
      ]
     },
     "execution_count": 8,
     "metadata": {},
     "output_type": "execute_result"
    }
   ],
   "source": [
    "decoder_input = tensorflow.keras.layers.Input(shape=(latent_dim))\n",
    "decoder = tensorflow.keras.layers.Dense(128*128*3)(decoder_input)\n",
    "decoder = tensorflow.keras.layers.Reshape((128,128, 3))(decoder)\n",
    "decoder = tensorflow.keras.layers.Conv2DTranspose(32, 3, activation='relu',padding='same')(decoder)\n",
    "decoder = tensorflow.keras.layers.Conv2DTranspose(64, 3, activation='relu',padding='same')(decoder)\n",
    "decoder = tensorflow.keras.layers.Conv2DTranspose(128, 3, activation='relu',padding='same')(decoder)\n",
    "decoder = tensorflow.keras.layers.BatchNormalization()(decoder) \n",
    "decoder_output = tensorflow.keras.layers.Conv2DTranspose(3, 3, activation='sigmoid',padding='same')(decoder)\n",
    "#decoder = tensorflow.keras.layers.UpSampling2D((2,2))(decoder)\n",
    " \n",
    "#decoder = tensorflow.keras.layers.Conv2DTranspose(64, (4,4), activation='relu')(decoder)\n",
    "#decoder = tensorflow.keras.layers.UpSampling2D((2,2))(decoder)\n",
    " \n",
    "#decoder_output = tensorflow.keras.layers.Conv2DTranspose(1, (5,5), activation='relu')(decoder)\n",
    "\n",
    "decoder_model = tensorflow.keras.Model(decoder_input, decoder_output)\n",
    "decoder_model.summary()\n",
    "\n",
    "'''\n",
    "dec = Sequential([\n",
    "    Dense(128*128*3, activation='relu'),\n",
    "    Reshape((128,128,3)),\n",
    "    Conv2DTranspose(128, 3, padding='same', activation='relu'),\n",
    "    BatchNormalization(),\n",
    "    Conv2DTranspose(3, 3, padding='same', activation='sigmoid')\n",
    "])\n",
    "\n",
    "\n",
    "dec = Sequential([\n",
    "                  Dense(256, activation='selu', input_shape=(16,), kernel_initializer='he_normal'),\n",
    "                  Dropout(0.2),\n",
    "                  Dense(512, activation='selu', kernel_initializer='he_normal'),\n",
    "                  Dropout(0.2),\n",
    "                  Dense(256, activation='selu', kernel_initializer='he_normal'),\n",
    "                  Dropout(0.2),\n",
    "                  Dense(84*84*3, activation='selu'),\n",
    "                  Reshape((84,84,3)),\n",
    "                  Conv2DTranspose(128, 3, padding='same', activation='selu'),\n",
    "                  BatchNormalization(),\n",
    "                  Conv2DTranspose(3, 3, padding='same', activation='sigmoid')\n",
    "])'''"
   ]
  },
  {
   "cell_type": "code",
   "execution_count": null,
   "metadata": {},
   "outputs": [
    {
     "name": "stderr",
     "output_type": "stream",
     "text": [
      "2023-02-05 02:08:45.707497: I tensorflow/core/grappler/optimizers/custom_graph_optimizer_registry.cc:114] Plugin optimizer for device_type GPU is enabled.\n",
      "2023-02-05 02:08:45.722962: I tensorflow/core/grappler/optimizers/custom_graph_optimizer_registry.cc:114] Plugin optimizer for device_type GPU is enabled.\n",
      "2023-02-05 02:08:45.809093: I tensorflow/core/grappler/optimizers/custom_graph_optimizer_registry.cc:114] Plugin optimizer for device_type GPU is enabled.\n"
     ]
    }
   ],
   "source": [
    "#decoder_model.load_weights('/Users/antoniomone/Desktop/Uni/LEIDEN/THESIS/RLtests/models/decoder128_w.h5')\n",
    "#decoder_model.save_weights('/Users/antoniomone/Desktop/Uni/LEIDEN/THESIS/RLtests/models/decoder128_w.h5')"
   ]
  },
  {
   "cell_type": "code",
   "execution_count": 9,
   "metadata": {},
   "outputs": [
    {
     "name": "stdout",
     "output_type": "stream",
     "text": [
      "Model: \"model_2\"\n",
      "_________________________________________________________________\n",
      " Layer (type)                Output Shape              Param #   \n",
      "=================================================================\n",
      " input_1 (InputLayer)        [(None, 128, 128, 3)]     0         \n",
      "                                                                 \n",
      " model (Functional)          (None, 128)               3579872   \n",
      "                                                                 \n",
      " model_1 (Functional)        (None, 128, 128, 3)       6437827   \n",
      "                                                                 \n",
      "=================================================================\n",
      "Total params: 10,017,699\n",
      "Trainable params: 10,017,443\n",
      "Non-trainable params: 256\n",
      "_________________________________________________________________\n"
     ]
    }
   ],
   "source": [
    "encoded = encoder_model(input_data)\n",
    "decoded = decoder_model(encoded)\n",
    "autoencoder = tensorflow.keras.models.Model(input_data, decoded)\n",
    "autoencoder.summary()"
   ]
  },
  {
   "cell_type": "code",
   "execution_count": null,
   "metadata": {},
   "outputs": [
    {
     "name": "stderr",
     "output_type": "stream",
     "text": [
      "2023-02-05 02:08:51.382084: I tensorflow/core/grappler/optimizers/custom_graph_optimizer_registry.cc:114] Plugin optimizer for device_type GPU is enabled.\n"
     ]
    }
   ],
   "source": [
    "#autoencoder.save_weights('/Users/antoniomone/Desktop/Uni/LEIDEN/THESIS/RLtests/models/vae128_w.h5')\n",
    "#autoencoder.load_weights('/Users/antoniomone/Desktop/Uni/LEIDEN/THESIS/RLtests/models/vae128_w.h5')"
   ]
  },
  {
   "cell_type": "code",
   "execution_count": 10,
   "metadata": {},
   "outputs": [],
   "source": [
    "def get_loss(distribution_mean, distribution_variance):\n",
    "     \n",
    "    def get_reconstruction_loss(y_true, y_pred):\n",
    "        reconstruction_loss = tensorflow.keras.losses.mse(y_true, y_pred)\n",
    "        reconstruction_loss_batch = tensorflow.reduce_mean(reconstruction_loss)\n",
    "        return reconstruction_loss_batch*128*128*3\n",
    "     \n",
    "    def get_kl_loss(distribution_mean, distribution_variance):\n",
    "        kl_loss = 1 + distribution_variance - tensorflow.square(distribution_mean) - tensorflow.exp(distribution_variance)\n",
    "        kl_loss_batch = tensorflow.reduce_mean(kl_loss)\n",
    "        return kl_loss_batch*(-0.5)\n",
    "     \n",
    "    def total_loss(y_true, y_pred):\n",
    "        reconstruction_loss_batch = get_reconstruction_loss(y_true, y_pred)\n",
    "        kl_loss_batch = get_kl_loss(distribution_mean, distribution_variance)\n",
    "        return reconstruction_loss_batch + kl_loss_batch\n",
    "     \n",
    "    return total_loss"
   ]
  },
  {
   "cell_type": "code",
   "execution_count": 11,
   "metadata": {},
   "outputs": [],
   "source": [
    "autoencoder.compile(loss=get_loss(distribution_mean, distribution_variance), optimizer='adam')"
   ]
  },
  {
   "cell_type": "code",
   "execution_count": 23,
   "metadata": {},
   "outputs": [],
   "source": [
    "from tensorflow.python.framework.ops import disable_eager_execution\n",
    "\n",
    "disable_eager_execution()"
   ]
  },
  {
   "cell_type": "code",
   "execution_count": 12,
   "metadata": {},
   "outputs": [
    {
     "name": "stdout",
     "output_type": "stream",
     "text": [
      "Epoch 1/20\n"
     ]
    },
    {
     "name": "stderr",
     "output_type": "stream",
     "text": [
      "2023-02-13 16:24:07.527042: W tensorflow/core/platform/profile_utils/cpu_utils.cc:128] Failed to get CPU frequency: 0 Hz\n"
     ]
    },
    {
     "ename": "TypeError",
     "evalue": "in user code:\n\n    File \"/Users/antoniomone/miniforge3/envs/wannenvjup/lib/python3.10/site-packages/keras/engine/training.py\", line 1160, in train_function  *\n        return step_function(self, iterator)\n    File \"/Users/antoniomone/miniforge3/envs/wannenvjup/lib/python3.10/site-packages/keras/engine/training.py\", line 1146, in step_function  **\n        outputs = model.distribute_strategy.run(run_step, args=(data,))\n    File \"/Users/antoniomone/miniforge3/envs/wannenvjup/lib/python3.10/site-packages/keras/engine/training.py\", line 1135, in run_step  **\n        outputs = model.train_step(data)\n    File \"/Users/antoniomone/miniforge3/envs/wannenvjup/lib/python3.10/site-packages/keras/engine/training.py\", line 994, in train_step\n        loss = self.compute_loss(x, y, y_pred, sample_weight)\n    File \"/Users/antoniomone/miniforge3/envs/wannenvjup/lib/python3.10/site-packages/keras/engine/training.py\", line 1052, in compute_loss\n        return self.compiled_loss(\n    File \"/Users/antoniomone/miniforge3/envs/wannenvjup/lib/python3.10/site-packages/keras/engine/compile_utils.py\", line 317, in __call__\n        self._total_loss_mean.update_state(\n    File \"/Users/antoniomone/miniforge3/envs/wannenvjup/lib/python3.10/site-packages/keras/utils/metrics_utils.py\", line 77, in decorated\n        update_op = update_state_fn(*args, **kwargs)\n    File \"/Users/antoniomone/miniforge3/envs/wannenvjup/lib/python3.10/site-packages/keras/metrics/base_metric.py\", line 143, in update_state_fn\n        return ag_update_state(*args, **kwargs)\n    File \"/Users/antoniomone/miniforge3/envs/wannenvjup/lib/python3.10/site-packages/keras/metrics/base_metric.py\", line 486, in update_state  **\n        sample_weight = tf.__internal__.ops.broadcast_weights(\n    File \"/Users/antoniomone/miniforge3/envs/wannenvjup/lib/python3.10/site-packages/keras/engine/keras_tensor.py\", line 283, in __array__\n        raise TypeError(\n\n    TypeError: You are passing KerasTensor(type_spec=TensorSpec(shape=(), dtype=tf.float32, name=None), name='Placeholder:0', description=\"created by layer 'tf.cast_2'\"), an intermediate Keras symbolic input/output, to a TF API that does not allow registering custom dispatchers, such as `tf.cond`, `tf.function`, gradient tapes, or `tf.map_fn`. Keras Functional model construction only supports TF API calls that *do* support dispatching, such as `tf.math.add` or `tf.reshape`. Other APIs cannot be called directly on symbolic Kerasinputs/outputs. You can work around this limitation by putting the operation in a custom Keras layer `call` and calling that layer on this symbolic input/output.\n",
     "output_type": "error",
     "traceback": [
      "\u001b[0;31m---------------------------------------------------------------------------\u001b[0m",
      "\u001b[0;31mTypeError\u001b[0m                                 Traceback (most recent call last)",
      "Cell \u001b[0;32mIn[12], line 1\u001b[0m\n\u001b[0;32m----> 1\u001b[0m autoencoder\u001b[39m.\u001b[39;49mfit(train, train, epochs\u001b[39m=\u001b[39;49m\u001b[39m20\u001b[39;49m, batch_size\u001b[39m=\u001b[39;49m\u001b[39m128\u001b[39;49m, validation_data\u001b[39m=\u001b[39;49m(val, val))\n",
      "File \u001b[0;32m~/miniforge3/envs/wannenvjup/lib/python3.10/site-packages/keras/utils/traceback_utils.py:70\u001b[0m, in \u001b[0;36mfilter_traceback.<locals>.error_handler\u001b[0;34m(*args, **kwargs)\u001b[0m\n\u001b[1;32m     67\u001b[0m     filtered_tb \u001b[39m=\u001b[39m _process_traceback_frames(e\u001b[39m.\u001b[39m__traceback__)\n\u001b[1;32m     68\u001b[0m     \u001b[39m# To get the full stack trace, call:\u001b[39;00m\n\u001b[1;32m     69\u001b[0m     \u001b[39m# `tf.debugging.disable_traceback_filtering()`\u001b[39;00m\n\u001b[0;32m---> 70\u001b[0m     \u001b[39mraise\u001b[39;00m e\u001b[39m.\u001b[39mwith_traceback(filtered_tb) \u001b[39mfrom\u001b[39;00m \u001b[39mNone\u001b[39m\n\u001b[1;32m     71\u001b[0m \u001b[39mfinally\u001b[39;00m:\n\u001b[1;32m     72\u001b[0m     \u001b[39mdel\u001b[39;00m filtered_tb\n",
      "File \u001b[0;32m/var/folders/yn/s9pl9_1s0jg71m1mlyb_160w0000gn/T/__autograph_generated_file0r0m6fxk.py:15\u001b[0m, in \u001b[0;36mouter_factory.<locals>.inner_factory.<locals>.tf__train_function\u001b[0;34m(iterator)\u001b[0m\n\u001b[1;32m     13\u001b[0m \u001b[39mtry\u001b[39;00m:\n\u001b[1;32m     14\u001b[0m     do_return \u001b[39m=\u001b[39m \u001b[39mTrue\u001b[39;00m\n\u001b[0;32m---> 15\u001b[0m     retval_ \u001b[39m=\u001b[39m ag__\u001b[39m.\u001b[39mconverted_call(ag__\u001b[39m.\u001b[39mld(step_function), (ag__\u001b[39m.\u001b[39mld(\u001b[39mself\u001b[39m), ag__\u001b[39m.\u001b[39mld(iterator)), \u001b[39mNone\u001b[39;00m, fscope)\n\u001b[1;32m     16\u001b[0m \u001b[39mexcept\u001b[39;00m:\n\u001b[1;32m     17\u001b[0m     do_return \u001b[39m=\u001b[39m \u001b[39mFalse\u001b[39;00m\n",
      "\u001b[0;31mTypeError\u001b[0m: in user code:\n\n    File \"/Users/antoniomone/miniforge3/envs/wannenvjup/lib/python3.10/site-packages/keras/engine/training.py\", line 1160, in train_function  *\n        return step_function(self, iterator)\n    File \"/Users/antoniomone/miniforge3/envs/wannenvjup/lib/python3.10/site-packages/keras/engine/training.py\", line 1146, in step_function  **\n        outputs = model.distribute_strategy.run(run_step, args=(data,))\n    File \"/Users/antoniomone/miniforge3/envs/wannenvjup/lib/python3.10/site-packages/keras/engine/training.py\", line 1135, in run_step  **\n        outputs = model.train_step(data)\n    File \"/Users/antoniomone/miniforge3/envs/wannenvjup/lib/python3.10/site-packages/keras/engine/training.py\", line 994, in train_step\n        loss = self.compute_loss(x, y, y_pred, sample_weight)\n    File \"/Users/antoniomone/miniforge3/envs/wannenvjup/lib/python3.10/site-packages/keras/engine/training.py\", line 1052, in compute_loss\n        return self.compiled_loss(\n    File \"/Users/antoniomone/miniforge3/envs/wannenvjup/lib/python3.10/site-packages/keras/engine/compile_utils.py\", line 317, in __call__\n        self._total_loss_mean.update_state(\n    File \"/Users/antoniomone/miniforge3/envs/wannenvjup/lib/python3.10/site-packages/keras/utils/metrics_utils.py\", line 77, in decorated\n        update_op = update_state_fn(*args, **kwargs)\n    File \"/Users/antoniomone/miniforge3/envs/wannenvjup/lib/python3.10/site-packages/keras/metrics/base_metric.py\", line 143, in update_state_fn\n        return ag_update_state(*args, **kwargs)\n    File \"/Users/antoniomone/miniforge3/envs/wannenvjup/lib/python3.10/site-packages/keras/metrics/base_metric.py\", line 486, in update_state  **\n        sample_weight = tf.__internal__.ops.broadcast_weights(\n    File \"/Users/antoniomone/miniforge3/envs/wannenvjup/lib/python3.10/site-packages/keras/engine/keras_tensor.py\", line 283, in __array__\n        raise TypeError(\n\n    TypeError: You are passing KerasTensor(type_spec=TensorSpec(shape=(), dtype=tf.float32, name=None), name='Placeholder:0', description=\"created by layer 'tf.cast_2'\"), an intermediate Keras symbolic input/output, to a TF API that does not allow registering custom dispatchers, such as `tf.cond`, `tf.function`, gradient tapes, or `tf.map_fn`. Keras Functional model construction only supports TF API calls that *do* support dispatching, such as `tf.math.add` or `tf.reshape`. Other APIs cannot be called directly on symbolic Kerasinputs/outputs. You can work around this limitation by putting the operation in a custom Keras layer `call` and calling that layer on this symbolic input/output.\n"
     ]
    }
   ],
   "source": [
    "autoencoder.fit(train, train, epochs=20, batch_size=128, validation_data=(val, val))"
   ]
  },
  {
   "cell_type": "code",
   "execution_count": null,
   "metadata": {},
   "outputs": [],
   "source": [
    "encoder_model.save_weights('/Users/antoniomone/Desktop/Uni/LEIDEN/THESIS/RLtests/models/encoder128_w.h5')\n",
    "decoder_model.save_weights('/Users/antoniomone/Desktop/Uni/LEIDEN/THESIS/RLtests/models/decoder128_w.h5')\n",
    "autoencoder.save_weights('/Users/antoniomone/Desktop/Uni/LEIDEN/THESIS/RLtests/models/vae128_w.h5')"
   ]
  },
  {
   "attachments": {},
   "cell_type": "markdown",
   "metadata": {},
   "source": [
    "# Checks"
   ]
  },
  {
   "cell_type": "code",
   "execution_count": 16,
   "metadata": {},
   "outputs": [
    {
     "ename": "TypeError",
     "evalue": "'MyVariationalAutoencoder' object is not callable",
     "output_type": "error",
     "traceback": [
      "\u001b[0;31m---------------------------------------------------------------------------\u001b[0m",
      "\u001b[0;31mTypeError\u001b[0m                                 Traceback (most recent call last)",
      "Cell \u001b[0;32mIn[16], line 1\u001b[0m\n\u001b[0;32m----> 1\u001b[0m pred \u001b[39m=\u001b[39m vae(val)\n",
      "\u001b[0;31mTypeError\u001b[0m: 'MyVariationalAutoencoder' object is not callable"
     ]
    }
   ],
   "source": [
    "pred = autoencoder.predict(val) #after 80 epochs"
   ]
  },
  {
   "cell_type": "code",
   "execution_count": 27,
   "metadata": {},
   "outputs": [
    {
     "data": {
      "image/png": "[encoded data removed]",
      "text/plain": [
       "<Figure size 640x480 with 1 Axes>"
      ]
     },
     "metadata": {},
     "output_type": "display_data"
    }
   ],
   "source": [
    "plot_image(val[3000], save=False, i=0)"
   ]
  },
  {
   "cell_type": "code",
   "execution_count": 28,
   "metadata": {},
   "outputs": [
    {
     "data": {
      "image/png": "[encoded data removed]",
      "text/plain": [
       "<Figure size 640x480 with 1 Axes>"
      ]
     },
     "metadata": {},
     "output_type": "display_data"
    }
   ],
   "source": [
    "plot_image(pred[3000],save=False, i=0)"
   ]
  },
  {
   "cell_type": "code",
   "execution_count": 29,
   "metadata": {},
   "outputs": [
    {
     "name": "stderr",
     "output_type": "stream",
     "text": [
      "2023-02-13 16:21:16.916343: I tensorflow/core/grappler/optimizers/custom_graph_optimizer_registry.cc:114] Plugin optimizer for device_type GPU is enabled.\n",
      "2023-02-13 16:21:17.023414: I tensorflow/core/grappler/optimizers/custom_graph_optimizer_registry.cc:114] Plugin optimizer for device_type GPU is enabled.\n"
     ]
    },
    {
     "data": {
      "image/png": "[encoded data removed]",
      "text/plain": [
       "<Figure size 640x480 with 1 Axes>"
      ]
     },
     "metadata": {},
     "output_type": "display_data"
    }
   ],
   "source": [
    "nextimage = np.reshape(val[3000],(1,128,128,3))\n",
    "enc_image = encoder_model.predict(nextimage)\n",
    "dec_image = decoder_model.predict(enc_image)\n",
    "final_image = np.reshape(dec_image,(128,128,3))\n",
    "plot_image(final_image,save=False)"
   ]
  },
  {
   "cell_type": "code",
   "execution_count": 30,
   "metadata": {},
   "outputs": [
    {
     "name": "stdout",
     "output_type": "stream",
     "text": [
      "Playing StarGunner\n",
      "Game: 1 Score: 800.0 After 868 steps\n",
      "Playing Assault\n",
      "Game: 2 Score: 399.0 After 815 steps\n",
      "Playing DemonAttack\n",
      "Game: 3 Score: 190.0 After 1337 steps\n",
      "Playing Phoenix\n",
      "Game: 4 Score: 760.0 After 922 steps\n",
      "Playing Phoenix\n",
      "Game: 5 Score: 1730.0 After 1052 steps\n",
      "Highest Score: 1730.0 Average of: 193.95 over 20 episodes\n"
     ]
    },
    {
     "data": {
      "image/png": "[encoded data removed]",
      "text/plain": [
       "<Figure size 640x480 with 2 Axes>"
      ]
     },
     "metadata": {},
     "output_type": "display_data"
    }
   ],
   "source": [
    "test_ep = 5\n",
    "\n",
    "highest_score = 0\n",
    "average = 0\n",
    "\n",
    "for episode in range(test_ep):\n",
    "    next_game = str(np.random.choice(atari_env_names,1)[0])\n",
    "    env = gym.make(next_game+'-v0',full_action_space=True)\n",
    "    print(\"Playing\",next_game)\n",
    "    state = env.reset()\n",
    "    #print(\"Assault state\",state.shape)\n",
    "    done = False\n",
    "    score = 0\n",
    "    i=0\n",
    "    while not done:\n",
    "        action = env.action_space.sample()\n",
    "        #print(\"ACTION:\",action) #simply an int for Atari\n",
    "        #print(\"Action type\",type(action))\n",
    "        n_state, reward, done, info = env.step(action)\n",
    "        #print(\"obs shape\",n_state.shape)\n",
    "        if i==256:\n",
    "            res = cv2.resize(env.env.ale.getScreenRGB(),(128,128))\n",
    "            to_eval = np.reshape(res,(1,128,128,3))\n",
    "            encoded_image = encoder_model.predict(to_eval)\n",
    "            #print(\"ENCODED IMAGE\",encoded_image)\n",
    "            #print(\"ENCODED IMAGE SHAPE\",encoded_image.shape)\n",
    "            decoded_image = decoder_model.predict(encoded_image)\n",
    "            to_comp = np.reshape(decoded_image,(128,128,3))\n",
    "            to_eval = np.reshape(res,(128,128,3))\n",
    "            save_image(to_eval,to_comp,i=i)\n",
    "        score+=reward\n",
    "        i+=1\n",
    "    print(\"Game: {} Score: {} After {} steps\".format(episode+1,score,i))\n",
    "    if score > highest_score:\n",
    "        highest_score=score\n",
    "    average += score\n",
    "    final_avg = average/episodes\n",
    "    \n",
    "print(\"Highest Score:\",highest_score,\"Average of:\",final_avg,\"over\",episodes,\"episodes\")\n",
    "env.close()\n"
   ]
  },
  {
   "cell_type": "code",
   "execution_count": null,
   "metadata": {},
   "outputs": [],
   "source": [
    "plot_image(env.env.ale.getScreenRGB())"
   ]
  },
  {
   "cell_type": "code",
   "execution_count": null,
   "metadata": {},
   "outputs": [
    {
     "name": "stdout",
     "output_type": "stream",
     "text": [
      "WARNING:tensorflow:No training configuration found in the save file, so the model was *not* compiled. Compile it manually.\n"
     ]
    },
    {
     "name": "stderr",
     "output_type": "stream",
     "text": [
      "2023-02-04 18:48:16.755282: I tensorflow/core/grappler/optimizers/custom_graph_optimizer_registry.cc:114] Plugin optimizer for device_type GPU is enabled.\n",
      "2023-02-04 18:48:16.792836: I tensorflow/core/grappler/optimizers/custom_graph_optimizer_registry.cc:114] Plugin optimizer for device_type GPU is enabled.\n",
      "2023-02-04 18:48:16.864492: I tensorflow/core/grappler/optimizers/custom_graph_optimizer_registry.cc:114] Plugin optimizer for device_type GPU is enabled.\n"
     ]
    }
   ],
   "source": [
    "new_enc = keras.models.load_model('/Users/antoniomone/Desktop/Uni/LEIDEN/THESIS/RLtests/models/encoder128.h5')"
   ]
  },
  {
   "attachments": {},
   "cell_type": "markdown",
   "metadata": {},
   "source": [
    "# WANDB (OPTIONAL)"
   ]
  },
  {
   "cell_type": "code",
   "execution_count": null,
   "metadata": {},
   "outputs": [],
   "source": [
    "import wandb\n",
    "from wandb.keras import WandbMetricsLogger, WandbModelCheckpoint\n",
    "latent_dim = 128\n",
    "epochs = 15\n",
    "batch = 64"
   ]
  },
  {
   "cell_type": "code",
   "execution_count": null,
   "metadata": {},
   "outputs": [
    {
     "name": "stdout",
     "output_type": "stream",
     "text": [
      "True\n"
     ]
    }
   ],
   "source": [
    "print(tf.executing_eagerly())"
   ]
  },
  {
   "cell_type": "code",
   "execution_count": null,
   "metadata": {},
   "outputs": [
    {
     "name": "stderr",
     "output_type": "stream",
     "text": [
      "Failed to detect the name of this notebook, you can set it manually with the WANDB_NOTEBOOK_NAME environment variable to enable code saving.\n",
      "\u001b[34m\u001b[1mwandb\u001b[0m: Currently logged in as: \u001b[33mantoniomone97\u001b[0m. Use \u001b[1m`wandb login --relogin`\u001b[0m to force relogin\n"
     ]
    },
    {
     "data": {
      "text/html": [
       "Tracking run with wandb version 0.13.9"
      ],
      "text/plain": [
       "<IPython.core.display.HTML object>"
      ]
     },
     "metadata": {},
     "output_type": "display_data"
    },
    {
     "data": {
      "text/html": [
       "Run data is saved locally in <code>/Users/antoniomone/Desktop/Uni/LEIDEN/THESIS/RLtests/wandb/run-20230205_015926-t2bbco67</code>"
      ],
      "text/plain": [
       "<IPython.core.display.HTML object>"
      ]
     },
     "metadata": {},
     "output_type": "display_data"
    },
    {
     "data": {
      "text/html": [
       "Syncing run <strong><a href=\"https://wandb.ai/antoniomone97/vae-improver/runs/t2bbco67\" target=\"_blank\">vibrant-dog-23</a></strong> to <a href=\"https://wandb.ai/antoniomone97/vae-improver\" target=\"_blank\">Weights & Biases</a> (<a href=\"https://wandb.me/run\" target=\"_blank\">docs</a>)<br/>"
      ],
      "text/plain": [
       "<IPython.core.display.HTML object>"
      ]
     },
     "metadata": {},
     "output_type": "display_data"
    },
    {
     "data": {
      "text/html": [
       " View project at <a href=\"https://wandb.ai/antoniomone97/vae-improver\" target=\"_blank\">https://wandb.ai/antoniomone97/vae-improver</a>"
      ],
      "text/plain": [
       "<IPython.core.display.HTML object>"
      ]
     },
     "metadata": {},
     "output_type": "display_data"
    },
    {
     "data": {
      "text/html": [
       " View run at <a href=\"https://wandb.ai/antoniomone97/vae-improver/runs/t2bbco67\" target=\"_blank\">https://wandb.ai/antoniomone97/vae-improver/runs/t2bbco67</a>"
      ],
      "text/plain": [
       "<IPython.core.display.HTML object>"
      ]
     },
     "metadata": {},
     "output_type": "display_data"
    },
    {
     "name": "stdout",
     "output_type": "stream",
     "text": [
      "Epoch 1/15\n"
     ]
    },
    {
     "name": "stderr",
     "output_type": "stream",
     "text": [
      "2023-02-05 01:59:33.020476: W tensorflow/core/platform/profile_utils/cpu_utils.cc:128] Failed to get CPU frequency: 0 Hz\n"
     ]
    },
    {
     "ename": "TypeError",
     "evalue": "in user code:\n\n    File \"/Users/antoniomone/miniforge3/envs/wannenvjup/lib/python3.10/site-packages/keras/engine/training.py\", line 1160, in train_function  *\n        return step_function(self, iterator)\n    File \"/Users/antoniomone/miniforge3/envs/wannenvjup/lib/python3.10/site-packages/keras/engine/training.py\", line 1146, in step_function  **\n        outputs = model.distribute_strategy.run(run_step, args=(data,))\n    File \"/Users/antoniomone/miniforge3/envs/wannenvjup/lib/python3.10/site-packages/keras/engine/training.py\", line 1135, in run_step  **\n        outputs = model.train_step(data)\n    File \"/Users/antoniomone/miniforge3/envs/wannenvjup/lib/python3.10/site-packages/keras/engine/training.py\", line 994, in train_step\n        loss = self.compute_loss(x, y, y_pred, sample_weight)\n    File \"/Users/antoniomone/miniforge3/envs/wannenvjup/lib/python3.10/site-packages/keras/engine/training.py\", line 1052, in compute_loss\n        return self.compiled_loss(\n    File \"/Users/antoniomone/miniforge3/envs/wannenvjup/lib/python3.10/site-packages/keras/engine/compile_utils.py\", line 317, in __call__\n        self._total_loss_mean.update_state(\n    File \"/Users/antoniomone/miniforge3/envs/wannenvjup/lib/python3.10/site-packages/keras/utils/metrics_utils.py\", line 77, in decorated\n        update_op = update_state_fn(*args, **kwargs)\n    File \"/Users/antoniomone/miniforge3/envs/wannenvjup/lib/python3.10/site-packages/keras/metrics/base_metric.py\", line 143, in update_state_fn\n        return ag_update_state(*args, **kwargs)\n    File \"/Users/antoniomone/miniforge3/envs/wannenvjup/lib/python3.10/site-packages/keras/metrics/base_metric.py\", line 486, in update_state  **\n        sample_weight = tf.__internal__.ops.broadcast_weights(\n    File \"/Users/antoniomone/miniforge3/envs/wannenvjup/lib/python3.10/site-packages/keras/engine/keras_tensor.py\", line 283, in __array__\n        raise TypeError(\n\n    TypeError: You are passing KerasTensor(type_spec=TensorSpec(shape=(), dtype=tf.float32, name=None), name='Placeholder:0', description=\"created by layer 'tf.cast_2'\"), an intermediate Keras symbolic input/output, to a TF API that does not allow registering custom dispatchers, such as `tf.cond`, `tf.function`, gradient tapes, or `tf.map_fn`. Keras Functional model construction only supports TF API calls that *do* support dispatching, such as `tf.math.add` or `tf.reshape`. Other APIs cannot be called directly on symbolic Kerasinputs/outputs. You can work around this limitation by putting the operation in a custom Keras layer `call` and calling that layer on this symbolic input/output.\n",
     "output_type": "error",
     "traceback": [
      "\u001b[0;31m---------------------------------------------------------------------------\u001b[0m",
      "\u001b[0;31mTypeError\u001b[0m                                 Traceback (most recent call last)",
      "Cell \u001b[0;32mIn[11], line 17\u001b[0m\n\u001b[1;32m      1\u001b[0m wandb\u001b[39m.\u001b[39minit(\n\u001b[1;32m      2\u001b[0m     \u001b[39m# set the wandb project where this run will be logged\u001b[39;00m\n\u001b[1;32m      3\u001b[0m     project\u001b[39m=\u001b[39m\u001b[39m\"\u001b[39m\u001b[39mvae-improver\u001b[39m\u001b[39m\"\u001b[39m,\n\u001b[0;32m   (...)\u001b[0m\n\u001b[1;32m     12\u001b[0m     }\n\u001b[1;32m     13\u001b[0m )\n\u001b[1;32m     15\u001b[0m autoencoder\u001b[39m.\u001b[39mcompile(loss\u001b[39m=\u001b[39mget_loss(distribution_mean, distribution_variance), optimizer\u001b[39m=\u001b[39m\u001b[39m'\u001b[39m\u001b[39madam\u001b[39m\u001b[39m'\u001b[39m)\n\u001b[0;32m---> 17\u001b[0m autoencoder\u001b[39m.\u001b[39;49mfit(train, train, epochs\u001b[39m=\u001b[39;49mepochs, batch_size\u001b[39m=\u001b[39;49mbatch, validation_data\u001b[39m=\u001b[39;49m(val, val), callbacks\u001b[39m=\u001b[39;49m[ WandbMetricsLogger(log_freq\u001b[39m=\u001b[39;49m\u001b[39m1\u001b[39;49m),WandbModelCheckpoint(\u001b[39m\"\u001b[39;49m\u001b[39mmodels\u001b[39;49m\u001b[39m\"\u001b[39;49m)])\n\u001b[1;32m     19\u001b[0m wandb\u001b[39m.\u001b[39mfinish()\n",
      "File \u001b[0;32m~/miniforge3/envs/wannenvjup/lib/python3.10/site-packages/wandb/integration/keras/keras.py:174\u001b[0m, in \u001b[0;36mpatch_tf_keras.<locals>.new_v2\u001b[0;34m(*args, **kwargs)\u001b[0m\n\u001b[1;32m    172\u001b[0m     \u001b[39mfor\u001b[39;00m cbk \u001b[39min\u001b[39;00m cbks:\n\u001b[1;32m    173\u001b[0m         set_wandb_attrs(cbk, val_data)\n\u001b[0;32m--> 174\u001b[0m \u001b[39mreturn\u001b[39;00m old_v2(\u001b[39m*\u001b[39;49margs, \u001b[39m*\u001b[39;49m\u001b[39m*\u001b[39;49mkwargs)\n",
      "File \u001b[0;32m~/miniforge3/envs/wannenvjup/lib/python3.10/site-packages/wandb/integration/keras/keras.py:174\u001b[0m, in \u001b[0;36mpatch_tf_keras.<locals>.new_v2\u001b[0;34m(*args, **kwargs)\u001b[0m\n\u001b[1;32m    172\u001b[0m     \u001b[39mfor\u001b[39;00m cbk \u001b[39min\u001b[39;00m cbks:\n\u001b[1;32m    173\u001b[0m         set_wandb_attrs(cbk, val_data)\n\u001b[0;32m--> 174\u001b[0m \u001b[39mreturn\u001b[39;00m old_v2(\u001b[39m*\u001b[39;49margs, \u001b[39m*\u001b[39;49m\u001b[39m*\u001b[39;49mkwargs)\n",
      "File \u001b[0;32m~/miniforge3/envs/wannenvjup/lib/python3.10/site-packages/wandb/integration/keras/keras.py:174\u001b[0m, in \u001b[0;36mpatch_tf_keras.<locals>.new_v2\u001b[0;34m(*args, **kwargs)\u001b[0m\n\u001b[1;32m    172\u001b[0m     \u001b[39mfor\u001b[39;00m cbk \u001b[39min\u001b[39;00m cbks:\n\u001b[1;32m    173\u001b[0m         set_wandb_attrs(cbk, val_data)\n\u001b[0;32m--> 174\u001b[0m \u001b[39mreturn\u001b[39;00m old_v2(\u001b[39m*\u001b[39;49margs, \u001b[39m*\u001b[39;49m\u001b[39m*\u001b[39;49mkwargs)\n",
      "File \u001b[0;32m~/miniforge3/envs/wannenvjup/lib/python3.10/site-packages/keras/utils/traceback_utils.py:70\u001b[0m, in \u001b[0;36mfilter_traceback.<locals>.error_handler\u001b[0;34m(*args, **kwargs)\u001b[0m\n\u001b[1;32m     67\u001b[0m     filtered_tb \u001b[39m=\u001b[39m _process_traceback_frames(e\u001b[39m.\u001b[39m__traceback__)\n\u001b[1;32m     68\u001b[0m     \u001b[39m# To get the full stack trace, call:\u001b[39;00m\n\u001b[1;32m     69\u001b[0m     \u001b[39m# `tf.debugging.disable_traceback_filtering()`\u001b[39;00m\n\u001b[0;32m---> 70\u001b[0m     \u001b[39mraise\u001b[39;00m e\u001b[39m.\u001b[39mwith_traceback(filtered_tb) \u001b[39mfrom\u001b[39;00m \u001b[39mNone\u001b[39m\n\u001b[1;32m     71\u001b[0m \u001b[39mfinally\u001b[39;00m:\n\u001b[1;32m     72\u001b[0m     \u001b[39mdel\u001b[39;00m filtered_tb\n",
      "File \u001b[0;32m/var/folders/yn/s9pl9_1s0jg71m1mlyb_160w0000gn/T/__autograph_generated_filej5475inz.py:15\u001b[0m, in \u001b[0;36mouter_factory.<locals>.inner_factory.<locals>.tf__train_function\u001b[0;34m(iterator)\u001b[0m\n\u001b[1;32m     13\u001b[0m \u001b[39mtry\u001b[39;00m:\n\u001b[1;32m     14\u001b[0m     do_return \u001b[39m=\u001b[39m \u001b[39mTrue\u001b[39;00m\n\u001b[0;32m---> 15\u001b[0m     retval_ \u001b[39m=\u001b[39m ag__\u001b[39m.\u001b[39mconverted_call(ag__\u001b[39m.\u001b[39mld(step_function), (ag__\u001b[39m.\u001b[39mld(\u001b[39mself\u001b[39m), ag__\u001b[39m.\u001b[39mld(iterator)), \u001b[39mNone\u001b[39;00m, fscope)\n\u001b[1;32m     16\u001b[0m \u001b[39mexcept\u001b[39;00m:\n\u001b[1;32m     17\u001b[0m     do_return \u001b[39m=\u001b[39m \u001b[39mFalse\u001b[39;00m\n",
      "\u001b[0;31mTypeError\u001b[0m: in user code:\n\n    File \"/Users/antoniomone/miniforge3/envs/wannenvjup/lib/python3.10/site-packages/keras/engine/training.py\", line 1160, in train_function  *\n        return step_function(self, iterator)\n    File \"/Users/antoniomone/miniforge3/envs/wannenvjup/lib/python3.10/site-packages/keras/engine/training.py\", line 1146, in step_function  **\n        outputs = model.distribute_strategy.run(run_step, args=(data,))\n    File \"/Users/antoniomone/miniforge3/envs/wannenvjup/lib/python3.10/site-packages/keras/engine/training.py\", line 1135, in run_step  **\n        outputs = model.train_step(data)\n    File \"/Users/antoniomone/miniforge3/envs/wannenvjup/lib/python3.10/site-packages/keras/engine/training.py\", line 994, in train_step\n        loss = self.compute_loss(x, y, y_pred, sample_weight)\n    File \"/Users/antoniomone/miniforge3/envs/wannenvjup/lib/python3.10/site-packages/keras/engine/training.py\", line 1052, in compute_loss\n        return self.compiled_loss(\n    File \"/Users/antoniomone/miniforge3/envs/wannenvjup/lib/python3.10/site-packages/keras/engine/compile_utils.py\", line 317, in __call__\n        self._total_loss_mean.update_state(\n    File \"/Users/antoniomone/miniforge3/envs/wannenvjup/lib/python3.10/site-packages/keras/utils/metrics_utils.py\", line 77, in decorated\n        update_op = update_state_fn(*args, **kwargs)\n    File \"/Users/antoniomone/miniforge3/envs/wannenvjup/lib/python3.10/site-packages/keras/metrics/base_metric.py\", line 143, in update_state_fn\n        return ag_update_state(*args, **kwargs)\n    File \"/Users/antoniomone/miniforge3/envs/wannenvjup/lib/python3.10/site-packages/keras/metrics/base_metric.py\", line 486, in update_state  **\n        sample_weight = tf.__internal__.ops.broadcast_weights(\n    File \"/Users/antoniomone/miniforge3/envs/wannenvjup/lib/python3.10/site-packages/keras/engine/keras_tensor.py\", line 283, in __array__\n        raise TypeError(\n\n    TypeError: You are passing KerasTensor(type_spec=TensorSpec(shape=(), dtype=tf.float32, name=None), name='Placeholder:0', description=\"created by layer 'tf.cast_2'\"), an intermediate Keras symbolic input/output, to a TF API that does not allow registering custom dispatchers, such as `tf.cond`, `tf.function`, gradient tapes, or `tf.map_fn`. Keras Functional model construction only supports TF API calls that *do* support dispatching, such as `tf.math.add` or `tf.reshape`. Other APIs cannot be called directly on symbolic Kerasinputs/outputs. You can work around this limitation by putting the operation in a custom Keras layer `call` and calling that layer on this symbolic input/output.\n"
     ]
    }
   ],
   "source": [
    "wandb.init(\n",
    "    # set the wandb project where this run will be logged\n",
    "    project=\"vae-improver\",\n",
    "\n",
    "    # track hyperparameters and run metadata with wandb.config\n",
    "    config={\n",
    "        \"optimizer\": \"adam\",\n",
    "        \"loss\": \"total_loss\",\n",
    "        \"metric\": \"accuracy\",\n",
    "        \"epoch\": epochs,\n",
    "        \"batch_size\": batch\n",
    "    }\n",
    ")\n",
    "\n",
    "autoencoder.compile(loss=get_loss(distribution_mean, distribution_variance), optimizer='adam')\n",
    "\n",
    "autoencoder.fit(train, train, epochs=epochs, batch_size=batch, validation_data=(val, val), callbacks=[ WandbMetricsLogger(log_freq=1),WandbModelCheckpoint(\"models\")])\n",
    "\n",
    "wandb.finish()"
   ]
  },
  {
   "attachments": {},
   "cell_type": "markdown",
   "metadata": {},
   "source": [
    "# Extra Version"
   ]
  },
  {
   "cell_type": "code",
   "execution_count": 1,
   "metadata": {},
   "outputs": [],
   "source": [
    "import sys\n",
    "import numpy as np\n",
    "import os\n",
    "import gym\n",
    "import tensorflow as tf\n",
    "from tensorflow.keras.layers import Layer, Input, Conv2D, Flatten, Dense, Conv2DTranspose, Reshape, Lambda, \\\n",
    "                                    Activation, BatchNormalization, ReLU, LeakyReLU, ELU, Dropout, AlphaDropout, Add\n",
    "from tensorflow.keras.models import Model\n",
    "# to be consistent with my standard loading of the Keras backend in Jupyter notebooks:  \n",
    "from tensorflow.keras import backend as B      \n",
    "from tensorflow.keras.optimizers import Adam\n",
    "import numpy as np\n",
    "import time \n",
    "import os\n",
    "import sklearn # could be used for scalers\n",
    "import matplotlib as mpl\n",
    "from matplotlib import pyplot as plt\n",
    "from matplotlib.colors import ListedColormap\n",
    "import matplotlib.patches as mpat \n",
    "\n",
    "# tensorflow and keras \n",
    "import tensorflow as tf\n",
    "import tensorflow.keras as keras\n",
    "from tensorflow.python.keras import backend as B \n",
    "from tensorflow.keras import models\n",
    "from tensorflow.keras import layers\n",
    "from tensorflow.keras import regularizers\n",
    "from tensorflow.keras import optimizers\n",
    "from tensorflow.keras import metrics\n",
    "from tensorflow.keras.datasets import mnist\n",
    "from tensorflow.keras.optimizers import schedules\n",
    "from tensorflow.keras.utils import to_categorical\n",
    "from tensorflow.python.client import device_lib\n",
    "from tensorflow.keras.datasets import mnist\n",
    "from tensorflow.keras.preprocessing.image import ImageDataGenerator\n",
    "\n",
    "# credits to https://linux-blog.anracom.com/2022/11/07/variational-autoencoder-with-tensorflow-2-8-xiii-does-a-vae-with-tiny-kl-loss-behave-like-an-ae-and-if-so-why/\n"
   ]
  },
  {
   "attachments": {},
   "cell_type": "markdown",
   "metadata": {},
   "source": [
    "# Grayscale dataset"
   ]
  },
  {
   "cell_type": "code",
   "execution_count": 2,
   "metadata": {},
   "outputs": [],
   "source": [
    "finalgames = ['BattleZone','DoubleDunk','NameThisGame','Phoenix','Qbert']\n",
    "single_atari = ['Phoenix']\n",
    "#finalgames = ['Centipede','Robotank','Tennis','IceHockey','UpNDown','Carnival','Atlantis']\n",
    "GAME = single_atari[0]"
   ]
  },
  {
   "cell_type": "code",
   "execution_count": 86,
   "metadata": {},
   "outputs": [
    {
     "name": "stdout",
     "output_type": "stream",
     "text": [
      "EPISODE 1 OF 75\n",
      "EPISODE 2 OF 75\n",
      "EPISODE 3 OF 75\n",
      "EPISODE 4 OF 75\n",
      "EPISODE 5 OF 75\n",
      "EPISODE 6 OF 75\n",
      "EPISODE 7 OF 75\n",
      "EPISODE 8 OF 75\n",
      "EPISODE 9 OF 75\n",
      "EPISODE 10 OF 75\n",
      "EPISODE 11 OF 75\n",
      "EPISODE 12 OF 75\n",
      "EPISODE 13 OF 75\n",
      "EPISODE 14 OF 75\n",
      "EPISODE 15 OF 75\n",
      "EPISODE 16 OF 75\n",
      "EPISODE 17 OF 75\n",
      "EPISODE 18 OF 75\n",
      "EPISODE 19 OF 75\n",
      "EPISODE 20 OF 75\n",
      "EPISODE 21 OF 75\n",
      "EPISODE 22 OF 75\n",
      "EPISODE 23 OF 75\n",
      "EPISODE 24 OF 75\n",
      "EPISODE 25 OF 75\n",
      "EPISODE 26 OF 75\n",
      "EPISODE 27 OF 75\n",
      "EPISODE 28 OF 75\n",
      "EPISODE 29 OF 75\n",
      "EPISODE 30 OF 75\n",
      "EPISODE 31 OF 75\n",
      "EPISODE 32 OF 75\n",
      "EPISODE 33 OF 75\n",
      "EPISODE 34 OF 75\n",
      "EPISODE 35 OF 75\n",
      "EPISODE 36 OF 75\n",
      "EPISODE 37 OF 75\n",
      "EPISODE 38 OF 75\n",
      "EPISODE 39 OF 75\n",
      "EPISODE 40 OF 75\n",
      "EPISODE 41 OF 75\n",
      "EPISODE 42 OF 75\n",
      "EPISODE 43 OF 75\n",
      "EPISODE 44 OF 75\n",
      "EPISODE 45 OF 75\n",
      "EPISODE 46 OF 75\n",
      "EPISODE 47 OF 75\n",
      "EPISODE 48 OF 75\n",
      "EPISODE 49 OF 75\n",
      "EPISODE 50 OF 75\n",
      "EPISODE 51 OF 75\n",
      "EPISODE 52 OF 75\n",
      "EPISODE 53 OF 75\n",
      "EPISODE 54 OF 75\n",
      "EPISODE 55 OF 75\n",
      "EPISODE 56 OF 75\n",
      "EPISODE 57 OF 75\n",
      "EPISODE 58 OF 75\n",
      "EPISODE 59 OF 75\n",
      "EPISODE 60 OF 75\n",
      "EPISODE 61 OF 75\n",
      "EPISODE 62 OF 75\n",
      "EPISODE 63 OF 75\n",
      "EPISODE 64 OF 75\n",
      "EPISODE 65 OF 75\n",
      "EPISODE 66 OF 75\n",
      "EPISODE 67 OF 75\n",
      "EPISODE 68 OF 75\n",
      "EPISODE 69 OF 75\n",
      "EPISODE 70 OF 75\n",
      "EPISODE 71 OF 75\n",
      "EPISODE 72 OF 75\n",
      "EPISODE 73 OF 75\n",
      "EPISODE 74 OF 75\n",
      "EPISODE 75 OF 75\n",
      "(28275, 84, 84, 1)\n",
      "(7069, 84, 84, 1)\n"
     ]
    }
   ],
   "source": [
    "#RUN TO CREATE NPY GRAYSCALE DATASET - TRAIN AND VAL\n",
    "import cv2\n",
    "episodes = 75\n",
    "screensize = 84\n",
    "imgs = []\n",
    "for i_episode in range(episodes):\n",
    "    print(\"EPISODE\",i_episode+1,\"OF\",episodes)\n",
    "    next_game = GAME#str(np.random.choice(single_atari,1)[0])\n",
    "    env = gym.make(next_game+'-v0',full_action_space=True)\n",
    "    observation = env.reset()\n",
    "    for t in range(5000):\n",
    "        #obj = cv2.resize(env.env.ale.getScreenRGB(), (screensize,screensize))\n",
    "        obj = cv2.resize(env.env.ale.getScreenGrayscale(),(screensize,screensize))\n",
    "        obj = tf.convert_to_tensor(obj,dtype=tf.float32)\n",
    "        imgs.append(obj)\n",
    "        action = env.action_space.sample()\n",
    "        observation, reward, done, info = env.step(action)\n",
    "        if done:\n",
    "            #print(\"Episode finished after {} timesteps\".format(t+1))\n",
    "            break\n",
    "        \n",
    "x_imgs = np.array(imgs)\n",
    "x_imgs = x_imgs.astype('float32')\n",
    "x_imgs /= 255\n",
    "train = x_imgs[:len(imgs)*8//10]\n",
    "val = x_imgs[len(imgs)*8//10:]\n",
    "train = np.reshape(train,(train.shape[0],train.shape[1],train.shape[2],1))\n",
    "val = np.reshape(val,(val.shape[0],val.shape[1],val.shape[2],1))\n",
    "print(train.shape)\n",
    "print(val.shape)\n",
    "PROJECT_ROOT_DIR = \"/Users/antoniomone/Desktop/Uni/LEIDEN/THESIS/RLtests/datasets84/\"\n",
    "GAME = single_atari[0]\n",
    "TRAIN_NAME = GAME+\"_train\"\n",
    "VAL_NAME = GAME+\"_val\"\n",
    "SIZE = str(screensize)+'_'+str(screensize)\n",
    "EXT = \".npy\" \n",
    "np.save(PROJECT_ROOT_DIR+GAME+'/'+SIZE+'/'+TRAIN_NAME+EXT, train)\n",
    "np.save(PROJECT_ROOT_DIR+GAME+'/'+SIZE+'/'+VAL_NAME+EXT, val)\n",
    "IMAGES_PATH = os.path.join(PROJECT_ROOT_DIR, \"images\")\n",
    "os.makedirs(IMAGES_PATH, exist_ok=True)"
   ]
  },
  {
   "attachments": {},
   "cell_type": "markdown",
   "metadata": {},
   "source": [
    "# Dataset Creation"
   ]
  },
  {
   "cell_type": "code",
   "execution_count": 4,
   "metadata": {},
   "outputs": [],
   "source": [
    "#atari_env_names = ['Assault','DemonAttack','SpaceInvaders','StarGunner','BeamRider','Phoenix']\n",
    "'''atari_env_names = ['Alien','Amidar','Assault','Asterix','Asteroids','Atlantis','DemonAttack','SpaceInvaders','StarGunner',\\\n",
    "                   'Berzerk','Bowling','Boxing','Breakout','Carnival','Centipede','Defender','Enduro',\\\n",
    "                   'Freeway','Frostbite','Gopher','Hero','Jamesbond','Kangaroo','Krull','Phoenix','Pitfall','Pong',\\\n",
    "                   'Pooyan','Qbert','Riverraid','Seaquest','Skiing','Solaris','Tennis','Tutankham','Venture','VideoPinball','Zaxxon']'''\n",
    "#GAMES: Boxing Centipede Robotank Tennis Ice_Hockey Pong Breakout Up_N_Down Carnival Atlantis\n",
    "#single_atari = ['Centipede']\n",
    "#single_atari = ['Robotank']\n",
    "#single_atari = ['Tennis']\n",
    "#single_atari = ['IceHockey']\n",
    "#single_atari = ['UpNDown']\n",
    "#single_atari = ['Carnival']\n",
    "finalgames = ['BattleZone','DoubleDunk','NameThisGame','Phoenix','Qbert']\n",
    "single_atari = ['Qbert']\n",
    "#finalgames = ['Centipede','Robotank','Tennis','IceHockey','UpNDown','Carnival','Atlantis']\n",
    "GAME = single_atari[0]\n"
   ]
  },
  {
   "cell_type": "code",
   "execution_count": 8,
   "metadata": {},
   "outputs": [
    {
     "name": "stdout",
     "output_type": "stream",
     "text": [
      "EPISODE 1 OF 75\n",
      "EPISODE 2 OF 75\n",
      "EPISODE 3 OF 75\n",
      "EPISODE 4 OF 75\n",
      "EPISODE 5 OF 75\n",
      "EPISODE 6 OF 75\n",
      "EPISODE 7 OF 75\n",
      "EPISODE 8 OF 75\n",
      "EPISODE 9 OF 75\n",
      "EPISODE 10 OF 75\n",
      "EPISODE 11 OF 75\n",
      "EPISODE 12 OF 75\n",
      "EPISODE 13 OF 75\n",
      "EPISODE 14 OF 75\n",
      "EPISODE 15 OF 75\n",
      "EPISODE 16 OF 75\n",
      "EPISODE 17 OF 75\n",
      "EPISODE 18 OF 75\n",
      "EPISODE 19 OF 75\n",
      "EPISODE 20 OF 75\n",
      "EPISODE 21 OF 75\n",
      "EPISODE 22 OF 75\n",
      "EPISODE 23 OF 75\n",
      "EPISODE 24 OF 75\n",
      "EPISODE 25 OF 75\n",
      "EPISODE 26 OF 75\n",
      "EPISODE 27 OF 75\n",
      "EPISODE 28 OF 75\n",
      "EPISODE 29 OF 75\n",
      "EPISODE 30 OF 75\n",
      "EPISODE 31 OF 75\n",
      "EPISODE 32 OF 75\n",
      "EPISODE 33 OF 75\n",
      "EPISODE 34 OF 75\n",
      "EPISODE 35 OF 75\n",
      "EPISODE 36 OF 75\n",
      "EPISODE 37 OF 75\n",
      "EPISODE 38 OF 75\n",
      "EPISODE 39 OF 75\n",
      "EPISODE 40 OF 75\n",
      "EPISODE 41 OF 75\n",
      "EPISODE 42 OF 75\n",
      "EPISODE 43 OF 75\n",
      "EPISODE 44 OF 75\n",
      "EPISODE 45 OF 75\n",
      "EPISODE 46 OF 75\n",
      "EPISODE 47 OF 75\n",
      "EPISODE 48 OF 75\n",
      "EPISODE 49 OF 75\n",
      "EPISODE 50 OF 75\n",
      "EPISODE 51 OF 75\n",
      "EPISODE 52 OF 75\n",
      "EPISODE 53 OF 75\n",
      "EPISODE 54 OF 75\n",
      "EPISODE 55 OF 75\n",
      "EPISODE 56 OF 75\n",
      "EPISODE 57 OF 75\n",
      "EPISODE 58 OF 75\n",
      "EPISODE 59 OF 75\n",
      "EPISODE 60 OF 75\n",
      "EPISODE 61 OF 75\n",
      "EPISODE 62 OF 75\n",
      "EPISODE 63 OF 75\n",
      "EPISODE 64 OF 75\n",
      "EPISODE 65 OF 75\n",
      "EPISODE 66 OF 75\n",
      "EPISODE 67 OF 75\n",
      "EPISODE 68 OF 75\n",
      "EPISODE 69 OF 75\n",
      "EPISODE 70 OF 75\n",
      "EPISODE 71 OF 75\n",
      "EPISODE 72 OF 75\n",
      "EPISODE 73 OF 75\n",
      "EPISODE 74 OF 75\n",
      "EPISODE 75 OF 75\n",
      "(28040, 160, 160, 3)\n"
     ]
    }
   ],
   "source": [
    "#RUN TO CREATE NPY DATASET - TRAIN AND VAL\n",
    "import cv2\n",
    "episodes = 75\n",
    "screensize = 160\n",
    "imgs = []\n",
    "for i_episode in range(episodes):\n",
    "    print(\"EPISODE\",i_episode+1,\"OF\",episodes)\n",
    "    next_game = str(single_atari[0])\n",
    "    env = gym.make(next_game+'-v0',obs_type='image',full_action_space=True)\n",
    "    observation = env.reset()\n",
    "    for t in range(5000):\n",
    "        obj = cv2.resize(env.env.ale.getScreenRGB(), (screensize,screensize))\n",
    "        obj = tf.convert_to_tensor(obj,dtype=tf.float32)\n",
    "        imgs.append(obj)\n",
    "        action = env.action_space.sample()\n",
    "        observation, reward, done, info = env.step(action)\n",
    "        if done:\n",
    "            #print(\"Episode finished after {} timesteps\".format(t+1))\n",
    "            break\n",
    "        \n",
    "x_imgs = np.array(imgs)\n",
    "x_imgs = x_imgs.astype('float32')\n",
    "x_imgs /= 255\n",
    "train = x_imgs[:len(imgs)*8//10]\n",
    "val = x_imgs[len(imgs)*8//10:]\n",
    "print(train.shape)\n",
    "PROJECT_ROOT_DIR = \"/Users/antoniomone/Desktop/Uni/LEIDEN/THESIS/RLtests/datasets84/\"\n",
    "GAME = single_atari[0]\n",
    "TRAIN_NAME = GAME+\"_train\"\n",
    "VAL_NAME = GAME+\"_val\"\n",
    "SIZE = str(screensize)+'_'+str(screensize)\n",
    "EXT = \".npy\" \n",
    "np.save(PROJECT_ROOT_DIR+GAME+'/'+SIZE+'/'+TRAIN_NAME+EXT, train)\n",
    "np.save(PROJECT_ROOT_DIR+GAME+'/'+SIZE+'/'+VAL_NAME+EXT, val)\n",
    "IMAGES_PATH = os.path.join(PROJECT_ROOT_DIR, \"images\")\n",
    "os.makedirs(IMAGES_PATH, exist_ok=True)"
   ]
  },
  {
   "cell_type": "code",
   "execution_count": 304,
   "metadata": {},
   "outputs": [],
   "source": [
    "def save_fig(fig_id, tight_layout=True, fig_extension=\"png\", resolution=300):\n",
    "    path = os.path.join(IMAGES_PATH, fig_id + \".\" + fig_extension)\n",
    "    print(\"Saving figure\", fig_id)\n",
    "    if tight_layout:\n",
    "        plt.tight_layout()\n",
    "    plt.savefig(path, format=fig_extension, dpi=resolution)\n",
    "\n",
    "def plot_image(image, save=False, i=0):\n",
    "    plt.imshow(image, cmap=\"binary\")\n",
    "    plt.axis(\"off\")\n",
    "    if save:\n",
    "      plt.savefig(str(i) + '.png')\n",
    "\n",
    "def save_image(image, pred, i=0):\n",
    "    ax1 = plt.subplot(1,2,1)\n",
    "    ax2 = plt.subplot(1,2,2)\n",
    "    ax1.imshow(image, cmap=\"binary\")\n",
    "    ax2.imshow(pred, cmap=\"binary\")\n",
    "#    plt.show()\n",
    "#    plt.axis(\"off\")\n",
    "    plt.savefig(str(i) + '.png')"
   ]
  },
  {
   "cell_type": "code",
   "execution_count": 398,
   "metadata": {},
   "outputs": [
    {
     "name": "stdout",
     "output_type": "stream",
     "text": [
      "(39699, 84, 84, 1)\n",
      "(9925, 84, 84, 1)\n"
     ]
    }
   ],
   "source": [
    "# RUN TO LOAD NPY DATASET TO TRAIN AND VAL\n",
    "screensize = 84\n",
    "PROJECT_ROOT_DIR = \"/Users/antoniomone/Desktop/Uni/LEIDEN/THESIS/RLtests/datasets84/\"\n",
    "GAME = single_atari[0]\n",
    "TRAIN_NAME = GAME+\"_train\"\n",
    "VAL_NAME = GAME+\"_val\"\n",
    "SIZE = str(screensize)+'_'+str(screensize)\n",
    "EXT = \".npy\" \n",
    "TRAIN_PATH = PROJECT_ROOT_DIR+GAME+'/'+SIZE+'/'+TRAIN_NAME+EXT\n",
    "VAL_PATH = PROJECT_ROOT_DIR+GAME+'/'+SIZE+'/'+VAL_NAME+EXT\n",
    "train = np.load(TRAIN_PATH)\n",
    "val = np.load(VAL_PATH)\n",
    "print(train.shape)\n",
    "print(val.shape)"
   ]
  },
  {
   "attachments": {},
   "cell_type": "markdown",
   "metadata": {},
   "source": [
    "## Parameters"
   ]
  },
  {
   "cell_type": "code",
   "execution_count": 3,
   "metadata": {},
   "outputs": [],
   "source": [
    "#MAIN PARAMETERS\n",
    "screensize = 160\n",
    "z_dim = 128\n",
    "INITIAL_EPOCH = 0 \n",
    "n_epochs      = 250\n",
    "SOLUTION_TYPE = 3\n",
    "solution_type = SOLUTION_TYPE\n",
    "#INPUT_DIM = (screensize,screensize,1) #if grayscale\n",
    "INPUT_DIM = (screensize,screensize,3) # if rgb\n",
    "loss_type = 0 #0=BCE - 1=MSE , sigmoid with 0 and linear with 1\n",
    "act = 1 #0 LeakyReLu, 1 ReLU, 2= SeLU\n",
    "fact = 0\n",
    "use_batch_norm  = True\n",
    "use_dropout     = False\n",
    "dropout_rate    = 0.1\n",
    "n_ch  = INPUT_DIM[2]   # number of channels\n",
    "if loss_type == 0:\n",
    "    fact = 5.0\n",
    "else:\n",
    "    fact = 2.0e-2"
   ]
  },
  {
   "cell_type": "code",
   "execution_count": 4,
   "metadata": {},
   "outputs": [],
   "source": [
    "# A child class of Model() to control train_step with GradientTape() \n",
    "class VAE(keras.Model): \n",
    "    \n",
    "    # We use our self defined __init__() to provide a reference MyVAE \n",
    "    # to an object of type \"MyVariationalAutoencoder\" \n",
    "    # This in turn allows us to address the Encoder and the Decoder  \n",
    "    def __init__(self, MyVAE, **kwargs):\n",
    "        super(VAE, self).__init__(**kwargs)\n",
    "        self.MyVAE   = MyVAE \n",
    "        self.encoder = self.MyVAE.encoder\n",
    "        self.decoder = self.MyVAE.decoder\n",
    "        \n",
    "        # A factor to control the ratio between the KL loss and the reconstruction loss \n",
    "        self.fact = MyVAE.fact\n",
    "        \n",
    "        # A counter \n",
    "        self.count = 0 \n",
    "        \n",
    "        # A factor to scale the absolute values of the losses \n",
    "        # e.g. by the number of pixels of an image\n",
    "        self.scale_fact = 1.0  # no scaling\n",
    "        # self.scale_fact = tf.constant(self.MyVAE.input_dim[0] * self.MyVAE.input_dim[1], dtype=tf.float32)\n",
    "        self.f_scale    = 1. / self.scale_fact\n",
    "        \n",
    "        # loss type : 0: BCE, 1: MSE \n",
    "        self.loss_type = self.MyVAE.loss_type\n",
    "        \n",
    "        # track loss development via metrics \n",
    "        self.total_loss_tracker = keras.metrics.Mean(name=\"total_loss\")\n",
    "        self.reco_loss_tracker  = keras.metrics.Mean(name=\"reco_loss\")\n",
    "        self.kl_loss_tracker    = keras.metrics.Mean(name=\"kl_loss\")\n",
    "\n",
    "    def call(self, inputs):\n",
    "        x, z_m, z_var = self.encoder(inputs)\n",
    "        return self.decoder(x)  \n",
    "\n",
    "    # Overwrite the metrics() of Model() - use getter mechanism  \n",
    "    @property\n",
    "    def metrics(self):\n",
    "        return [\n",
    "            self.total_loss_tracker,\n",
    "            self.reco_loss_tracker,\n",
    "            self.kl_loss_tracker\n",
    "        ]\n",
    "\n",
    "    # Core function to control all operations regarding eager differentiation operations, \n",
    "    # i.e. the calculation of loss terms with respect to tensors and differentiation variables \n",
    "    # and metrics data \n",
    "    def train_step(self, data):\n",
    "        # We use the GradientTape context to record differntiation operations/results \n",
    "        #self.count += 1 \n",
    "        \n",
    "        with tf.GradientTape() as tape:\n",
    "            z, z_mean, z_log_var = self.encoder(data)\n",
    "            reconstruction = self.decoder(z)\n",
    "            #reco_shape = tf.shape(self.reconstruction)\n",
    "            #print(\"reco_shape = \", reco_shape, self.reconstruction.shape, data.shape)\n",
    "            \n",
    "            #BCE loss (Binary Cross Entropy) \n",
    "            if self.loss_type == 0: \n",
    "                reconstruction_loss = tf.reduce_mean(\n",
    "                    tf.reduce_sum(\n",
    "                        keras.losses.binary_crossentropy(data, reconstruction), axis=(1, 2)\n",
    "                    )\n",
    "                ) * self.f_scale\n",
    "            \n",
    "            # MSE loss (Mean Squared Error) \n",
    "            if self.loss_type == 1: \n",
    "                reconstruction_loss = tf.reduce_mean(\n",
    "                    tf.reduce_sum(\n",
    "                        keras.losses.mse(data, reconstruction), axis=(1, 2)\n",
    "                    )\n",
    "                ) * self.f_scale\n",
    "            \n",
    "            kl_loss = -0.5 * self.fact * (1 + z_log_var - tf.square(z_mean) - tf.exp(z_log_var))\n",
    "            kl_loss = tf.reduce_mean(tf.reduce_sum(kl_loss, axis=1))  \n",
    "            total_loss = reconstruction_loss + kl_loss \n",
    "        \n",
    "        grads = tape.gradient(total_loss, self.trainable_weights)\n",
    "        self.optimizer.apply_gradients(zip(grads, self.trainable_weights))\n",
    "        #if self.count == 1: \n",
    "            \n",
    "        self.total_loss_tracker.update_state(total_loss)\n",
    "        self.reco_loss_tracker.update_state(reconstruction_loss)\n",
    "        self.kl_loss_tracker.update_state(kl_loss)\n",
    "        return {\n",
    "            \"total_loss\": self.total_loss_tracker.result(),\n",
    "            \"reco_loss\": self.reco_loss_tracker.result(),\n",
    "            \"kl_loss\": self.kl_loss_tracker.result(),\n",
    "        }\n",
    "        \n",
    "    def compile_VAE(self, learning_rate):\n",
    "\n",
    "        # Optimizer\n",
    "        # ~~~~~~~~~ \n",
    "        optimizer = Adam(learning_rate=learning_rate)\n",
    "        # save the learning rate for possible intermediate output to files \n",
    "        self.learning_rate = learning_rate\n",
    "        self.compile(optimizer=optimizer)"
   ]
  },
  {
   "cell_type": "code",
   "execution_count": 5,
   "metadata": {},
   "outputs": [],
   "source": [
    "class My_KL_Layer(Layer):\n",
    "    '''\n",
    "    @note: Returns the input layers ! Required to allow for z-point calculation\n",
    "           in a final Lambda layer of the Encoder model    \n",
    "    '''\n",
    "    # Standard initialization of layers \n",
    "    def __init__(self, *args, **kwargs):\n",
    "        self.is_placeholder = True\n",
    "        super(My_KL_Layer, self).__init__(*args, **kwargs)\n",
    "\n",
    "    # The implementation interface of the Layer\n",
    "    def call(self, inputs, fact = 4.5e-4):\n",
    "        mu      = inputs[0]\n",
    "        log_var = inputs[1]\n",
    "        # Note: from other analysis we know that the backend applies tf.math.functions \n",
    "        # \"fact\" must be adjusted - for MNIST reasonable values are in the range of 0.65e-4 to 6.5e-4\n",
    "        kl_mean_batch = - fact * B.mean(1 + log_var - B.square(mu) - B.exp(log_var))\n",
    "        # We add the loss via the layer's add_loss() - it will be added up to other losses of the model     \n",
    "        self.add_loss(kl_mean_batch, inputs=inputs)\n",
    "        # We add the loss information to the metrics displayed during training \n",
    "        self.add_metric(kl_mean_batch, name='kl', aggregation='mean')\n",
    "        return inputs"
   ]
  },
  {
   "cell_type": "code",
   "execution_count": 6,
   "metadata": {},
   "outputs": [
    {
     "data": {
      "text/plain": [
       "\"class CustomRes(Layer):\\n    def __init__(self,*args, **kwargs):\\n        super().__init__(*args,**kwargs)\\n    def call(self,x):\\n        y = Input(shape=(None,160,160,3))(x)\\n        y = Conv2D(kernel_size=3, strides=2, filters=64, padding='same')(y)\\n        y = BatchNormalization()(y)\\n        y = ReLU()(y)\\n        y = Conv2D(kernel_size=3, strides=2, filters=64, padding='same')(y)\\n        y = BatchNormalization()(y)\\n        y = ReLU()(y)\\n        out = Add()([x,y])\\n        return out\\n    \\nclass CustomResT(Layer):\\n    def __init__(self,*args, **kwargs):\\n        super().__init__(*args,**kwargs)\\n    \\n    def call(self,x):\\n        y = Conv2DTranspose(kernel_size=3, strides=2, filters=64, padding='same')(x)\\n        y = BatchNormalization()(y)\\n        y = ReLU()(y)\\n        y = Conv2DTranspose(kernel_size=3, strides=2, filters=64, padding='same')(y)\\n        out = Add()([x,y])\\n        out = BatchNormalization()(out)\\n        out = ReLU()(out)\\n        return out\""
      ]
     },
     "execution_count": 6,
     "metadata": {},
     "output_type": "execute_result"
    }
   ],
   "source": [
    "'''class CustomRes(Layer):\n",
    "    def __init__(self,*args, **kwargs):\n",
    "        super().__init__(*args,**kwargs)\n",
    "    def call(self,x):\n",
    "        y = Input(shape=(None,160,160,3))(x)\n",
    "        y = Conv2D(kernel_size=3, strides=2, filters=64, padding='same')(y)\n",
    "        y = BatchNormalization()(y)\n",
    "        y = ReLU()(y)\n",
    "        y = Conv2D(kernel_size=3, strides=2, filters=64, padding='same')(y)\n",
    "        y = BatchNormalization()(y)\n",
    "        y = ReLU()(y)\n",
    "        out = Add()([x,y])\n",
    "        return out\n",
    "    \n",
    "class CustomResT(Layer):\n",
    "    def __init__(self,*args, **kwargs):\n",
    "        super().__init__(*args,**kwargs)\n",
    "    \n",
    "    def call(self,x):\n",
    "        y = Conv2DTranspose(kernel_size=3, strides=2, filters=64, padding='same')(x)\n",
    "        y = BatchNormalization()(y)\n",
    "        y = ReLU()(y)\n",
    "        y = Conv2DTranspose(kernel_size=3, strides=2, filters=64, padding='same')(y)\n",
    "        out = Add()([x,y])\n",
    "        out = BatchNormalization()(out)\n",
    "        out = ReLU()(out)\n",
    "        return out'''\n",
    "        "
   ]
  },
  {
   "cell_type": "code",
   "execution_count": 20,
   "metadata": {},
   "outputs": [],
   "source": [
    "def identity_block(x,filter):\n",
    "    # copy tensor to variable called x_skip\n",
    "    x_skip = x\n",
    "    # Layer 1\n",
    "    x = tf.keras.layers.Conv2D(filters=filter, kernel_size=3,strides=1, padding = 'same')(x)\n",
    "    x = tf.keras.layers.BatchNormalization(axis=3)(x)\n",
    "    x = tf.keras.layers.Activation('relu')(x)\n",
    "    # Layer 2\n",
    "    x = tf.keras.layers.Conv2D(filters=filter, kernel_size=3,strides=1, padding = 'same')(x)\n",
    "    x = tf.keras.layers.BatchNormalization(axis=3)(x)\n",
    "    # Add Residue\n",
    "    #x_skip = tf.keras.layers.Conv2D(filter, 1, strides = 1)(x_skip)\n",
    "    x = tf.keras.layers.Add()([x, x_skip])     \n",
    "    x = tf.keras.layers.Activation('relu')(x)\n",
    "    return x\n",
    "\n",
    "def identity_block_transpose(x,filter):\n",
    "        # copy tensor to variable called x_skip\n",
    "    x_skip = x\n",
    "    # Layer 1\n",
    "    x = Conv2DTranspose(kernel_size=3, strides=1, filters=filter, padding='same')(x)\n",
    "    x = tf.keras.layers.BatchNormalization(axis=3)(x)\n",
    "    x = tf.keras.layers.Activation('relu')(x)\n",
    "    # Layer 2\n",
    "    x = Conv2DTranspose(kernel_size=3, strides=1, filters=filter, padding='same')(x)\n",
    "    x = tf.keras.layers.BatchNormalization(axis=3)(x)\n",
    "    x = tf.keras.layers.Activation('relu')(x)\n",
    "    # Add Residue\n",
    "    #x_skip = tf.keras.layers.Conv2DTranspose(filter, 1, strides = 1)(x_skip)\n",
    "    x = tf.keras.layers.Add()([x, x_skip])     \n",
    "    x = tf.keras.layers.Activation('relu')(x)\n",
    "    return x\n",
    "\n",
    "#credits to https://www.analyticsvidhya.com/blog/2021/08/how-to-code-your-resnet-from-scratch-in-tensorflow/"
   ]
  },
  {
   "cell_type": "code",
   "execution_count": 21,
   "metadata": {},
   "outputs": [],
   "source": [
    "class CustomLambda(Layer):\n",
    "    def __init__(self, *args, **kwargs):\n",
    "        super(CustomLambda,self).__init__(*args,**kwargs)\n",
    "        \n",
    "    def call(self,args):\n",
    "            '''\n",
    "            A point in the latent space is calculated statistically \n",
    "            around an optimized mu for each sample \n",
    "            '''\n",
    "            mu, log_var = args # Note: These are 1D tensors !\n",
    "            epsilon = B.random_normal(shape=B.shape(mu), mean=0., stddev=1.)\n",
    "            return mu + B.exp(log_var / 2) * epsilon"
   ]
  },
  {
   "cell_type": "code",
   "execution_count": 22,
   "metadata": {},
   "outputs": [],
   "source": [
    "# The Main class \n",
    "# ~~~~~~~~~~~~~~\n",
    "class MyVariationalAutoencoder():\n",
    "    '''\n",
    "    Coding suggestions of D. Foster and F. Chollet were modified and extended by RMO \n",
    "    @version: V0.1, 25.04 \n",
    "    @change:  added b_build_all \n",
    "    @version: V0.2, 08.05 \n",
    "    @change:  Handling of the KL-loss via functions (partially not working)  \n",
    "    @version: V0.3, 29.05 \n",
    "    @change:  Handling of the KL-loss function via a customized Encoder layer \n",
    "    '''\n",
    "    \n",
    "    def __init__(self\n",
    "        , input_dim                  # the shape of the input tensors (for MNIST (28,28,1)) \n",
    "        , encoder_conv_filters       # number of maps of the different Conv2D layers   \n",
    "        , encoder_conv_kernel_size   # kernel sizes of the Conv2D layers \n",
    "        , encoder_conv_strides       # strides - here also used to reduce spatial resolution avoid pooling layers \n",
    "                                     # used instead of Pooling layers \n",
    "        , encoder_conv_padding       # padding - valid or same  \n",
    "        \n",
    "        , decoder_conv_t_filters     # number of maps in Con2DTranspose layers \n",
    "        , decoder_conv_t_kernel_size # kernel sizes of Conv2D Transpose layers  \n",
    "        , decoder_conv_t_strides     # strides for Conv2dTranspose layers - inverts spatial resolution\n",
    "        , decoder_conv_t_padding     # padding - valid or same  \n",
    "        \n",
    "        , z_dim                      # A good start is 16 or 24  \n",
    "        , solution_type  = 0         # Which type of solution for the KL loss calculation ?\n",
    "        , act            = 0         # Which type of activation function?  \n",
    "        , fact           = 0.65e-4   # Factor for the KL loss (0.5e-4 < fact < 1.e-3is reasonable) \n",
    "        , loss_type      = 0         # 0: BCE, 1: MSE   \n",
    "        , use_batch_norm = False     # Shall BatchNormalization be used after Conv2D layers? \n",
    "        , use_dropout    = False     # Shall statistical dropout layers be used for tregularization purposes ? \n",
    "        , dropout_rate   = 0.25      # Rate for statistical dropout layer  \n",
    "        , b_build_all    = False     # Added by RMO - full Model is build in 2 steps \n",
    "        ):\n",
    "        \n",
    "        '''\n",
    "        Input: \n",
    "        The encoder_... and decoder_.... variables are Python lists,\n",
    "        whose length defines the number of Conv2D and Conv2DTranspose layers \n",
    "        \n",
    "        input_dim : Shape/dimensions of the input tensor - for MNIST (28,28,1) \n",
    "        encoder_conv_filters:     List with the number of maps/filters per Conv2D layer    \n",
    "        encoder_conv_kernel_size: List with the kernel sizes for the Conv-Layers   \n",
    "        encoder_conv_strides:     List with the strides used for the Conv-Layers   \n",
    "\n",
    "        z_dim : dimension of the \"latent_space\"\n",
    "        solution_type : Type of solution for KL loss calculation (0: Customized Encoder layer, \n",
    "                                                                  1: transfer of mu, var_log to Decoder \n",
    "                                                                  2: model.add_loss()\n",
    "                                                                  3: definition of training step with Gradient.Tape()\n",
    "        \n",
    "        act :  determines activation function to use (0: LeakyRELU, 1:RELU , 2: SELU)\n",
    "               !!!! NOTE: !!!!\n",
    "               If SELU is used then the weight kernel initialization and the dropout layer need to be special   \n",
    "               https://github.com/christianversloot/machine-learning-articles/blob/main/using-selu-with-tensorflow-and-keras.md\n",
    "               AlphaDropout instead of Dropout + LeCunNormal for kernel initializer\n",
    "        fact = 0.65e-4 : Factor to scale the KL loss relative to the reconstruction loss\n",
    "                         Must be adapted to the way of calculation - \n",
    "                         e.g. for solution_type == 3 the loss is not averaged over all pixels \n",
    "                         => at least factor of around 1000 bigger than normally \n",
    "        loss-type = 0:   Defines the way we calculate a reconstruction loss \n",
    "                         0: Binary Cross Entropy - recommended by many authors \n",
    "                         1: Mean Square error - recommended by some authors especially for \"face arithmetics\"\n",
    "        use_batch_norm = False   # True : We use BatchNormalization   \n",
    "        use_dropout    = False   # True : We use dropout layers (rate = 0.25, see Encoder)\n",
    "        b_build_all    = False   # True : Full VAE Model is build in 1 step; \n",
    "                                   False: Encoder, Decoder, VAE are build in separate steps   \n",
    "        '''\n",
    "        \n",
    "        self.name = 'variational_autoencoder'\n",
    "\n",
    "        # Parameters for Layers which define the Encoder and Decoder \n",
    "        self.input_dim                  = input_dim\n",
    "        self.encoder_conv_filters       = encoder_conv_filters\n",
    "        self.encoder_conv_kernel_size   = encoder_conv_kernel_size\n",
    "        self.encoder_conv_strides       = encoder_conv_strides\n",
    "        self.encoder_conv_padding       = encoder_conv_padding\n",
    "        \n",
    "        self.decoder_conv_t_filters     = decoder_conv_t_filters\n",
    "        self.decoder_conv_t_kernel_size = decoder_conv_t_kernel_size\n",
    "        self.decoder_conv_t_strides     = decoder_conv_t_strides\n",
    "        self.decoder_conv_t_padding     = decoder_conv_t_padding\n",
    "        \n",
    "        self.z_dim = z_dim\n",
    "\n",
    "        # Check param for activation function \n",
    "        if act < 0 or act > 2: \n",
    "            print(\"Range error: Parameter act = \" + str(act) + \" has unknown value \")  \n",
    "            sys.exit()\n",
    "        else:\n",
    "            self.act = act \n",
    "        \n",
    "        # Factor to scale the KL loss relative to the Binary Cross Entropy loss \n",
    "        self.fact = fact \n",
    "        \n",
    "        # Type of loss - 0: BCE, 1: MSE \n",
    "        self.loss_type = loss_type\n",
    "        \n",
    "        \n",
    "        # Check param for solution approach  \n",
    "        if solution_type < 0 or solution_type > 3: \n",
    "            print(\"Range error: Parameter solution_type = \" + str(solution_type) + \" has unknown value \")  \n",
    "            sys.exit()\n",
    "        else:\n",
    "            self.solution_type = solution_type \n",
    "\n",
    "        self.use_batch_norm = use_batch_norm\n",
    "        self.use_dropout    = use_dropout\n",
    "        self.dropout_rate   = dropout_rate\n",
    "\n",
    "        # Preparation of some variables to be filled later \n",
    "        self._encoder_input  = None  # receives the Keras object for the Input Layer of the Encoder \n",
    "        self._encoder_output = None  # receives the Keras object for the Output Layer of the Encoder \n",
    "        self.shape_before_flattening = None # info of the Encoder => is used by Decoder \n",
    "        self._decoder_input  = None  # receives the Keras object for the Input Layer of the Decoder\n",
    "        self._decoder_output = None  # receives the Keras object for the Output Layer of the Decoder\n",
    "\n",
    "        # Layers / tensors for KL loss \n",
    "        self.mu      = None # receives special Dense Layer's tensor for KL-loss \n",
    "        self.log_var = None # receives special Dense Layer's tensor for KL-loss \n",
    "\n",
    "        # Parameters for SELU - just in case we may need to use it somewhere \n",
    "        # https://keras.io/api/layers/activations/ see selu\n",
    "        self.selu_scale = 1.05070098\n",
    "        self.selu_alpha = 1.67326324\n",
    "\n",
    "        # The number of Conv2D and Conv2DTranspose layers for the Encoder / Decoder \n",
    "        self.n_layers_encoder = len(encoder_conv_filters)\n",
    "        self.n_layers_decoder = len(decoder_conv_t_filters)\n",
    "\n",
    "        self.num_epoch = 0 # Intialization of the number of epochs \n",
    "\n",
    "        # A matrix for the values of the losses \n",
    "        self.std_loss  = tf.TensorArray(tf.float32, size=0, dynamic_size=True, clear_after_read=False)\n",
    "\n",
    "        # We only build the whole AE-model if requested\n",
    "        self.b_build_all = b_build_all\n",
    "        if b_build_all:\n",
    "            self._build_all()\n",
    "\n",
    "\n",
    "    def _build_enc(self, solution_type = -1, fact=-1.0):\n",
    "        '''  Your documentation '''\n",
    "        # Checking whether \"fact\" and \"solution_type\" for the KL loss shall be overwritten\n",
    "        if fact < 0:\n",
    "            fact = self.fact  \n",
    "        if solution_type < 0:\n",
    "            solution_type = self.solution_type\n",
    "        else: \n",
    "            self.solution_type = solution_type\n",
    "        \n",
    "        # Preparation: We later need a function to calculate the z-points in the latent space \n",
    "        # The following function wiChangedll be used by an eventual Lambda layer of the Encoder \n",
    "        '''def z_point_sampling(args):\n",
    "            \n",
    "            A point in the latent space is calculated statistically \n",
    "            around an optimized mu for each sample \n",
    "            \n",
    "            mu, log_var = args # Note: These are 1D tensors !\n",
    "            epsilon = B.random_normal(shape=B.shape(mu), mean=0., stddev=1.)\n",
    "            return mu + B.exp(log_var / 2) * epsilon'''\n",
    "\n",
    "        \n",
    "        # Input \"layer\"\n",
    "        self._encoder_input = Input(shape=self.input_dim, name='encoder_input')\n",
    "\n",
    "        # Initialization of a running variable x for individual layers \n",
    "        x = self._encoder_input\n",
    "        # Build the CNN-part with Conv2D layers \n",
    "        # Note that stride>=2 reduces spatial resolution without the help of pooling layers \n",
    "        for i in range(self.n_layers_encoder):\n",
    "            conv_layer = Conv2D(\n",
    "                filters = self.encoder_conv_filters[i]\n",
    "                , kernel_size = self.encoder_conv_kernel_size[i]\n",
    "                , strides = self.encoder_conv_strides[i]\n",
    "                , padding = self.encoder_conv_padding[i]  # Important ! Controls the shape of the layer tensors.    \n",
    "                , name = 'encoder_conv_' + str(i)\n",
    "                )\n",
    "            x = conv_layer(x)\n",
    "            \n",
    "            # The \"normalization\" should be done ahead of the \"activation\" \n",
    "            if self.use_batch_norm:\n",
    "                x = BatchNormalization()(x)\n",
    "\n",
    "            # Selection of activation function (out of 3)      \n",
    "            if self.act == 0:\n",
    "                x = LeakyReLU()(x)\n",
    "            elif self.act == 1:\n",
    "                x = ReLU()(x)\n",
    "            elif self.act == 2: \n",
    "                # RMO: Just use the Activation layer to use SELU with predefined (!) parameters \n",
    "                x = Activation('selu')(x) \n",
    "\n",
    "            # Fulfill some SELU requirements \n",
    "            if self.use_dropout:\n",
    "                if self.act == 2: \n",
    "                    x = AlphaDropout(rate = 0.25)(x)\n",
    "                else:\n",
    "                    x = Dropout(rate = 0.25)(x)\n",
    "        x = identity_block(x,filter=self.encoder_conv_filters[self.n_layers_encoder-1])\n",
    "        # Last multi-dim tensor shape - is later needed by the decoder \n",
    "        self._shape_before_flattening = B.int_shape(x)[1:]\n",
    "\n",
    "        # Flattened layer before calculating VAE-output (z-points) via 2 special layers \n",
    "        x = Flatten()(x)\n",
    "        \n",
    "        # \"Variational\" part - create 2 Dense layers for a statistical distribution of z-points  \n",
    "        self.mu      = Dense(self.z_dim, name='mu')(x)\n",
    "        self.log_var = Dense(self.z_dim, name='log_var')(x)\n",
    "\n",
    "        if solution_type == 0: \n",
    "            # Customized layer for the calculation of the KL loss based on mu, var_log data\n",
    "            # We use a customized layer according to a class definition  \n",
    "            self.mu, self.log_var = My_KL_Layer()([self.mu, self.log_var], fact=fact)\n",
    "\n",
    "\n",
    "        # Layer to provide a z_point in the Latent Space for each sample of the batch \n",
    "        #self._encoder_output = Lambda(z_point_sampling, name='encoder_output')([self.mu, self.log_var])\n",
    "        self._encoder_output = CustomLambda()([self.mu, self.log_var])\n",
    "        # The Encoder Model \n",
    "        # ~~~~~~~~~~~~~~~~~~~\n",
    "        # With extra KL layer or with vae.add_loss()\n",
    "        if self.solution_type == 0 or self.solution_type == 2: \n",
    "            self.encoder = Model(self._encoder_input, self._encoder_output, name=\"encoder\")\n",
    "        \n",
    "        # Transfer solution => Multiple outputs \n",
    "        if self.solution_type == 1  or self.solution_type == 3: \n",
    "            self.encoder = Model(inputs=self._encoder_input, outputs=[self._encoder_output, self.mu, self.log_var], name=\"encoder\")\n",
    "            \n",
    "    def _build_dec(self):\n",
    "        ''' Your documentation       '''       \n",
    " \n",
    "        # Input layer - aligned to the shape of z-points in the latent space = output[0] of the Encoder \n",
    "        self._decoder_inp_z = Input(shape=(self.z_dim,), name='decoder_input')\n",
    "        \n",
    "        # Additional Input layers for the KL tensors (mu, log_var) from the Encoder\n",
    "        if self.solution_type == 1  or self.solution_type == 3: \n",
    "            self._dec_inp_mu       = Input(shape=(self.z_dim), name='mu_input')\n",
    "            self._dec_inp_var_log  = Input(shape=(self.z_dim), name='logvar_input')\n",
    "            \n",
    "            # We give the layers later used as output a name \n",
    "            # Each of the Activation layers below just correspond to an identity passed through \n",
    "            #self._dec_mu            = self._dec_inp_mu \n",
    "            #self._dec_var_log       = self._dec_inp_var_log \n",
    "            self._dec_mu            = Activation('linear',name='dc_mu')(self._dec_inp_mu) \n",
    "            self._dec_var_log       = Activation('linear', name='dc_var')(self._dec_inp_var_log) \n",
    "\n",
    "        # Here we use the tensor shape info from the Encoder          \n",
    "        x = Dense(np.prod(self._shape_before_flattening))(self._decoder_inp_z)\n",
    "        x = Reshape(self._shape_before_flattening)(x)\n",
    "        x = identity_block_transpose(x,filter=self.decoder_conv_t_filters[0])\n",
    "        # The inverse CNN\n",
    "        for i in range(self.n_layers_decoder):\n",
    "            conv_t_layer = Conv2DTranspose(\n",
    "                filters = self.decoder_conv_t_filters[i]\n",
    "                , kernel_size = self.decoder_conv_t_kernel_size[i]\n",
    "                , strides = self.decoder_conv_t_strides[i]\n",
    "                , padding = self.decoder_conv_t_padding[i] # Important ! Controls the shape of tensors during reconstruction\n",
    "                                   # we want an image with the same resolution as the original input \n",
    "                , name = 'decoder_conv_t_' + str(i)\n",
    "                )\n",
    "            x = conv_t_layer(x)\n",
    "\n",
    "            # Normalization and Activation \n",
    "            if i < self.n_layers_decoder - 1:\n",
    "                # Also in the decoder: normalization before activation  \n",
    "                if self.use_batch_norm:\n",
    "                    x = BatchNormalization()(x)\n",
    "                \n",
    "                # Choice of activation function\n",
    "                if self.act == 0:\n",
    "                    x = LeakyReLU()(x)\n",
    "                elif self.act == 1:\n",
    "                    x = ReLU()(x)\n",
    "                elif self.act == 2: \n",
    "                    #x = self.selu_scale * ELU(alpha=self.selu_alpha)(x)\n",
    "                    x = Activation('selu')(x)\n",
    "                \n",
    "                # Adaptions to SELU requirements \n",
    "                if self.use_dropout:\n",
    "                    if self.act == 2: \n",
    "                        x = AlphaDropout(rate = 0.25)(x)\n",
    "                    else:\n",
    "                        x = Dropout(rate = 0.25)(x)\n",
    "                \n",
    "            # Last layer => Sigmoid output \n",
    "            # => This requires s<pre style=\"padding:8px; height: 400px; overflow:auto;\">caled input => Division of pixel values by 255\n",
    "            else:\n",
    "                x = Activation('sigmoid', name='dc_reco')(x)\n",
    "\n",
    "        # Output tensor => a scaled image \n",
    "        self._decoder_output = x\n",
    "\n",
    "        # The Decoder model \n",
    "        # solution_type == 0/2/3: Just the decoded input \n",
    "        if self.solution_type == 0 or self.solution_type == 2 or self.solution_type == 3: \n",
    "            self.decoder = Model(self._decoder_inp_z, self._decoder_output, name=\"decoder\")\n",
    "        \n",
    "        # solution_type == 1: The decoded tensor plus the transferred tensors mu and log_var a for the variational distribution \n",
    "        if self.solution_type == 1: \n",
    "            self.decoder = Model([self._decoder_inp_z, self._dec_inp_mu, self._dec_inp_var_log], \n",
    "                                 [self._decoder_output, self._dec_mu, self._dec_var_log], name=\"decoder\")\n",
    "    # Function to build the full VAE\n",
    "    # ~~~~~~~~~~~~~~~~~~~~~~~~~~~~~~~~~~~~~~~~~~~~~ \n",
    "    def _build_VAE(self):     \n",
    "        ''' Your documentation '''\n",
    "        \n",
    "        # Solution with train_step() and GradientTape(): Control is transferred to class VAE  \n",
    "        if self.solution_type == 3:\n",
    "            self.model = VAE(self)   # Here parameter \"self\" provides a reference to an instance of MyVariationalAutoencoder\n",
    "            #self.model.summary()\n",
    "        \n",
    "        # Solutions with layer.add_loss or model.add_loss() \n",
    "        if self.solution_type == 0 or self.solution_type == 2:\n",
    "            model_input  = self._encoder_input\n",
    "            model_output = self.decoder(self._encoder_output)\n",
    "            self.model = Model(model_input, model_output, name=\"vae\")\n",
    "\n",
    "        # Solution with transfer of data from the Encoder to the Decoder output layer\n",
    "        if self.solution_type == 1: \n",
    "            enc_out      = self.encoder(self._encoder_input)\n",
    "            dc_reco, dc_mu, dc_var = self.decoder(enc_out)\n",
    "            # We organize the output and later association of cost functions and metrics via a dictionary \n",
    "            mod_outputs = {'vae_out_main': dc_reco, 'vae_out_mu': dc_mu, 'vae_out_var': dc_var}\n",
    "            self.model = Model(inputs=self._encoder_input, outputs=mod_outputs, name=\"vae\")\n",
    "\n",
    "    # Function to build full AE in one step if requested\n",
    "    # ~~~~~~~~~~~~~~~~~~~~~~~~~~~~~~~~~~~~~~~~~~~~~~~~~~\n",
    "    def _build_all(self):\n",
    "        self._build_enc()\n",
    "        self._build_dec()\n",
    "        self._build_VAE()\n",
    "    # Function to compile VA-model with a KL-layer in the Encoder \n",
    "    # ~~~~~~~~~~~~~~~~~~~~~~~~~~~~~~~~~~~~~~~~~~~~~~~~~~~~~~~~~\n",
    "    def compile_for_KL_Layer(self, learning_rate):\n",
    "        if self.solution_type != 0: \n",
    "            print(\"The compile_L() function is only compatible with solution_type = 0\")\n",
    "            sys.exit()\n",
    "        self.learning_rate = learning_rate\n",
    "        # Optimizer \n",
    "        optimizer = Adam(learning_rate=learning_rate)\n",
    "        self.model.compile(optimizer=optimizer, loss=\"binary_crossentropy\",\n",
    "                           metrics=[tf.keras.metrics.BinaryCrossentropy(name='bce')])\n",
    "    def train_model_with_KL_Layer(self, x_train, batch_size, epochs, initial_epoch = 0):\n",
    "        self.model.fit(     \n",
    "            x_train\n",
    "            , x_train\n",
    "            , batch_size = batch_size\n",
    "            , shuffle = True\n",
    "            , epochs = epochs\n",
    "            , initial_epoch = initial_epoch\n",
    "        )\n",
    "\n",
    "    # Function to compile the full VAE\n",
    "    # ~~~~~~~~~~~~~~~~~~~~~~~~~~~~~~~~~~~~~~~~~~~~~ \n",
    "    def compile_myVAE(self, learning_rate):\n",
    "    \n",
    "        # Optimizer\n",
    "        # ~~~~~~~~~ \n",
    "        optimizer = Adam(learning_rate=learning_rate)\n",
    "        # save the learning rate for possible intermediate output to files \n",
    "        self.learning_rate = learning_rate\n",
    "        \n",
    "        # Parameter \"fact\" will be used by the cost functions defined below to scale the KL loss relative to the BCE loss \n",
    "        fact = self.fact\n",
    "        \n",
    "        # Function for solution_type == 1\n",
    "        # ~~~~~~~~~~~~~~~~~~~~~~~~~~~~~~~~~  \n",
    "        @tf.function\n",
    "        def mu_loss(y_true, y_pred):\n",
    "            loss_mux = fact * tf.reduce_mean(tf.square(y_pred))\n",
    "            return loss_mux\n",
    "        \n",
    "        @tf.function\n",
    "        def logvar_loss(y_true, y_pred):\n",
    "            loss_varx = -fact * tf.reduce_mean(1 + y_pred - tf.exp(y_pred))    \n",
    "            return loss_varx\n",
    "\n",
    "        # Function for solution_type == 2 \n",
    "        # ~~~~~~~~~~~~~~~~~~~~~~~~~~~~~~~~\n",
    "        # We follow an approach described at  \n",
    "        # https://www.tensorflow.org/api_docs/python/tf/keras/layers/Layer\n",
    "        # NOTE: We can NOT use @tf.function here \n",
    "        def get_kl_loss(mu, log_var):\n",
    "            kl_loss = -fact * tf.reduce_mean(1 + log_var - tf.square(mu) - tf.exp(log_var))\n",
    "            return kl_loss\n",
    "\n",
    "\n",
    "        # Required operations for solution_type==2 => model.add_loss()\n",
    "        # ~~~~~~~~~~~~~~~~~~~~~~~~~~~~~~~~~~~~~~~~~\n",
    "        res_kl = get_kl_loss(mu=self.mu, log_var=self.log_var)\n",
    "\n",
    "        if self.solution_type == 2: \n",
    "            self.model.add_loss(res_kl)    \n",
    "            self.model.add_metric(res_kl, name='kl', aggregation='mean')\n",
    "        \n",
    "        # Model compilation \n",
    "        # ~~~~~~~~~~~~~~~~~~~~\n",
    "        \n",
    "        # Solutions with layer.add_loss or model.add_loss() \n",
    "        if self.solution_type == 0 or self.solution_type == 2: \n",
    "            if self.loss_type == 0: \n",
    "                self.model.compile(optimizer=optimizer, loss=\"binary_crossentropy\",\n",
    "                                   metrics=[tf.keras.metrics.BinaryCrossentropy(name='bce')])\n",
    "            if self.loss_type == 1: \n",
    "                self.model.compile(optimizer=optimizer, loss=\"mse\",\n",
    "                                   metrics=[tf.keras.metrics.MSE(name='mse')])\n",
    "        \n",
    "        # Solution with transfer of data from the Encoder to the Decoder output layer\n",
    "        if self.solution_type == 1: \n",
    "            if self.loss_type == 0: \n",
    "                self.model.compile(optimizer=optimizer\n",
    "                                   , loss={'vae_out_main':'binary_crossentropy', 'vae_out_mu':mu_loss, 'vae_out_var':logvar_loss} \n",
    "                                   #, metrics={'vae_out_main':tf.keras.metrics.BinaryCrossentropy(name='bce'), 'vae_out_mu':mu_loss, 'vae_out_var': logvar_loss }\n",
    "                                   )\n",
    "            if self.loss_type == 1: \n",
    "                self.model.compile(optimizer=optimizer\n",
    "                                   , loss={'vae_out_main':'mse', 'vae_out_mu':mu_loss, 'vae_out_var':logvar_loss} \n",
    "                                   #, metrics={'vae_out_main':tf.keras.metrics.MSE(name='mse'), 'vae_out_mu':mu_loss, 'vae_out_var': logvar_loss }\n",
    "                                   )\n",
    "       \n",
    "        # Solution with train_step() and GradientTape(): Control is transferred to class VAE  \n",
    "        if self.solution_type == 3:\n",
    "            self.model.compile(optimizer=optimizer)\n",
    "    # Function to initiate training \n",
    "    # ~~~~~~~~~~~~~~~~~~~~~~~~~~~~~~~~\n",
    "    def train_myVAE(self, x_train, x_target=None\n",
    "                    , b_use_generator   = False \n",
    "                    , b_target_ne_train = False\n",
    "                    , batch_size = 32\n",
    "                    , epochs = 2\n",
    "                    , initial_epoch = 0, \n",
    "                    t_mu=None, \n",
    "                    t_logvar=None\n",
    "                    ,callbacks = None\n",
    "                    ):\n",
    "\n",
    "        ''' \n",
    "        @note: Sometimes x_target MUST be provided - e.g. for Denoising, Recolorization \n",
    "        @note: x_train will come as a dataflow in case of a generator \n",
    "        '''\n",
    "\n",
    "        # cax = ProgbarLogger(count_mode='samples', stateful_metrics=None)\n",
    "        \n",
    "        class MyPrinterCallback(tf.keras.callbacks.Callback):\n",
    "            # def on_train_batch_begin(self, batch, logs=None):\n",
    "            #     # Do something on begin of training batch\n",
    "        \n",
    "            def on_epoch_end(self, epoch, logs=None):\n",
    "                # Get overview over available keys \n",
    "                #keys = list(logs.keys())\n",
    "                print(\"\\nEPOCH: {}, Total Loss: {:8.6f}, // reco loss: {:8.6f}, mu Loss: {:8.6f}, logvar loss: {:8.6f}\".format(epoch, \n",
    "                      logs['loss'], logs['decoder_loss'], logs['decoder_1_loss'], logs['decoder_2_loss'] \n",
    "                                            ))\n",
    "                print()\n",
    "                #print('EPOCH: {}, Total Loss: {}'.format(epoch, logs['loss']))\n",
    "                #print('EPOCH: {}, metrics: {}'.format(epoch, logs['metrics']))\n",
    "        \n",
    "            def on_epoch_begin(self, epoch, logs=None):\n",
    "                print('-'*50)\n",
    "                print('STARTING EPOCH: {}'.format(epoch))\n",
    "                \n",
    "        if not b_target_ne_train : \n",
    "            x_target = x_train\n",
    "\n",
    "        # Data are provided from tensors in the Video RAM \n",
    "        if not b_use_generator: \n",
    "\n",
    "            # Solutions with layer.add_loss or model.add_loss() \n",
    "            # Solution with train_step() and GradientTape(): Control is transferred to class VAE  \n",
    "            if self.solution_type == 0 or self.solution_type == 2 or self.solution_type == 3: \n",
    "                self.model.fit(     \n",
    "                    x_train\n",
    "                    , x_target\n",
    "                    , batch_size = batch_size\n",
    "                    , shuffle = True\n",
    "                    , epochs = epochs\n",
    "                    , initial_epoch = initial_epoch\n",
    "                )\n",
    "            \n",
    "            # Solution with transfer of data from the Encoder to the Decoder output layer\n",
    "            if self.solution_type == 1: \n",
    "                self.model.fit(     \n",
    "                    x_train\n",
    "                    , {'vae_out_main': x_target, 'vae_out_mu': t_mu, 'vae_out_var':t_logvar}\n",
    "                    #               also working  \n",
    "                    #                , [x_train, t_mu, t_logvar] # we provide some dummy tensors here  \n",
    "                    , batch_size = batch_size\n",
    "                    , shuffle = True\n",
    "                    , epochs = epochs\n",
    "                    , initial_epoch = initial_epoch\n",
    "                    #, verbose=1\n",
    "                )\n",
    "    \n",
    "        # If data are provided as a batched dataflow from a generator - e.g. for Celeb A \n",
    "        else: \n",
    "\n",
    "            # Solution with transfer of data from the Encoder to the Decoder output layer\n",
    "            if self.solution_type == 1: \n",
    "                print(\"We have no solution yet for solution_type==1 and generators !\")\n",
    "                sys.exit()\n",
    "\n",
    "            # Solutions with layer.add_loss or model.add_loss() \n",
    "            # Solution with train_step() and GradientTape(): Control is transferred to class VAE  \n",
    "            if self.solution_type == 0 or self.solution_type == 2 or self.solution_type == 3: \n",
    "                self.model.fit(     \n",
    "                    x_train   # coming as a batched dataflow from the outside generator - no batch size required here \n",
    "                    , shuffle = True\n",
    "                    , epochs = epochs\n",
    "                    , initial_epoch = initial_epoch\n",
    "                    , callbacks = callbacks\n",
    "                )"
   ]
  },
  {
   "cell_type": "code",
   "execution_count": 10,
   "metadata": {},
   "outputs": [
    {
     "ename": "NameError",
     "evalue": "name 'train' is not defined",
     "output_type": "error",
     "traceback": [
      "\u001b[0;31m---------------------------------------------------------------------------\u001b[0m",
      "\u001b[0;31mNameError\u001b[0m                                 Traceback (most recent call last)",
      "\u001b[1;32m/Users/antoniomone/Desktop/Uni/LEIDEN/THESIS/RLtests/vaekeras.ipynb Cell 69\u001b[0m in \u001b[0;36m<cell line: 17>\u001b[0;34m()\u001b[0m\n\u001b[1;32m     <a href='vscode-notebook-cell:/Users/antoniomone/Desktop/Uni/LEIDEN/THESIS/RLtests/vaekeras.ipynb#Y123sZmlsZQ%3D%3D?line=31'>32</a>\u001b[0m \u001b[39mif\u001b[39;00m SOLUTION_TYPE \u001b[39m==\u001b[39m \u001b[39m3\u001b[39m: \n\u001b[1;32m     <a href='vscode-notebook-cell:/Users/antoniomone/Desktop/Uni/LEIDEN/THESIS/RLtests/vaekeras.ipynb#Y123sZmlsZQ%3D%3D?line=32'>33</a>\u001b[0m     data_gen \u001b[39m=\u001b[39m ImageDataGenerator()\n\u001b[1;32m     <a href='vscode-notebook-cell:/Users/antoniomone/Desktop/Uni/LEIDEN/THESIS/RLtests/vaekeras.ipynb#Y123sZmlsZQ%3D%3D?line=33'>34</a>\u001b[0m     data_flow \u001b[39m=\u001b[39m data_gen\u001b[39m.\u001b[39mflow(\n\u001b[0;32m---> <a href='vscode-notebook-cell:/Users/antoniomone/Desktop/Uni/LEIDEN/THESIS/RLtests/vaekeras.ipynb#Y123sZmlsZQ%3D%3D?line=34'>35</a>\u001b[0m                        train \n\u001b[1;32m     <a href='vscode-notebook-cell:/Users/antoniomone/Desktop/Uni/LEIDEN/THESIS/RLtests/vaekeras.ipynb#Y123sZmlsZQ%3D%3D?line=35'>36</a>\u001b[0m                      , batch_size \u001b[39m=\u001b[39m BATCH_SIZE\n\u001b[1;32m     <a href='vscode-notebook-cell:/Users/antoniomone/Desktop/Uni/LEIDEN/THESIS/RLtests/vaekeras.ipynb#Y123sZmlsZQ%3D%3D?line=36'>37</a>\u001b[0m                      , shuffle \u001b[39m=\u001b[39m \u001b[39mTrue\u001b[39;00m\n\u001b[1;32m     <a href='vscode-notebook-cell:/Users/antoniomone/Desktop/Uni/LEIDEN/THESIS/RLtests/vaekeras.ipynb#Y123sZmlsZQ%3D%3D?line=37'>38</a>\u001b[0m                      )\n",
      "\u001b[0;31mNameError\u001b[0m: name 'train' is not defined"
     ]
    }
   ],
   "source": [
    "'''data_gen = ImageDataGenerator() # if the image data are not scaled already for float arrays  \n",
    "# class_mode = 'input' is used for Autoencoders \n",
    "# see https://vijayabhaskar96.medium.com/tutorial-image-classification-with-keras-flow-from-directory-and-generators-95f75ebe5720\n",
    "data_flow = data_gen.flow_from_directory(directory = TRAIN_PATH\n",
    "                                            #, target_size = INPUT_DIM[:2]\n",
    "                                            , batch_size = BATCH_SIZE\n",
    "                                            , shuffle = True\n",
    "                                            , class_mode = 'input'\n",
    "                                            , subset = \"training\"\n",
    "                                            )'''\n",
    "# Generator based on Numpy array for images in RAM\n",
    "# ~~~~~~~~~~~~~~~~~~~~~~~~~~~~~~\n",
    "b_use_generator_ay = True\n",
    "BATCH_SIZE    = 256\n",
    "SOLUTION_TYPE = 3\n",
    "\n",
    "if b_use_generator_ay:\n",
    "    # solution_type == 0 works with extra layers and add_loss to control the KL loss\n",
    "    # it requires the definition of \"labels\" - which are the original images  \n",
    "    if SOLUTION_TYPE == 0: \n",
    "        data_gen = ImageDataGenerator()\n",
    "        data_flow = data_gen.flow(\n",
    "                           train \n",
    "                         , train\n",
    "                         #, target_size = INPUT_DIM[:2]\n",
    "                         , batch_size = BATCH_SIZE\n",
    "                         , shuffle = True\n",
    "                         #, class_mode = 'input'   # Not working with this type of generator \n",
    "                         #, subset = \"training\"    # Not required \n",
    "                         )\n",
    "\n",
    "    if SOLUTION_TYPE == 3: \n",
    "        data_gen = ImageDataGenerator()\n",
    "        data_flow = data_gen.flow(\n",
    "                           train \n",
    "                         , batch_size = BATCH_SIZE\n",
    "                         , shuffle = True\n",
    "                         )"
   ]
  },
  {
   "attachments": {},
   "cell_type": "markdown",
   "metadata": {},
   "source": [
    "## Model"
   ]
  },
  {
   "cell_type": "code",
   "execution_count": 314,
   "metadata": {},
   "outputs": [],
   "source": [
    "#VAE FOR 84 GRAYSCALE\n",
    "MyVae = MyVariationalAutoencoder(\n",
    "    input_dim = INPUT_DIM\n",
    "   , encoder_conv_filters     = [16,32]\n",
    "   , encoder_conv_kernel_size = [8,4]\n",
    "   , encoder_conv_strides     = [4,1]\n",
    "   , encoder_conv_padding     = ['same','same']\n",
    "\n",
    "\n",
    "   , decoder_conv_t_filters     = [32,16,n_ch]\n",
    "   , decoder_conv_t_kernel_size = [4,8,2]\n",
    "   , decoder_conv_t_strides     = [1,4,1]\n",
    "   , decoder_conv_t_padding     = ['same','same','same']\n",
    "\n",
    "    , z_dim = z_dim\n",
    "    , solution_type = solution_type    \n",
    "    , act   = act\n",
    "    , fact  = fact\n",
    "    , loss_type      = loss_type\n",
    "    , use_batch_norm = use_batch_norm\n",
    "    , use_dropout    = use_dropout\n",
    "    , dropout_rate   = dropout_rate\n",
    ")"
   ]
  },
  {
   "cell_type": "code",
   "execution_count": 23,
   "metadata": {},
   "outputs": [],
   "source": [
    "# ORIGINAL ONE FOR THE 160_160 VERSION\n",
    "MyVae = MyVariationalAutoencoder(\n",
    "    input_dim = INPUT_DIM\n",
    "   , encoder_conv_filters     = [32,32,64,]\n",
    "   , encoder_conv_kernel_size = [1,4,4]\n",
    "   , encoder_conv_strides     = [1,2,2]\n",
    "   , encoder_conv_padding     = ['same','same','same']\n",
    "\n",
    "\n",
    "   , decoder_conv_t_filters     = [64,64,n_ch]\n",
    "   , decoder_conv_t_kernel_size = [1,3,3]\n",
    "   , decoder_conv_t_strides     = [1,2,2]\n",
    "   , decoder_conv_t_padding     = ['same','same','same']\n",
    "\n",
    "    , z_dim = z_dim\n",
    "    , solution_type = solution_type    \n",
    "    , act   = act\n",
    "    , fact  = fact\n",
    "    , loss_type      = loss_type\n",
    "    , use_batch_norm = use_batch_norm\n",
    "    , use_dropout    = use_dropout\n",
    "    , dropout_rate   = dropout_rate\n",
    ")"
   ]
  },
  {
   "cell_type": "code",
   "execution_count": 24,
   "metadata": {},
   "outputs": [
    {
     "name": "stdout",
     "output_type": "stream",
     "text": [
      "Model: \"encoder\"\n",
      "__________________________________________________________________________________________________\n",
      " Layer (type)                   Output Shape         Param #     Connected to                     \n",
      "==================================================================================================\n",
      " encoder_input (InputLayer)     [(None, 160, 160, 3  0           []                               \n",
      "                                )]                                                                \n",
      "                                                                                                  \n",
      " encoder_conv_0 (Conv2D)        (None, 160, 160, 32  128         ['encoder_input[0][0]']          \n",
      "                                )                                                                 \n",
      "                                                                                                  \n",
      " batch_normalization_9 (BatchNo  (None, 160, 160, 32  128        ['encoder_conv_0[0][0]']         \n",
      " rmalization)                   )                                                                 \n",
      "                                                                                                  \n",
      " re_lu_5 (ReLU)                 (None, 160, 160, 32  0           ['batch_normalization_9[0][0]']  \n",
      "                                )                                                                 \n",
      "                                                                                                  \n",
      " encoder_conv_1 (Conv2D)        (None, 80, 80, 32)   16416       ['re_lu_5[0][0]']                \n",
      "                                                                                                  \n",
      " batch_normalization_10 (BatchN  (None, 80, 80, 32)  128         ['encoder_conv_1[0][0]']         \n",
      " ormalization)                                                                                    \n",
      "                                                                                                  \n",
      " re_lu_6 (ReLU)                 (None, 80, 80, 32)   0           ['batch_normalization_10[0][0]'] \n",
      "                                                                                                  \n",
      " encoder_conv_2 (Conv2D)        (None, 40, 40, 64)   32832       ['re_lu_6[0][0]']                \n",
      "                                                                                                  \n",
      " batch_normalization_11 (BatchN  (None, 40, 40, 64)  256         ['encoder_conv_2[0][0]']         \n",
      " ormalization)                                                                                    \n",
      "                                                                                                  \n",
      " re_lu_7 (ReLU)                 (None, 40, 40, 64)   0           ['batch_normalization_11[0][0]'] \n",
      "                                                                                                  \n",
      " conv2d_2 (Conv2D)              (None, 40, 40, 64)   36928       ['re_lu_7[0][0]']                \n",
      "                                                                                                  \n",
      " batch_normalization_12 (BatchN  (None, 40, 40, 64)  256         ['conv2d_2[0][0]']               \n",
      " ormalization)                                                                                    \n",
      "                                                                                                  \n",
      " activation_4 (Activation)      (None, 40, 40, 64)   0           ['batch_normalization_12[0][0]'] \n",
      "                                                                                                  \n",
      " conv2d_3 (Conv2D)              (None, 40, 40, 64)   36928       ['activation_4[0][0]']           \n",
      "                                                                                                  \n",
      " batch_normalization_13 (BatchN  (None, 40, 40, 64)  256         ['conv2d_3[0][0]']               \n",
      " ormalization)                                                                                    \n",
      "                                                                                                  \n",
      " add_2 (Add)                    (None, 40, 40, 64)   0           ['batch_normalization_13[0][0]', \n",
      "                                                                  're_lu_7[0][0]']                \n",
      "                                                                                                  \n",
      " activation_5 (Activation)      (None, 40, 40, 64)   0           ['add_2[0][0]']                  \n",
      "                                                                                                  \n",
      " flatten_1 (Flatten)            (None, 102400)       0           ['activation_5[0][0]']           \n",
      "                                                                                                  \n",
      " mu (Dense)                     (None, 128)          13107328    ['flatten_1[0][0]']              \n",
      "                                                                                                  \n",
      " log_var (Dense)                (None, 128)          13107328    ['flatten_1[0][0]']              \n",
      "                                                                                                  \n",
      " custom_lambda_1 (CustomLambda)  (None, 128)         0           ['mu[0][0]',                     \n",
      "                                                                  'log_var[0][0]']                \n",
      "                                                                                                  \n",
      "==================================================================================================\n",
      "Total params: 26,338,912\n",
      "Trainable params: 26,338,400\n",
      "Non-trainable params: 512\n",
      "__________________________________________________________________________________________________\n"
     ]
    }
   ],
   "source": [
    "MyVae._build_enc()\n",
    "MyVae.encoder.summary()"
   ]
  },
  {
   "cell_type": "code",
   "execution_count": 25,
   "metadata": {},
   "outputs": [
    {
     "name": "stdout",
     "output_type": "stream",
     "text": [
      "Model: \"decoder\"\n",
      "__________________________________________________________________________________________________\n",
      " Layer (type)                   Output Shape         Param #     Connected to                     \n",
      "==================================================================================================\n",
      " decoder_input (InputLayer)     [(None, 128)]        0           []                               \n",
      "                                                                                                  \n",
      " dense_1 (Dense)                (None, 102400)       13209600    ['decoder_input[0][0]']          \n",
      "                                                                                                  \n",
      " reshape_1 (Reshape)            (None, 40, 40, 64)   0           ['dense_1[0][0]']                \n",
      "                                                                                                  \n",
      " conv2d_transpose_2 (Conv2DTran  (None, 40, 40, 64)  36928       ['reshape_1[0][0]']              \n",
      " spose)                                                                                           \n",
      "                                                                                                  \n",
      " batch_normalization_14 (BatchN  (None, 40, 40, 64)  256         ['conv2d_transpose_2[0][0]']     \n",
      " ormalization)                                                                                    \n",
      "                                                                                                  \n",
      " activation_6 (Activation)      (None, 40, 40, 64)   0           ['batch_normalization_14[0][0]'] \n",
      "                                                                                                  \n",
      " conv2d_transpose_3 (Conv2DTran  (None, 40, 40, 64)  36928       ['activation_6[0][0]']           \n",
      " spose)                                                                                           \n",
      "                                                                                                  \n",
      " batch_normalization_15 (BatchN  (None, 40, 40, 64)  256         ['conv2d_transpose_3[0][0]']     \n",
      " ormalization)                                                                                    \n",
      "                                                                                                  \n",
      " activation_7 (Activation)      (None, 40, 40, 64)   0           ['batch_normalization_15[0][0]'] \n",
      "                                                                                                  \n",
      " add_3 (Add)                    (None, 40, 40, 64)   0           ['activation_7[0][0]',           \n",
      "                                                                  'reshape_1[0][0]']              \n",
      "                                                                                                  \n",
      " activation_8 (Activation)      (None, 40, 40, 64)   0           ['add_3[0][0]']                  \n",
      "                                                                                                  \n",
      " decoder_conv_t_0 (Conv2DTransp  (None, 40, 40, 64)  4160        ['activation_8[0][0]']           \n",
      " ose)                                                                                             \n",
      "                                                                                                  \n",
      " batch_normalization_16 (BatchN  (None, 40, 40, 64)  256         ['decoder_conv_t_0[0][0]']       \n",
      " ormalization)                                                                                    \n",
      "                                                                                                  \n",
      " re_lu_8 (ReLU)                 (None, 40, 40, 64)   0           ['batch_normalization_16[0][0]'] \n",
      "                                                                                                  \n",
      " decoder_conv_t_1 (Conv2DTransp  (None, 80, 80, 64)  36928       ['re_lu_8[0][0]']                \n",
      " ose)                                                                                             \n",
      "                                                                                                  \n",
      " batch_normalization_17 (BatchN  (None, 80, 80, 64)  256         ['decoder_conv_t_1[0][0]']       \n",
      " ormalization)                                                                                    \n",
      "                                                                                                  \n",
      " re_lu_9 (ReLU)                 (None, 80, 80, 64)   0           ['batch_normalization_17[0][0]'] \n",
      "                                                                                                  \n",
      " decoder_conv_t_2 (Conv2DTransp  (None, 160, 160, 3)  1731       ['re_lu_9[0][0]']                \n",
      " ose)                                                                                             \n",
      "                                                                                                  \n",
      " dc_reco (Activation)           (None, 160, 160, 3)  0           ['decoder_conv_t_2[0][0]']       \n",
      "                                                                                                  \n",
      "==================================================================================================\n",
      "Total params: 13,327,299\n",
      "Trainable params: 13,326,787\n",
      "Non-trainable params: 512\n",
      "__________________________________________________________________________________________________\n"
     ]
    }
   ],
   "source": [
    "MyVae._build_dec()\n",
    "MyVae.decoder.summary()"
   ]
  },
  {
   "cell_type": "code",
   "execution_count": 14,
   "metadata": {},
   "outputs": [],
   "source": [
    "MyVae._build_VAE()"
   ]
  },
  {
   "cell_type": "code",
   "execution_count": 318,
   "metadata": {},
   "outputs": [],
   "source": [
    "# Compile the model \n",
    "learning_rate = 0.0001\n",
    "MyVae.compile_myVAE(learning_rate=learning_rate)"
   ]
  },
  {
   "cell_type": "code",
   "execution_count": 25,
   "metadata": {},
   "outputs": [],
   "source": [
    "path_model_save_dir = '/Users/antoniomone/Desktop/Uni/LEIDEN/THESIS/RLtests/datasets84/BattleZone/'\n",
    "\n",
    "dir_name = 'newvae_z'+str(z_dim)+'_earlys_'+SIZE+GAME+'/'\n",
    "path_dir = path_model_save_dir + dir_name\n",
    "'''if not os.path.isdir(path_dir): \n",
    "    os.mkdir(path_dir, mode = 0o755)'''\n",
    "\n",
    "dir_all_name = 'all/'\n",
    "dir_enc_name = 'enc/'\n",
    "dir_dec_name = 'dec/'\n",
    "\n",
    "'''path_dir_all = path_dir + dir_all_name\n",
    "if not os.path.isdir(path_dir_all): \n",
    "    os.mkdir(path_dir_all, mode = 0o755)\n",
    "\n",
    "path_dir_enc = path_dir + dir_enc_name\n",
    "if not os.path.isdir(path_dir_enc): \n",
    "    os.mkdir(path_dir_enc, mode = 0o755)\n",
    "\n",
    "path_dir_dec = path_dir + dir_dec_name\n",
    "if not os.path.isdir(path_dir_dec): \n",
    "    os.mkdir(path_dir_dec, mode = 0o755)'''\n",
    "\n",
    "name_all = 'all_weights_z'+str(z_dim)+'_200e_earlys_'+SIZE+'_'+GAME+'.hd5'\n",
    "name_enc = 'enc_weights_z'+str(z_dim)+'_200e_earlys_'+SIZE+'_'+GAME+'.hd5'\n",
    "name_dec = 'dec_weights_z'+str(z_dim)+'_200e_earlys_'+SIZE+'_'+GAME+'.hd5'\n",
    "\n",
    "#save all weights\n",
    "path_all = path_dir + dir_all_name + name_all\n",
    "path_enc = path_dir + dir_enc_name + name_enc\n",
    "path_dec = path_dir + dir_dec_name + name_dec"
   ]
  },
  {
   "cell_type": "code",
   "execution_count": null,
   "metadata": {},
   "outputs": [],
   "source": [
    "b_load_weight_parameters = True\n",
    "\n",
    "if b_load_weight_parameters:\n",
    "    MyVae.model.load_weights(path_all)"
   ]
  },
  {
   "attachments": {},
   "cell_type": "markdown",
   "metadata": {},
   "source": [
    "## Training"
   ]
  },
  {
   "cell_type": "code",
   "execution_count": 285,
   "metadata": {},
   "outputs": [
    {
     "data": {
      "text/html": [
       "wandb version 0.14.0 is available!  To upgrade, please run:\n",
       " $ pip install wandb --upgrade"
      ],
      "text/plain": [
       "<IPython.core.display.HTML object>"
      ]
     },
     "metadata": {},
     "output_type": "display_data"
    },
    {
     "data": {
      "text/html": [
       "Tracking run with wandb version 0.13.10"
      ],
      "text/plain": [
       "<IPython.core.display.HTML object>"
      ]
     },
     "metadata": {},
     "output_type": "display_data"
    },
    {
     "data": {
      "text/html": [
       "Run data is saved locally in <code>/Users/antoniomone/Desktop/Uni/LEIDEN/THESIS/RLtests/wandb/run-20230315_041423-8grs42z6</code>"
      ],
      "text/plain": [
       "<IPython.core.display.HTML object>"
      ]
     },
     "metadata": {},
     "output_type": "display_data"
    },
    {
     "data": {
      "text/html": [
       "Syncing run <strong><a href='https://wandb.ai/antoniomone97/resvae_conv_BCE160_160_z64_Boxing/runs/8grs42z6' target=\"_blank\">happy-firefly-1</a></strong> to <a href='https://wandb.ai/antoniomone97/resvae_conv_BCE160_160_z64_Boxing' target=\"_blank\">Weights & Biases</a> (<a href='https://wandb.me/run' target=\"_blank\">docs</a>)<br/>"
      ],
      "text/plain": [
       "<IPython.core.display.HTML object>"
      ]
     },
     "metadata": {},
     "output_type": "display_data"
    },
    {
     "data": {
      "text/html": [
       " View project at <a href='https://wandb.ai/antoniomone97/resvae_conv_BCE160_160_z64_Boxing' target=\"_blank\">https://wandb.ai/antoniomone97/resvae_conv_BCE160_160_z64_Boxing</a>"
      ],
      "text/plain": [
       "<IPython.core.display.HTML object>"
      ]
     },
     "metadata": {},
     "output_type": "display_data"
    },
    {
     "data": {
      "text/html": [
       " View run at <a href='https://wandb.ai/antoniomone97/resvae_conv_BCE160_160_z64_Boxing/runs/8grs42z6' target=\"_blank\">https://wandb.ai/antoniomone97/resvae_conv_BCE160_160_z64_Boxing/runs/8grs42z6</a>"
      ],
      "text/plain": [
       "<IPython.core.display.HTML object>"
      ]
     },
     "metadata": {},
     "output_type": "display_data"
    }
   ],
   "source": [
    "import wandb\n",
    "from wandb.keras import WandbMetricsLogger, WandbModelCheckpoint\n",
    "\n",
    "\n",
    "if loss_type == 0:\n",
    "    wandb.init(\n",
    "        # set the wandb project where this run will be logged\n",
    "        project=\"resvae_conv_BCE\"+SIZE+'_z'+str(z_dim)+'_'+GAME,\n",
    "\n",
    "        # track hyperparameters and run metadata with wandb.config\n",
    "        config={\n",
    "            \"optimizer\": \"adam\",\n",
    "            \"loss\": \"total_loss\",\n",
    "            \"metric\": \"accuracy\",\n",
    "            \"epoch\": n_epochs,\n",
    "            \"batch_size\": BATCH_SIZE\n",
    "        }\n",
    "    )\n",
    "elif loss_type == 1:\n",
    "    wandb.init(\n",
    "        # set the wandb project where this run will be logged\n",
    "        project=\"resvae_conv_MSE_\"+SIZE+'_z'+str(z_dim)+'_'+GAME,\n",
    "\n",
    "        # track hyperparameters and run metadata with wandb.config\n",
    "        config={\n",
    "            \"optimizer\": \"adam\",\n",
    "            \"loss\": \"total_loss\",\n",
    "            \"metric\": \"accuracy\",\n",
    "            \"epoch\": n_epochs,\n",
    "            \"batch_size\": BATCH_SIZE\n",
    "        }\n",
    "    )\n"
   ]
  },
  {
   "cell_type": "code",
   "execution_count": 319,
   "metadata": {},
   "outputs": [
    {
     "name": "stdout",
     "output_type": "stream",
     "text": [
      "Epoch 1/250\n"
     ]
    },
    {
     "name": "stderr",
     "output_type": "stream",
     "text": [
      "2023-06-06 14:16:18.256862: I tensorflow/core/grappler/optimizers/custom_graph_optimizer_registry.cc:114] Plugin optimizer for device_type GPU is enabled.\n"
     ]
    },
    {
     "name": "stdout",
     "output_type": "stream",
     "text": [
      "111/111 [==============================] - 26s 218ms/step - total_loss: 3169.7207 - reco_loss: 3080.5459 - kl_loss: 89.1753\n",
      "Epoch 2/250\n",
      "111/111 [==============================] - 25s 221ms/step - total_loss: 1855.4865 - reco_loss: 1797.5597 - kl_loss: 57.9271\n",
      "Epoch 3/250\n",
      "111/111 [==============================] - 24s 214ms/step - total_loss: 1578.0959 - reco_loss: 1532.5045 - kl_loss: 45.5911\n",
      "Epoch 4/250\n",
      "111/111 [==============================] - 24s 213ms/step - total_loss: 1473.8196 - reco_loss: 1438.3282 - kl_loss: 35.4910\n",
      "Epoch 5/250\n",
      "111/111 [==============================] - 24s 212ms/step - total_loss: 1436.4799 - reco_loss: 1408.1074 - kl_loss: 28.3719\n",
      "Epoch 6/250\n",
      "111/111 [==============================] - 23s 211ms/step - total_loss: 1419.4340 - reco_loss: 1395.9631 - kl_loss: 23.4705\n",
      "Epoch 7/250\n",
      "111/111 [==============================] - 24s 212ms/step - total_loss: 1409.5353 - reco_loss: 1389.3534 - kl_loss: 20.1822\n",
      "Epoch 8/250\n",
      "111/111 [==============================] - 24s 212ms/step - total_loss: 1402.8547 - reco_loss: 1385.1127 - kl_loss: 17.7423\n",
      "Epoch 9/250\n",
      "111/111 [==============================] - 23s 211ms/step - total_loss: 1397.8574 - reco_loss: 1382.0109 - kl_loss: 15.8467\n",
      "Epoch 10/250\n",
      "111/111 [==============================] - 24s 212ms/step - total_loss: 1393.8949 - reco_loss: 1379.6182 - kl_loss: 14.2771\n",
      "Epoch 11/250\n",
      "111/111 [==============================] - 24s 212ms/step - total_loss: 1390.6587 - reco_loss: 1377.6312 - kl_loss: 13.0278\n",
      "Epoch 12/250\n",
      "111/111 [==============================] - 24s 212ms/step - total_loss: 1387.8027 - reco_loss: 1375.8378 - kl_loss: 11.9646\n",
      "Epoch 13/250\n",
      "111/111 [==============================] - 24s 212ms/step - total_loss: 1385.3717 - reco_loss: 1374.2611 - kl_loss: 11.1105\n",
      "Epoch 14/250\n",
      "111/111 [==============================] - 24s 212ms/step - total_loss: 1383.1479 - reco_loss: 1372.7932 - kl_loss: 10.3544\n",
      "Epoch 15/250\n",
      "111/111 [==============================] - 24s 212ms/step - total_loss: 1381.1135 - reco_loss: 1371.3921 - kl_loss: 9.7217\n",
      "Epoch 16/250\n",
      "111/111 [==============================] - 24s 212ms/step - total_loss: 1379.2600 - reco_loss: 1370.1158 - kl_loss: 9.1444\n",
      "Epoch 17/250\n",
      "111/111 [==============================] - 24s 213ms/step - total_loss: 1377.7140 - reco_loss: 1369.0449 - kl_loss: 8.6696\n",
      "Epoch 18/250\n",
      "111/111 [==============================] - 24s 212ms/step - total_loss: 1376.1007 - reco_loss: 1367.8855 - kl_loss: 8.2155\n",
      "Epoch 19/250\n",
      "111/111 [==============================] - 23s 211ms/step - total_loss: 1374.7412 - reco_loss: 1366.8798 - kl_loss: 7.8617\n",
      "Epoch 20/250\n",
      "111/111 [==============================] - 23s 211ms/step - total_loss: 1373.5948 - reco_loss: 1366.1079 - kl_loss: 7.4874\n",
      "Epoch 21/250\n",
      "111/111 [==============================] - 27s 244ms/step - total_loss: 1372.4464 - reco_loss: 1365.2920 - kl_loss: 7.1542\n",
      "Epoch 22/250\n",
      "111/111 [==============================] - 24s 213ms/step - total_loss: 1371.3654 - reco_loss: 1364.4928 - kl_loss: 6.8727\n",
      "Epoch 23/250\n",
      "111/111 [==============================] - 23s 208ms/step - total_loss: 1370.4740 - reco_loss: 1363.8907 - kl_loss: 6.5828\n",
      "Epoch 24/250\n",
      "111/111 [==============================] - 23s 209ms/step - total_loss: 1369.3910 - reco_loss: 1363.0800 - kl_loss: 6.3106\n",
      "Epoch 25/250\n",
      "111/111 [==============================] - 23s 210ms/step - total_loss: 1368.5785 - reco_loss: 1362.4899 - kl_loss: 6.0891\n",
      "Epoch 26/250\n",
      "111/111 [==============================] - 23s 211ms/step - total_loss: 1367.8303 - reco_loss: 1361.9678 - kl_loss: 5.8622\n",
      "Epoch 27/250\n",
      "111/111 [==============================] - 23s 208ms/step - total_loss: 1366.9357 - reco_loss: 1361.2920 - kl_loss: 5.6433\n",
      "Epoch 28/250\n",
      "111/111 [==============================] - 23s 210ms/step - total_loss: 1366.3713 - reco_loss: 1360.9041 - kl_loss: 5.4679\n",
      "Epoch 29/250\n",
      "111/111 [==============================] - 23s 209ms/step - total_loss: 1365.6277 - reco_loss: 1360.3322 - kl_loss: 5.2956\n",
      "Epoch 30/250\n",
      "111/111 [==============================] - 23s 211ms/step - total_loss: 1365.0237 - reco_loss: 1359.8990 - kl_loss: 5.1247\n",
      "Epoch 31/250\n",
      "111/111 [==============================] - 24s 215ms/step - total_loss: 1364.4398 - reco_loss: 1359.4393 - kl_loss: 5.0003\n",
      "Epoch 32/250\n",
      "111/111 [==============================] - 25s 221ms/step - total_loss: 1363.9049 - reco_loss: 1359.0811 - kl_loss: 4.8241\n",
      "Epoch 33/250\n",
      "111/111 [==============================] - 25s 226ms/step - total_loss: 1363.3452 - reco_loss: 1358.6560 - kl_loss: 4.6893\n",
      "Epoch 34/250\n",
      "111/111 [==============================] - 24s 218ms/step - total_loss: 1362.9159 - reco_loss: 1358.3503 - kl_loss: 4.5653\n",
      "Epoch 35/250\n",
      "111/111 [==============================] - 25s 223ms/step - total_loss: 1362.4392 - reco_loss: 1358.0038 - kl_loss: 4.4356\n",
      "Epoch 36/250\n",
      "111/111 [==============================] - 25s 225ms/step - total_loss: 1362.0074 - reco_loss: 1357.6925 - kl_loss: 4.3145\n",
      "Epoch 37/250\n",
      "111/111 [==============================] - 25s 223ms/step - total_loss: 1361.6541 - reco_loss: 1357.4437 - kl_loss: 4.2106\n",
      "Epoch 38/250\n",
      "111/111 [==============================] - 25s 225ms/step - total_loss: 1361.2007 - reco_loss: 1357.0845 - kl_loss: 4.1162\n",
      "Epoch 39/250\n",
      "111/111 [==============================] - 25s 224ms/step - total_loss: 1360.8529 - reco_loss: 1356.8434 - kl_loss: 4.0095\n",
      "Epoch 40/250\n",
      "111/111 [==============================] - 25s 222ms/step - total_loss: 1360.4762 - reco_loss: 1356.5475 - kl_loss: 3.9291\n",
      "Epoch 41/250\n",
      "111/111 [==============================] - 24s 212ms/step - total_loss: 1360.1259 - reco_loss: 1356.2874 - kl_loss: 3.8383\n",
      "Epoch 42/250\n",
      "111/111 [==============================] - 24s 209ms/step - total_loss: 1359.8604 - reco_loss: 1356.1063 - kl_loss: 3.7543\n",
      "Epoch 43/250\n",
      "111/111 [==============================] - 23s 208ms/step - total_loss: 1359.4009 - reco_loss: 1355.7229 - kl_loss: 3.6777\n",
      "Epoch 44/250\n",
      "111/111 [==============================] - 23s 208ms/step - total_loss: 1359.2463 - reco_loss: 1355.6439 - kl_loss: 3.6026\n",
      "Epoch 45/250\n",
      "111/111 [==============================] - 23s 207ms/step - total_loss: 1358.8746 - reco_loss: 1355.3431 - kl_loss: 3.5315\n",
      "Epoch 46/250\n",
      "111/111 [==============================] - 23s 207ms/step - total_loss: 1358.5704 - reco_loss: 1355.1150 - kl_loss: 3.4557\n",
      "Epoch 47/250\n",
      "111/111 [==============================] - 24s 213ms/step - total_loss: 1358.4337 - reco_loss: 1355.0288 - kl_loss: 3.4055\n",
      "Epoch 48/250\n",
      "111/111 [==============================] - 24s 216ms/step - total_loss: 1358.0815 - reco_loss: 1354.7388 - kl_loss: 3.3430\n",
      "Epoch 49/250\n",
      "111/111 [==============================] - 23s 209ms/step - total_loss: 1357.8398 - reco_loss: 1354.5652 - kl_loss: 3.2747\n",
      "Epoch 50/250\n",
      "111/111 [==============================] - 23s 210ms/step - total_loss: 1357.5613 - reco_loss: 1354.3376 - kl_loss: 3.2239\n",
      "Epoch 51/250\n",
      "111/111 [==============================] - 24s 218ms/step - total_loss: 1357.3451 - reco_loss: 1354.1689 - kl_loss: 3.1759\n",
      "Epoch 52/250\n",
      "111/111 [==============================] - 25s 227ms/step - total_loss: 1357.1355 - reco_loss: 1354.0222 - kl_loss: 3.1132\n",
      "Epoch 53/250\n",
      "111/111 [==============================] - 24s 220ms/step - total_loss: 1356.9198 - reco_loss: 1353.8517 - kl_loss: 3.0681\n",
      "Epoch 54/250\n",
      "111/111 [==============================] - 24s 214ms/step - total_loss: 1356.6992 - reco_loss: 1353.6733 - kl_loss: 3.0265\n",
      "Epoch 55/250\n",
      "111/111 [==============================] - 23s 207ms/step - total_loss: 1356.5265 - reco_loss: 1353.5405 - kl_loss: 2.9855\n",
      "Epoch 56/250\n",
      "111/111 [==============================] - 23s 207ms/step - total_loss: 1356.2738 - reco_loss: 1353.3341 - kl_loss: 2.9395\n",
      "Epoch 57/250\n",
      "111/111 [==============================] - 25s 226ms/step - total_loss: 1356.1036 - reco_loss: 1353.2069 - kl_loss: 2.8967\n",
      "Epoch 58/250\n",
      "111/111 [==============================] - 26s 233ms/step - total_loss: 1355.9642 - reco_loss: 1353.1218 - kl_loss: 2.8431\n",
      "Epoch 59/250\n",
      "111/111 [==============================] - 25s 223ms/step - total_loss: 1355.6484 - reco_loss: 1352.8290 - kl_loss: 2.8195\n",
      "Epoch 60/250\n",
      "111/111 [==============================] - 24s 217ms/step - total_loss: 1355.5117 - reco_loss: 1352.7329 - kl_loss: 2.7785\n",
      "Epoch 61/250\n",
      "111/111 [==============================] - 24s 218ms/step - total_loss: 1355.3408 - reco_loss: 1352.6007 - kl_loss: 2.7410\n",
      "Epoch 62/250\n",
      "111/111 [==============================] - 25s 224ms/step - total_loss: 1355.2026 - reco_loss: 1352.4969 - kl_loss: 2.7056\n",
      "Epoch 63/250\n",
      "111/111 [==============================] - 25s 223ms/step - total_loss: 1354.9647 - reco_loss: 1352.2963 - kl_loss: 2.6684\n",
      "Epoch 64/250\n",
      "111/111 [==============================] - 25s 223ms/step - total_loss: 1354.8147 - reco_loss: 1352.1729 - kl_loss: 2.6419\n",
      "Epoch 65/250\n",
      "111/111 [==============================] - 25s 225ms/step - total_loss: 1354.7375 - reco_loss: 1352.1349 - kl_loss: 2.6031\n",
      "Epoch 66/250\n",
      "111/111 [==============================] - 24s 219ms/step - total_loss: 1354.6975 - reco_loss: 1352.1349 - kl_loss: 2.5625\n",
      "Epoch 67/250\n",
      "111/111 [==============================] - 25s 223ms/step - total_loss: 1354.3618 - reco_loss: 1351.8152 - kl_loss: 2.5463\n",
      "Epoch 68/250\n",
      "111/111 [==============================] - 25s 224ms/step - total_loss: 1354.1884 - reco_loss: 1351.6670 - kl_loss: 2.5210\n",
      "Epoch 69/250\n",
      "111/111 [==============================] - 24s 215ms/step - total_loss: 1354.0928 - reco_loss: 1351.6040 - kl_loss: 2.4889\n",
      "Epoch 70/250\n",
      "111/111 [==============================] - 24s 215ms/step - total_loss: 1353.9503 - reco_loss: 1351.4875 - kl_loss: 2.4625\n",
      "Epoch 71/250\n",
      "111/111 [==============================] - 24s 220ms/step - total_loss: 1353.9371 - reco_loss: 1351.5045 - kl_loss: 2.4318\n",
      "Epoch 72/250\n",
      "111/111 [==============================] - 25s 222ms/step - total_loss: 1353.6516 - reco_loss: 1351.2410 - kl_loss: 2.4105\n",
      "Epoch 73/250\n",
      "111/111 [==============================] - 23s 208ms/step - total_loss: 1354.0156 - reco_loss: 1351.6548 - kl_loss: 2.3604\n",
      "Epoch 74/250\n",
      "111/111 [==============================] - 27s 240ms/step - total_loss: 1353.4045 - reco_loss: 1351.0516 - kl_loss: 2.3526\n",
      "Epoch 75/250\n",
      "111/111 [==============================] - 24s 220ms/step - total_loss: 1353.2469 - reco_loss: 1350.9064 - kl_loss: 2.3408\n",
      "Epoch 76/250\n",
      "111/111 [==============================] - 24s 212ms/step - total_loss: 1353.1523 - reco_loss: 1350.8342 - kl_loss: 2.3186\n",
      "Epoch 77/250\n",
      "111/111 [==============================] - 25s 222ms/step - total_loss: 1353.0560 - reco_loss: 1350.7639 - kl_loss: 2.2921\n",
      "Epoch 78/250\n",
      "111/111 [==============================] - 25s 222ms/step - total_loss: 1352.9395 - reco_loss: 1350.6697 - kl_loss: 2.2702\n",
      "Epoch 79/250\n",
      "111/111 [==============================] - 24s 219ms/step - total_loss: 1352.9064 - reco_loss: 1350.6567 - kl_loss: 2.2496\n",
      "Epoch 80/250\n",
      "111/111 [==============================] - 24s 217ms/step - total_loss: 1352.7334 - reco_loss: 1350.5050 - kl_loss: 2.2282\n",
      "Epoch 81/250\n",
      "111/111 [==============================] - 24s 218ms/step - total_loss: 1352.6561 - reco_loss: 1350.4482 - kl_loss: 2.2083\n",
      "Epoch 82/250\n",
      "111/111 [==============================] - 24s 217ms/step - total_loss: 1352.5482 - reco_loss: 1350.3629 - kl_loss: 2.1852\n",
      "Epoch 83/250\n",
      "111/111 [==============================] - 24s 217ms/step - total_loss: 1352.4573 - reco_loss: 1350.2876 - kl_loss: 2.1697\n",
      "Epoch 84/250\n",
      "111/111 [==============================] - 24s 216ms/step - total_loss: 1352.2554 - reco_loss: 1350.1071 - kl_loss: 2.1482\n",
      "Epoch 85/250\n",
      "111/111 [==============================] - 24s 218ms/step - total_loss: 1352.2040 - reco_loss: 1350.0746 - kl_loss: 2.1294\n",
      "Epoch 86/250\n",
      "111/111 [==============================] - 26s 232ms/step - total_loss: 1352.1210 - reco_loss: 1350.0133 - kl_loss: 2.1080\n",
      "Epoch 87/250\n",
      "111/111 [==============================] - 24s 220ms/step - total_loss: 1352.0337 - reco_loss: 1349.9376 - kl_loss: 2.0960\n",
      "Epoch 88/250\n",
      "111/111 [==============================] - 24s 217ms/step - total_loss: 1351.8298 - reco_loss: 1349.7511 - kl_loss: 2.0784\n",
      "Epoch 89/250\n",
      "111/111 [==============================] - 24s 217ms/step - total_loss: 1351.8466 - reco_loss: 1349.7908 - kl_loss: 2.0560\n",
      "Epoch 90/250\n",
      "111/111 [==============================] - 24s 217ms/step - total_loss: 1351.9833 - reco_loss: 1349.9594 - kl_loss: 2.0241\n",
      "Epoch 91/250\n",
      "111/111 [==============================] - 24s 218ms/step - total_loss: 1351.5566 - reco_loss: 1349.5254 - kl_loss: 2.0312\n",
      "Epoch 92/250\n",
      "111/111 [==============================] - 24s 216ms/step - total_loss: 1351.5027 - reco_loss: 1349.4834 - kl_loss: 2.0190\n",
      "Epoch 93/250\n",
      "111/111 [==============================] - 24s 217ms/step - total_loss: 1351.3694 - reco_loss: 1349.3649 - kl_loss: 2.0045\n",
      "Epoch 94/250\n",
      "111/111 [==============================] - 24s 219ms/step - total_loss: 1351.3232 - reco_loss: 1349.3356 - kl_loss: 1.9872\n",
      "Epoch 95/250\n",
      "111/111 [==============================] - 24s 219ms/step - total_loss: 1351.2251 - reco_loss: 1349.2513 - kl_loss: 1.9737\n"
     ]
    }
   ],
   "source": [
    "with tf.device('/GPU:0'):\n",
    "    MyVae.train_myVAE(   \n",
    "                data_flow\n",
    "                , b_use_generator = True \n",
    "                , epochs = n_epochs\n",
    "                , initial_epoch = INITIAL_EPOCH\n",
    "                , callbacks=[#WandbMetricsLogger(log_freq=1),\n",
    "                            #WandbModelCheckpoint(\"models\"),\n",
    "                            keras.callbacks.EarlyStopping(monitor=\"total_loss\",min_delta=1,patience=10,mode='min',restore_best_weights=True)]\n",
    "                )"
   ]
  },
  {
   "cell_type": "code",
   "execution_count": 287,
   "metadata": {},
   "outputs": [
    {
     "data": {
      "text/html": [
       "Waiting for W&B process to finish... <strong style=\"color:green\">(success).</strong>"
      ],
      "text/plain": [
       "<IPython.core.display.HTML object>"
      ]
     },
     "metadata": {},
     "output_type": "display_data"
    },
    {
     "data": {
      "text/html": [
       "<style>\n",
       "    table.wandb td:nth-child(1) { padding: 0 10px; text-align: left ; width: auto;} td:nth-child(2) {text-align: left ; width: 100%}\n",
       "    .wandb-row { display: flex; flex-direction: row; flex-wrap: wrap; justify-content: flex-start; width: 100% }\n",
       "    .wandb-col { display: flex; flex-direction: column; flex-basis: 100%; flex: 1; padding: 10px; }\n",
       "    </style>\n",
       "<div class=\"wandb-row\"><div class=\"wandb-col\"><h3>Run history:</h3><br/><table class=\"wandb\"><tr><td>batch/batch_step</td><td>▁▁▁▂▂▂▂▂▂▃▃▃▃▃▃▄▄▄▄▄▅▅▅▅▅▅▆▆▆▆▆▇▇▇▇▇▇███</td></tr><tr><td>batch/kl_loss</td><td>▅█▆▆▅▅▅▅▄▄▄▃▃▃▃▃▂▂▂▂▂▂▂▂▂▂▂▂▁▁▁▁▁▁▁▁▁▁▁▁</td></tr><tr><td>batch/learning_rate</td><td>▁▁▁▁▁▁▁▁▁▁▁▁▁▁▁▁▁▁▁▁▁▁▁▁▁▁▁▁▁▁▁▁▁▁▁▁▁▁▁▁</td></tr><tr><td>batch/reco_loss</td><td>█▂▂▁▁▁▁▁▁▁▁▁▁▁▁▁▁▁▁▁▁▁▁▁▁▁▁▁▁▁▁▁▁▁▁▁▁▁▁▁</td></tr><tr><td>batch/total_loss</td><td>█▂▂▂▁▁▁▁▁▁▁▁▁▁▁▁▁▁▁▁▁▁▁▁▁▁▁▁▁▁▁▁▁▁▁▁▁▁▁▁</td></tr><tr><td>epoch/epoch</td><td>▁▁▁▂▂▂▂▂▂▃▃▃▃▃▃▄▄▄▄▄▅▅▅▅▅▅▆▆▆▆▆▇▇▇▇▇▇███</td></tr><tr><td>epoch/kl_loss</td><td>▆█▇▆▆▅▅▅▅▄▄▄▃▃▃▃▃▂▂▂▂▂▂▂▂▂▂▂▂▁▁▁▁▁▁▁▁▁▁▁</td></tr><tr><td>epoch/learning_rate</td><td>▁▁▁▁▁▁▁▁▁▁▁▁▁▁▁▁▁▁▁▁▁▁▁▁▁▁▁▁▁▁▁▁▁▁▁▁▁▁▁▁</td></tr><tr><td>epoch/reco_loss</td><td>█▂▂▂▁▁▁▁▁▁▁▁▁▁▁▁▁▁▁▁▁▁▁▁▁▁▁▁▁▁▁▁▁▁▁▁▁▁▁▁</td></tr><tr><td>epoch/total_loss</td><td>█▂▂▂▂▁▁▁▁▁▁▁▁▁▁▁▁▁▁▁▁▁▁▁▁▁▁▁▁▁▁▁▁▁▁▁▁▁▁▁</td></tr></table><br/></div><div class=\"wandb-col\"><h3>Run summary:</h3><br/><table class=\"wandb\"><tr><td>batch/batch_step</td><td>6224</td></tr><tr><td>batch/kl_loss</td><td>7.30044</td></tr><tr><td>batch/learning_rate</td><td>0.0001</td></tr><tr><td>batch/reco_loss</td><td>15319.22559</td></tr><tr><td>batch/total_loss</td><td>15326.52344</td></tr><tr><td>epoch/epoch</td><td>82</td></tr><tr><td>epoch/kl_loss</td><td>7.30044</td></tr><tr><td>epoch/learning_rate</td><td>0.0001</td></tr><tr><td>epoch/reco_loss</td><td>15319.22559</td></tr><tr><td>epoch/total_loss</td><td>15326.52344</td></tr></table><br/></div></div>"
      ],
      "text/plain": [
       "<IPython.core.display.HTML object>"
      ]
     },
     "metadata": {},
     "output_type": "display_data"
    },
    {
     "data": {
      "text/html": [
       " View run <strong style=\"color:#cdcd00\">happy-firefly-1</strong> at: <a href='https://wandb.ai/antoniomone97/resvae_conv_BCE160_160_z64_Boxing/runs/8grs42z6' target=\"_blank\">https://wandb.ai/antoniomone97/resvae_conv_BCE160_160_z64_Boxing/runs/8grs42z6</a><br/>Synced 6 W&B file(s), 0 media file(s), 13280 artifact file(s) and 0 other file(s)"
      ],
      "text/plain": [
       "<IPython.core.display.HTML object>"
      ]
     },
     "metadata": {},
     "output_type": "display_data"
    },
    {
     "data": {
      "text/html": [
       "Find logs at: <code>./wandb/run-20230315_041423-8grs42z6/logs</code>"
      ],
      "text/plain": [
       "<IPython.core.display.HTML object>"
      ]
     },
     "metadata": {},
     "output_type": "display_data"
    }
   ],
   "source": [
    "wandb.finish()"
   ]
  },
  {
   "cell_type": "code",
   "execution_count": 320,
   "metadata": {},
   "outputs": [
    {
     "name": "stdout",
     "output_type": "stream",
     "text": [
      "WARNING:tensorflow:Compiled the loaded model, but the compiled metrics have yet to be built. `model.compile_metrics` will be empty until you train or evaluate the model.\n"
     ]
    },
    {
     "name": "stderr",
     "output_type": "stream",
     "text": [
      "WARNING:tensorflow:Compiled the loaded model, but the compiled metrics have yet to be built. `model.compile_metrics` will be empty until you train or evaluate the model.\n",
      "WARNING:absl:Found untraced functions such as _jit_compiled_convolution_op, _jit_compiled_convolution_op, _jit_compiled_convolution_op, _jit_compiled_convolution_op while saving (showing 4 of 4). These functions will not be directly callable after loading.\n"
     ]
    },
    {
     "name": "stdout",
     "output_type": "stream",
     "text": [
      "INFO:tensorflow:Assets written to: /Users/antoniomone/Desktop/Uni/LEIDEN/THESIS/RLtests/datasets84//Qbert/encoder/assets\n"
     ]
    },
    {
     "name": "stderr",
     "output_type": "stream",
     "text": [
      "INFO:tensorflow:Assets written to: /Users/antoniomone/Desktop/Uni/LEIDEN/THESIS/RLtests/datasets84//Qbert/encoder/assets\n"
     ]
    },
    {
     "name": "stdout",
     "output_type": "stream",
     "text": [
      "WARNING:tensorflow:Compiled the loaded model, but the compiled metrics have yet to be built. `model.compile_metrics` will be empty until you train or evaluate the model.\n"
     ]
    },
    {
     "name": "stderr",
     "output_type": "stream",
     "text": [
      "WARNING:tensorflow:Compiled the loaded model, but the compiled metrics have yet to be built. `model.compile_metrics` will be empty until you train or evaluate the model.\n",
      "WARNING:absl:Found untraced functions such as _jit_compiled_convolution_op, _jit_compiled_convolution_op, _jit_compiled_convolution_op, _jit_compiled_convolution_op, _jit_compiled_convolution_op while saving (showing 5 of 5). These functions will not be directly callable after loading.\n"
     ]
    },
    {
     "name": "stdout",
     "output_type": "stream",
     "text": [
      "INFO:tensorflow:Assets written to: /Users/antoniomone/Desktop/Uni/LEIDEN/THESIS/RLtests/datasets84//Qbert/decoder/assets\n"
     ]
    },
    {
     "name": "stderr",
     "output_type": "stream",
     "text": [
      "INFO:tensorflow:Assets written to: /Users/antoniomone/Desktop/Uni/LEIDEN/THESIS/RLtests/datasets84//Qbert/decoder/assets\n"
     ]
    }
   ],
   "source": [
    "path_model_save_dir = '/Users/antoniomone/Desktop/Uni/LEIDEN/THESIS/RLtests/datasets84/'\n",
    "if loss_type == 0: # BCE\n",
    "    MyVae.encoder.save(path_model_save_dir+'/'+GAME+'/encoder')\n",
    "    MyVae.decoder.save(path_model_save_dir+'/'+GAME+'/decoder')\n",
    "elif loss_type == 1: #MSE\n",
    "    MyVae.encoder.save(path_model_save_dir+'/'+GAME+'/encoder_mse_conv')\n",
    "    MyVae.decoder.save(path_model_save_dir+'/'+GAME+'/decoder_mse_conv')\n"
   ]
  },
  {
   "cell_type": "code",
   "execution_count": 19,
   "metadata": {},
   "outputs": [
    {
     "name": "stdout",
     "output_type": "stream",
     "text": [
      "WARNING:tensorflow:Compiled the loaded model, but the compiled metrics have yet to be built. `model.compile_metrics` will be empty until you train or evaluate the model.\n"
     ]
    },
    {
     "name": "stderr",
     "output_type": "stream",
     "text": [
      "WARNING:absl:Found untraced functions such as _jit_compiled_convolution_op, _jit_compiled_convolution_op, _jit_compiled_convolution_op, _jit_compiled_convolution_op, _jit_compiled_convolution_op while saving (showing 5 of 5). These functions will not be directly callable after loading.\n"
     ]
    },
    {
     "name": "stdout",
     "output_type": "stream",
     "text": [
      "INFO:tensorflow:Assets written to: /Users/antoniomone/Desktop/Uni/LEIDEN/THESIS/RLtests/newmodels/resvaeplus/z128/Phoenix/encoder/assets\n"
     ]
    },
    {
     "name": "stderr",
     "output_type": "stream",
     "text": [
      "INFO:tensorflow:Assets written to: /Users/antoniomone/Desktop/Uni/LEIDEN/THESIS/RLtests/newmodels/resvaeplus/z128/Phoenix/encoder/assets\n"
     ]
    },
    {
     "name": "stdout",
     "output_type": "stream",
     "text": [
      "WARNING:tensorflow:Compiled the loaded model, but the compiled metrics have yet to be built. `model.compile_metrics` will be empty until you train or evaluate the model.\n"
     ]
    },
    {
     "name": "stderr",
     "output_type": "stream",
     "text": [
      "WARNING:tensorflow:Compiled the loaded model, but the compiled metrics have yet to be built. `model.compile_metrics` will be empty until you train or evaluate the model.\n",
      "WARNING:absl:Found untraced functions such as _jit_compiled_convolution_op, _jit_compiled_convolution_op, _jit_compiled_convolution_op, _jit_compiled_convolution_op, _jit_compiled_convolution_op while saving (showing 5 of 5). These functions will not be directly callable after loading.\n"
     ]
    },
    {
     "name": "stdout",
     "output_type": "stream",
     "text": [
      "INFO:tensorflow:Assets written to: /Users/antoniomone/Desktop/Uni/LEIDEN/THESIS/RLtests/newmodels/resvaeplus/z128/Phoenix/decoder/assets\n"
     ]
    },
    {
     "name": "stderr",
     "output_type": "stream",
     "text": [
      "INFO:tensorflow:Assets written to: /Users/antoniomone/Desktop/Uni/LEIDEN/THESIS/RLtests/newmodels/resvaeplus/z128/Phoenix/decoder/assets\n"
     ]
    }
   ],
   "source": [
    "if loss_type == 0: # BCE\n",
    "    MyVae.encoder.save('/Users/antoniomone/Desktop/Uni/LEIDEN/THESIS/RLtests/newmodels/resvaeplus/z'+str(z_dim)+'/'+GAME+'/encoder')\n",
    "    MyVae.decoder.save('/Users/antoniomone/Desktop/Uni/LEIDEN/THESIS/RLtests/newmodels/resvaeplus/z'+str(z_dim)+'/'+GAME+'/decoder')\n",
    "elif loss_type == 1: #MSE\n",
    "    MyVae.encoder.save('/Users/antoniomone/Desktop/Uni/LEIDEN/THESIS/RLtests/newmodels/resvaeplus/z'+str(z_dim)+'/'+GAME+'/encoder_mse_conv')\n",
    "    MyVae.decoder.save('/Users/antoniomone/Desktop/Uni/LEIDEN/THESIS/RLtests/newmodels/resvaeplus/z'+str(z_dim)+'/'+GAME+'/decoder_mse_conv')"
   ]
  },
  {
   "cell_type": "code",
   "execution_count": 226,
   "metadata": {},
   "outputs": [
    {
     "name": "stdout",
     "output_type": "stream",
     "text": [
      "WARNING:tensorflow:Compiled the loaded model, but the compiled metrics have yet to be built. `model.compile_metrics` will be empty until you train or evaluate the model.\n"
     ]
    },
    {
     "name": "stderr",
     "output_type": "stream",
     "text": [
      "WARNING:absl:Found untraced functions such as _jit_compiled_convolution_op, _jit_compiled_convolution_op, _jit_compiled_convolution_op, _jit_compiled_convolution_op while saving (showing 4 of 4). These functions will not be directly callable after loading.\n"
     ]
    },
    {
     "name": "stdout",
     "output_type": "stream",
     "text": [
      "INFO:tensorflow:Assets written to: /Users/antoniomone/Desktop/Uni/LEIDEN/THESIS/RLtests/newmodels/cvae/z64/Boxing/encoder_mse/assets\n"
     ]
    },
    {
     "name": "stderr",
     "output_type": "stream",
     "text": [
      "INFO:tensorflow:Assets written to: /Users/antoniomone/Desktop/Uni/LEIDEN/THESIS/RLtests/newmodels/cvae/z64/Boxing/encoder_mse/assets\n"
     ]
    },
    {
     "name": "stdout",
     "output_type": "stream",
     "text": [
      "WARNING:tensorflow:Compiled the loaded model, but the compiled metrics have yet to be built. `model.compile_metrics` will be empty until you train or evaluate the model.\n"
     ]
    },
    {
     "name": "stderr",
     "output_type": "stream",
     "text": [
      "WARNING:tensorflow:Compiled the loaded model, but the compiled metrics have yet to be built. `model.compile_metrics` will be empty until you train or evaluate the model.\n",
      "WARNING:absl:Found untraced functions such as _jit_compiled_convolution_op, _jit_compiled_convolution_op, _jit_compiled_convolution_op, _jit_compiled_convolution_op, _jit_compiled_convolution_op while saving (showing 5 of 5). These functions will not be directly callable after loading.\n"
     ]
    },
    {
     "name": "stdout",
     "output_type": "stream",
     "text": [
      "INFO:tensorflow:Assets written to: /Users/antoniomone/Desktop/Uni/LEIDEN/THESIS/RLtests/newmodels/cvae/z64/Boxing/decoder_mse/assets\n"
     ]
    },
    {
     "name": "stderr",
     "output_type": "stream",
     "text": [
      "INFO:tensorflow:Assets written to: /Users/antoniomone/Desktop/Uni/LEIDEN/THESIS/RLtests/newmodels/cvae/z64/Boxing/decoder_mse/assets\n"
     ]
    }
   ],
   "source": [
    "if loss_type == 0: # BCE\n",
    "    MyVae.encoder.save('/Users/antoniomone/Desktop/Uni/LEIDEN/THESIS/RLtests/newmodels/cvae/z'+str(z_dim)+'/'+GAME+'/encoder_bce')\n",
    "    MyVae.decoder.save('/Users/antoniomone/Desktop/Uni/LEIDEN/THESIS/RLtests/newmodels/cvae/z'+str(z_dim)+'/'+GAME+'/decoder_bce')\n",
    "elif loss_type == 1: #MSE\n",
    "    MyVae.encoder.save('/Users/antoniomone/Desktop/Uni/LEIDEN/THESIS/RLtests/newmodels/cvae/z'+str(z_dim)+'/'+GAME+'/encoder_mse')\n",
    "    MyVae.decoder.save('/Users/antoniomone/Desktop/Uni/LEIDEN/THESIS/RLtests/newmodels/cvae/z'+str(z_dim)+'/'+GAME+'/decoder_mse')"
   ]
  },
  {
   "cell_type": "code",
   "execution_count": 20,
   "metadata": {},
   "outputs": [
    {
     "name": "stdout",
     "output_type": "stream",
     "text": [
      "WARNING:tensorflow:Compiled the loaded model, but the compiled metrics have yet to be built. `model.compile_metrics` will be empty until you train or evaluate the model.\n"
     ]
    },
    {
     "name": "stderr",
     "output_type": "stream",
     "text": [
      "WARNING:tensorflow:Compiled the loaded model, but the compiled metrics have yet to be built. `model.compile_metrics` will be empty until you train or evaluate the model.\n",
      "WARNING:absl:Found untraced functions such as _jit_compiled_convolution_op, _jit_compiled_convolution_op, _jit_compiled_convolution_op, _jit_compiled_convolution_op, _jit_compiled_convolution_op while saving (showing 5 of 5). These functions will not be directly callable after loading.\n"
     ]
    },
    {
     "name": "stdout",
     "output_type": "stream",
     "text": [
      "INFO:tensorflow:Assets written to: /Users/antoniomone/Desktop/Uni/LEIDEN/THESIS/WANN/brain-tokyo-workshop/WANNRelease/prettyNeatWann/models/Phoenix/z128/encoder_plus/assets\n"
     ]
    },
    {
     "name": "stderr",
     "output_type": "stream",
     "text": [
      "INFO:tensorflow:Assets written to: /Users/antoniomone/Desktop/Uni/LEIDEN/THESIS/WANN/brain-tokyo-workshop/WANNRelease/prettyNeatWann/models/Phoenix/z128/encoder_plus/assets\n"
     ]
    },
    {
     "name": "stdout",
     "output_type": "stream",
     "text": [
      "WARNING:tensorflow:Compiled the loaded model, but the compiled metrics have yet to be built. `model.compile_metrics` will be empty until you train or evaluate the model.\n"
     ]
    },
    {
     "name": "stderr",
     "output_type": "stream",
     "text": [
      "WARNING:tensorflow:Compiled the loaded model, but the compiled metrics have yet to be built. `model.compile_metrics` will be empty until you train or evaluate the model.\n",
      "WARNING:absl:Found untraced functions such as _jit_compiled_convolution_op, _jit_compiled_convolution_op, _jit_compiled_convolution_op, _jit_compiled_convolution_op, _jit_compiled_convolution_op while saving (showing 5 of 5). These functions will not be directly callable after loading.\n"
     ]
    },
    {
     "name": "stdout",
     "output_type": "stream",
     "text": [
      "INFO:tensorflow:Assets written to: /Users/antoniomone/Desktop/Uni/LEIDEN/THESIS/WANN/brain-tokyo-workshop/WANNRelease/prettyNeatWann/models/Phoenix/z128/decoder_plus/assets\n"
     ]
    },
    {
     "name": "stderr",
     "output_type": "stream",
     "text": [
      "INFO:tensorflow:Assets written to: /Users/antoniomone/Desktop/Uni/LEIDEN/THESIS/WANN/brain-tokyo-workshop/WANNRelease/prettyNeatWann/models/Phoenix/z128/decoder_plus/assets\n"
     ]
    }
   ],
   "source": [
    "pathenc = '/Users/antoniomone/Desktop/Uni/LEIDEN/THESIS/WANN/brain-tokyo-workshop/WANNRelease/prettyNeatWann/models/'+GAME+'/z'+str(z_dim)+'/encoder_plus'\n",
    "pathdec = '/Users/antoniomone/Desktop/Uni/LEIDEN/THESIS/WANN/brain-tokyo-workshop/WANNRelease/prettyNeatWann/models/'+GAME+'/z'+str(z_dim)+'/decoder_plus'\n",
    "MyVae.encoder.save(pathenc)\n",
    "MyVae.decoder.save(pathdec)"
   ]
  },
  {
   "cell_type": "code",
   "execution_count": 67,
   "metadata": {},
   "outputs": [],
   "source": [
    "'''MyVae.model.save_weights('/Users/antoniomone/Desktop/Uni/LEIDEN/THESIS/RLtests/models/breakout_newvae_z1024_160160.h5')\n",
    "MyVae.encoder.save_weights('/Users/antoniomone/Desktop/Uni/LEIDEN/THESIS/RLtests/models/breakout_newvae_z1024_encoder_160160.h5')\n",
    "MyVae.decoder.save_weights('/Users/antoniomone/Desktop/Uni/LEIDEN/THESIS/RLtests/models/breakout_newvae_z1024_decoder_160160.h5')'''"
   ]
  },
  {
   "cell_type": "code",
   "execution_count": 23,
   "metadata": {},
   "outputs": [
    {
     "name": "stdout",
     "output_type": "stream",
     "text": [
      "/Users/antoniomone/Desktop/Uni/LEIDEN/THESIS/RLtests/outputsnewvae_z1024_earlys_160_160_pong/all/all_weights_z1024200e_earlys_160_160_pong.hd5\n",
      "saving all weights is finished\n",
      "\n",
      "/Users/antoniomone/Desktop/Uni/LEIDEN/THESIS/RLtests/outputsnewvae_z1024_earlys_160_160_pong/enc/enc_weights_z1024200e_earlys_160_160_pong.hd5\n",
      "saving enc weights is finished\n",
      "\n",
      "/Users/antoniomone/Desktop/Uni/LEIDEN/THESIS/RLtests/outputsnewvae_z1024_earlys_160_160_pong/dec/dec_weights_z1024200e_earlys_160_160_pong.hd5\n",
      "saving dec weights is finished\n"
     ]
    }
   ],
   "source": [
    "'''print(path_all)\n",
    "MyVae.model.save_weights(path_all)\n",
    "print(\"saving all weights is finished\")\n",
    "\n",
    "print()\n",
    "#save enc weights\n",
    "print(path_enc)\n",
    "MyVae.encoder.save_weights(path_enc)\n",
    "print(\"saving enc weights is finished\")\n",
    "\n",
    "print()\n",
    "#save dec weights\n",
    "print(path_dec)\n",
    "MyVae.decoder.save_weights(path_dec)\n",
    "print(\"saving dec weights is finished\")'''"
   ]
  },
  {
   "cell_type": "code",
   "execution_count": 18,
   "metadata": {},
   "outputs": [],
   "source": [
    "'''b_load_weight_parameters = True\n",
    "\n",
    "newVAE = MyVariationalAutoencoder(\n",
    "    input_dim = INPUT_DIM\n",
    "    , encoder_conv_filters     = [32,64,128,256]\n",
    "    , encoder_conv_kernel_size = [3,3,3,3]\n",
    "    , encoder_conv_strides     = [2,2,2,2]\n",
    "    , encoder_conv_padding     = ['same','same','same','same']\n",
    "\n",
    "    , decoder_conv_t_filters     = [128,64,32,n_ch]\n",
    "    , decoder_conv_t_kernel_size = [3,3,3,3]\n",
    "    , decoder_conv_t_strides     = [2,2,2,2]\n",
    "    , decoder_conv_t_padding     = ['same','same','same','same']\n",
    "\n",
    "    , z_dim = z_dim\n",
    "    , solution_type = solution_type    \n",
    "    , act   = act\n",
    "    , fact  = fact\n",
    "    , loss_type      = loss_type\n",
    "    , use_batch_norm = use_batch_norm\n",
    "    , use_dropout    = use_dropout\n",
    "    , dropout_rate   = dropout_rate\n",
    ")\n",
    "newVAE._build_enc()\n",
    "newVAE._build_dec()\n",
    "newVAE._build_VAE()\n",
    "lr = 0.0005\n",
    "newVAE.compile_myVAE(learning_rate=lr)\n",
    "if b_load_weight_parameters:\n",
    "    newVAE.model.load_weights(path_all)\n",
    "    newVAE.encoder.load_weights(path_enc)\n",
    "    newVAE.decoder.load_weights(path_dec)'''"
   ]
  },
  {
   "cell_type": "code",
   "execution_count": null,
   "metadata": {},
   "outputs": [],
   "source": [
    "'''from tensorflow.keras.models import model_from_json\n",
    "jsonmodel = newVAE.encoder.to_json()\n",
    "with open(\"modele.json\", \"w\") as json_file:\n",
    "    json_file.write(jsonmodel)\n",
    "newVAE.encoder.save_weights(\"enc.h5\")\n",
    "json_file = open('modele.json', 'r')\n",
    "loaded_model_json = json_file.read()\n",
    "json_file.close()\n",
    "loaded_enc = model_from_json(loaded_model_json)\n",
    "loaded_enc.load_weights('enc.h5')\n",
    "loaded_enc.summary()\n",
    "\n",
    "jsonmodel = newVAE.decoder.to_json()\n",
    "with open(\"modeld.json\", \"w\") as json_file:\n",
    "    json_file.write(jsonmodel)\n",
    "newVAE.decoder.save_weights(\"dec.h5\")\n",
    "json_file = open('modeld.json', 'r')\n",
    "loaded_model_json = json_file.read()\n",
    "json_file.close()\n",
    "loaded_dec = model_from_json(loaded_model_json)\n",
    "loaded_dec.load_weights('dec.h5')\n",
    "loaded_dec.summary()'''"
   ]
  },
  {
   "cell_type": "code",
   "execution_count": 21,
   "metadata": {},
   "outputs": [
    {
     "name": "stdout",
     "output_type": "stream",
     "text": [
      "WARNING:tensorflow:Compiled the loaded model, but the compiled metrics have yet to be built. `model.compile_metrics` will be empty until you train or evaluate the model.\n"
     ]
    },
    {
     "name": "stderr",
     "output_type": "stream",
     "text": [
      "WARNING:tensorflow:Compiled the loaded model, but the compiled metrics have yet to be built. `model.compile_metrics` will be empty until you train or evaluate the model.\n",
      "WARNING:absl:Found untraced functions such as _jit_compiled_convolution_op, _jit_compiled_convolution_op, _jit_compiled_convolution_op, _jit_compiled_convolution_op while saving (showing 4 of 4). These functions will not be directly callable after loading.\n"
     ]
    },
    {
     "name": "stdout",
     "output_type": "stream",
     "text": [
      "INFO:tensorflow:Assets written to: /Users/antoniomone/Desktop/Uni/LEIDEN/THESIS/RLtests/encodertry/assets\n"
     ]
    },
    {
     "name": "stderr",
     "output_type": "stream",
     "text": [
      "INFO:tensorflow:Assets written to: /Users/antoniomone/Desktop/Uni/LEIDEN/THESIS/RLtests/encodertry/assets\n"
     ]
    },
    {
     "name": "stdout",
     "output_type": "stream",
     "text": [
      "WARNING:tensorflow:Compiled the loaded model, but the compiled metrics have yet to be built. `model.compile_metrics` will be empty until you train or evaluate the model.\n"
     ]
    },
    {
     "name": "stderr",
     "output_type": "stream",
     "text": [
      "WARNING:tensorflow:Compiled the loaded model, but the compiled metrics have yet to be built. `model.compile_metrics` will be empty until you train or evaluate the model.\n",
      "WARNING:absl:Found untraced functions such as _jit_compiled_convolution_op, _jit_compiled_convolution_op, _jit_compiled_convolution_op, _jit_compiled_convolution_op while saving (showing 4 of 4). These functions will not be directly callable after loading.\n"
     ]
    },
    {
     "name": "stdout",
     "output_type": "stream",
     "text": [
      "INFO:tensorflow:Assets written to: /Users/antoniomone/Desktop/Uni/LEIDEN/THESIS/RLtests/decodertry/assets\n"
     ]
    },
    {
     "name": "stderr",
     "output_type": "stream",
     "text": [
      "INFO:tensorflow:Assets written to: /Users/antoniomone/Desktop/Uni/LEIDEN/THESIS/RLtests/decodertry/assets\n"
     ]
    }
   ],
   "source": [
    "'''newVAE.compile_myVAE(learning_rate=lr)\n",
    "pathenc = '/Users/antoniomone/Desktop/Uni/LEIDEN/THESIS/WANN/brain-tokyo-workshop/WANNRelease/prettyNeatWann/models/Phoenix/z128/encoder'\n",
    "pathdec = '/Users/antoniomone/Desktop/Uni/LEIDEN/THESIS/WANN/brain-tokyo-workshop/WANNRelease/prettyNeatWann/models/Phoenix/z128/decoder'\n",
    "newVAE.encoder.save(pathenc)\n",
    "newVAE.decoder.save(pathdec)\n",
    "\n",
    "#newVAE.encoder.save('/Users/antoniomone/Desktop/Uni/LEIDEN/THESIS/RLtests/encodertest')\n",
    "#extraenc = keras.models.load_model('/Users/antoniomone/Desktop/Uni/LEIDEN/THESIS/RLtests/encodertest')'''"
   ]
  },
  {
   "cell_type": "code",
   "execution_count": 22,
   "metadata": {},
   "outputs": [],
   "source": [
    "'''extraenc = keras.models.load_model(pathenc,compile=False)\n",
    "extradec = keras.models.load_model(pathdec,compile=False)'''"
   ]
  },
  {
   "attachments": {},
   "cell_type": "markdown",
   "metadata": {},
   "source": [
    "### LoopTrain"
   ]
  },
  {
   "cell_type": "code",
   "execution_count": null,
   "metadata": {},
   "outputs": [],
   "source": [
    "# RUN TO LOAD NPY DATASET TO TRAIN AND VAL\n",
    "for game in finalgames:\n",
    "    screensize = 160\n",
    "    PROJECT_ROOT_DIR = \"/Users/antoniomone/Desktop/Uni/LEIDEN/THESIS/RLtests/outputs/kerasimgs/\"\n",
    "    GAME = game\n",
    "    print(\"Training the VAE on\", GAME)\n",
    "    TRAIN_NAME = GAME+\"_train\"\n",
    "    VAL_NAME = GAME+\"_val\"\n",
    "    SIZE = str(screensize)+'_'+str(screensize)\n",
    "    EXT = \".npy\" \n",
    "    TRAIN_PATH = PROJECT_ROOT_DIR+GAME+'/'+SIZE+'/'+TRAIN_NAME+EXT\n",
    "    VAL_PATH = PROJECT_ROOT_DIR+GAME+'/'+SIZE+'/'+VAL_NAME+EXT\n",
    "    train = np.load(TRAIN_PATH)\n",
    "    val = np.load(VAL_PATH)\n",
    "    b_use_generator_ay = True\n",
    "    BATCH_SIZE    = 256\n",
    "    SOLUTION_TYPE = 3\n",
    "\n",
    "    if b_use_generator_ay:\n",
    "        # solution_type == 0 works with extra layers and add_loss to control the KL loss\n",
    "        # it requires the definition of \"labels\" - which are the original images  \n",
    "        if SOLUTION_TYPE == 0: \n",
    "            data_gen = ImageDataGenerator()\n",
    "            data_flow = data_gen.flow(\n",
    "                            train \n",
    "                            , train\n",
    "                            #, target_size = INPUT_DIM[:2]\n",
    "                            , batch_size = BATCH_SIZE\n",
    "                            , shuffle = True\n",
    "                            #, class_mode = 'input'   # Not working with this type of generator \n",
    "                            #, subset = \"training\"    # Not required \n",
    "                            )\n",
    "\n",
    "        if SOLUTION_TYPE == 3: \n",
    "            data_gen = ImageDataGenerator()\n",
    "            data_flow = data_gen.flow(\n",
    "                            train \n",
    "                            , batch_size = BATCH_SIZE\n",
    "                            , shuffle = True\n",
    "                            )\n",
    "            \n",
    "    MyVae = MyVariationalAutoencoder(\n",
    "    input_dim = INPUT_DIM\n",
    "   , encoder_conv_filters     = [32,32,64,]\n",
    "   , encoder_conv_kernel_size = [1,4,4]\n",
    "   , encoder_conv_strides     = [1,2,2]\n",
    "   , encoder_conv_padding     = ['same','same','same']\n",
    "\n",
    "\n",
    "   , decoder_conv_t_filters     = [64,64,n_ch]\n",
    "   , decoder_conv_t_kernel_size = [1,3,3]\n",
    "   , decoder_conv_t_strides     = [1,2,2]\n",
    "   , decoder_conv_t_padding     = ['same','same']\n",
    "\n",
    "    , z_dim = z_dim\n",
    "    , solution_type = solution_type    \n",
    "    , act   = act\n",
    "    , fact  = fact\n",
    "    , loss_type      = loss_type\n",
    "    , use_batch_norm = use_batch_norm\n",
    "    , use_dropout    = use_dropout\n",
    "    , dropout_rate   = dropout_rate\n",
    "    )\n",
    "    \n",
    "    MyVae._build_enc()\n",
    "    MyVae._build_dec()\n",
    "    MyVae._build_VAE()\n",
    "    learning_rate = 0.0001\n",
    "    MyVae.compile_myVAE(learning_rate=learning_rate)\n",
    "    with tf.device('/GPU:0'):\n",
    "        MyVae.train_myVAE(   \n",
    "                    data_flow\n",
    "                    , b_use_generator = True \n",
    "                    , epochs = n_epochs\n",
    "                    , initial_epoch = INITIAL_EPOCH\n",
    "                    , callbacks=[#WandbMetricsLogger(log_freq=1),\n",
    "                                #WandbModelCheckpoint(\"models\"),\n",
    "                                keras.callbacks.EarlyStopping(monitor=\"total_loss\",min_delta=0.1,patience=4,mode='min',restore_best_weights=True)]\n",
    "                    )\n",
    "    MyVae.encoder.save('/Users/antoniomone/Desktop/Uni/LEIDEN/THESIS/RLtests/newmodels/resvaeplus/z'+str(z_dim)+'/'+GAME+'/encoder')\n",
    "    MyVae.decoder.save('/Users/antoniomone/Desktop/Uni/LEIDEN/THESIS/RLtests/newmodels/resvaeplus/z'+str(z_dim)+'/'+GAME+'/decoder')\n",
    "    print(\"VAE FOR\",GAME,\"SAVED\")"
   ]
  },
  {
   "attachments": {},
   "cell_type": "markdown",
   "metadata": {},
   "source": [
    "## Checking"
   ]
  },
  {
   "cell_type": "code",
   "execution_count": 767,
   "metadata": {},
   "outputs": [
    {
     "name": "stdout",
     "output_type": "stream",
     "text": [
      "(28275, 84, 84, 1)\n",
      "(7069, 84, 84, 1)\n"
     ]
    }
   ],
   "source": [
    "# RUN TO LOAD NPY DATASET TO TRAIN AND VAL\n",
    "single_atari = ['Qbert']\n",
    "screensize = 160\n",
    "PROJECT_ROOT_DIR = \"./DATASETS\"\n",
    "GAME = single_atari[0]\n",
    "TRAIN_NAME = GAME+\"_train\"\n",
    "VAL_NAME = GAME+\"_val\"\n",
    "SIZE = str(screensize)+'_'+str(screensize)\n",
    "EXT = \".npy\" \n",
    "TRAIN_PATH = PROJECT_ROOT_DIR+GAME+'/'+SIZE+'/'+TRAIN_NAME+EXT\n",
    "VAL_PATH = PROJECT_ROOT_DIR+GAME+'/'+SIZE+'/'+VAL_NAME+EXT\n",
    "train = np.load(TRAIN_PATH)\n",
    "val = np.load(VAL_PATH)\n",
    "print(train.shape)\n",
    "print(val.shape)\n",
    "b_use_generator_ay = True\n",
    "BATCH_SIZE    = 256\n",
    "SOLUTION_TYPE = 3\n",
    "new_enc = keras.models.load_model(PROJECT_ROOT_DIR+GAME+'/encoder/',compile=False)\n",
    "new_dec = keras.models.load_model(PROJECT_ROOT_DIR+GAME+'/decoder/',compile=False)"
   ]
  },
  {
   "cell_type": "code",
   "execution_count": 15,
   "metadata": {},
   "outputs": [
    {
     "name": "stdout",
     "output_type": "stream",
     "text": [
      "Loading the VAE for Qbert\n",
      "(28040, 160, 160, 3)\n",
      "(7010, 160, 160, 3)\n"
     ]
    }
   ],
   "source": [
    "screensize = 160\n",
    "single_atari = ['Qbert']\n",
    "finalgames = ['Centipede','Robotank','Tennis','IceHockey','UpNDown','Carnival','Atlantis']\n",
    "PROJECT_ROOT_DIR = \"/Users/antoniomone/Desktop/Uni/LEIDEN/THESIS/DATASETS/outputs/kerasimgs/\"\n",
    "GAME = single_atari[0]\n",
    "print(\"Loading the VAE for\", GAME)\n",
    "TRAIN_NAME = GAME+\"_train\"\n",
    "VAL_NAME = GAME+\"_val\"\n",
    "SIZE = str(screensize)+'_'+str(screensize)\n",
    "EXT = \".npy\" \n",
    "TRAIN_PATH = PROJECT_ROOT_DIR+GAME+'/'+SIZE+'/'+TRAIN_NAME+EXT\n",
    "VAL_PATH = PROJECT_ROOT_DIR+GAME+'/'+SIZE+'/'+VAL_NAME+EXT\n",
    "train = np.load(TRAIN_PATH)\n",
    "val = np.load(VAL_PATH)\n",
    "print(train.shape)\n",
    "print(val.shape)\n",
    "b_use_generator_ay = True\n",
    "BATCH_SIZE    = 256\n",
    "SOLUTION_TYPE = 3\n",
    "new_enc = keras.models.load_model('/Users/antoniomone/Desktop/Uni/LEIDEN/THESIS/RLtests/newmodels/resvaeplus/z128/'+GAME+'/encoder/',compile=False)\n",
    "new_dec = keras.models.load_model('/Users/antoniomone/Desktop/Uni/LEIDEN/THESIS/RLtests/newmodels/resvaeplus/z128/'+GAME+'/decoder/',compile=False)"
   ]
  },
  {
   "cell_type": "code",
   "execution_count": 781,
   "metadata": {},
   "outputs": [
    {
     "name": "stdout",
     "output_type": "stream",
     "text": [
      "Model: \"encoder\"\n",
      "__________________________________________________________________________________________________\n",
      " Layer (type)                   Output Shape         Param #     Connected to                     \n",
      "==================================================================================================\n",
      " encoder_input (InputLayer)     [(None, 160, 160, 3  0           []                               \n",
      "                                )]                                                                \n",
      "                                                                                                  \n",
      " encoder_conv_0 (Conv2D)        (None, 160, 160, 32  128         ['encoder_input[0][0]']          \n",
      "                                )                                                                 \n",
      "                                                                                                  \n",
      " batch_normalization_18 (BatchN  (None, 160, 160, 32  128        ['encoder_conv_0[0][0]']         \n",
      " ormalization)                  )                                                                 \n",
      "                                                                                                  \n",
      " re_lu_10 (ReLU)                (None, 160, 160, 32  0           ['batch_normalization_18[0][0]'] \n",
      "                                )                                                                 \n",
      "                                                                                                  \n",
      " encoder_conv_1 (Conv2D)        (None, 80, 80, 32)   16416       ['re_lu_10[0][0]']               \n",
      "                                                                                                  \n",
      " batch_normalization_19 (BatchN  (None, 80, 80, 32)  128         ['encoder_conv_1[0][0]']         \n",
      " ormalization)                                                                                    \n",
      "                                                                                                  \n",
      " re_lu_11 (ReLU)                (None, 80, 80, 32)   0           ['batch_normalization_19[0][0]'] \n",
      "                                                                                                  \n",
      " encoder_conv_2 (Conv2D)        (None, 40, 40, 64)   32832       ['re_lu_11[0][0]']               \n",
      "                                                                                                  \n",
      " batch_normalization_20 (BatchN  (None, 40, 40, 64)  256         ['encoder_conv_2[0][0]']         \n",
      " ormalization)                                                                                    \n",
      "                                                                                                  \n",
      " re_lu_12 (ReLU)                (None, 40, 40, 64)   0           ['batch_normalization_20[0][0]'] \n",
      "                                                                                                  \n",
      " conv2d_4 (Conv2D)              (None, 40, 40, 64)   36928       ['re_lu_12[0][0]']               \n",
      "                                                                                                  \n",
      " batch_normalization_21 (BatchN  (None, 40, 40, 64)  256         ['conv2d_4[0][0]']               \n",
      " ormalization)                                                                                    \n",
      "                                                                                                  \n",
      " activation_8 (Activation)      (None, 40, 40, 64)   0           ['batch_normalization_21[0][0]'] \n",
      "                                                                                                  \n",
      " conv2d_5 (Conv2D)              (None, 40, 40, 64)   36928       ['activation_8[0][0]']           \n",
      "                                                                                                  \n",
      " batch_normalization_22 (BatchN  (None, 40, 40, 64)  256         ['conv2d_5[0][0]']               \n",
      " ormalization)                                                                                    \n",
      "                                                                                                  \n",
      " add_4 (Add)                    (None, 40, 40, 64)   0           ['batch_normalization_22[0][0]', \n",
      "                                                                  're_lu_12[0][0]']               \n",
      "                                                                                                  \n",
      " activation_9 (Activation)      (None, 40, 40, 64)   0           ['add_4[0][0]']                  \n",
      "                                                                                                  \n",
      " flatten_2 (Flatten)            (None, 102400)       0           ['activation_9[0][0]']           \n",
      "                                                                                                  \n",
      " mu (Dense)                     (None, 128)          13107328    ['flatten_2[0][0]']              \n",
      "                                                                                                  \n",
      " log_var (Dense)                (None, 128)          13107328    ['flatten_2[0][0]']              \n",
      "                                                                                                  \n",
      " custom_lambda_2 (CustomLambda)  (None, 128)         0           ['mu[0][0]',                     \n",
      "                                                                  'log_var[0][0]']                \n",
      "                                                                                                  \n",
      "==================================================================================================\n",
      "Total params: 26,338,912\n",
      "Trainable params: 26,338,400\n",
      "Non-trainable params: 512\n",
      "__________________________________________________________________________________________________\n"
     ]
    }
   ],
   "source": [
    "new_enc.summary()"
   ]
  },
  {
   "cell_type": "code",
   "execution_count": 782,
   "metadata": {},
   "outputs": [
    {
     "name": "stdout",
     "output_type": "stream",
     "text": [
      "Model: \"decoder\"\n",
      "__________________________________________________________________________________________________\n",
      " Layer (type)                   Output Shape         Param #     Connected to                     \n",
      "==================================================================================================\n",
      " decoder_input (InputLayer)     [(None, 128)]        0           []                               \n",
      "                                                                                                  \n",
      " dense_2 (Dense)                (None, 102400)       13209600    ['decoder_input[0][0]']          \n",
      "                                                                                                  \n",
      " reshape_2 (Reshape)            (None, 40, 40, 64)   0           ['dense_2[0][0]']                \n",
      "                                                                                                  \n",
      " conv2d_transpose_4 (Conv2DTran  (None, 40, 40, 64)  36928       ['reshape_2[0][0]']              \n",
      " spose)                                                                                           \n",
      "                                                                                                  \n",
      " batch_normalization_23 (BatchN  (None, 40, 40, 64)  256         ['conv2d_transpose_4[0][0]']     \n",
      " ormalization)                                                                                    \n",
      "                                                                                                  \n",
      " activation_10 (Activation)     (None, 40, 40, 64)   0           ['batch_normalization_23[0][0]'] \n",
      "                                                                                                  \n",
      " conv2d_transpose_5 (Conv2DTran  (None, 40, 40, 64)  36928       ['activation_10[0][0]']          \n",
      " spose)                                                                                           \n",
      "                                                                                                  \n",
      " batch_normalization_24 (BatchN  (None, 40, 40, 64)  256         ['conv2d_transpose_5[0][0]']     \n",
      " ormalization)                                                                                    \n",
      "                                                                                                  \n",
      " add_5 (Add)                    (None, 40, 40, 64)   0           ['batch_normalization_24[0][0]', \n",
      "                                                                  'reshape_2[0][0]']              \n",
      "                                                                                                  \n",
      " activation_11 (Activation)     (None, 40, 40, 64)   0           ['add_5[0][0]']                  \n",
      "                                                                                                  \n",
      " decoder_conv_t_0 (Conv2DTransp  (None, 40, 40, 64)  4160        ['activation_11[0][0]']          \n",
      " ose)                                                                                             \n",
      "                                                                                                  \n",
      " batch_normalization_25 (BatchN  (None, 40, 40, 64)  256         ['decoder_conv_t_0[0][0]']       \n",
      " ormalization)                                                                                    \n",
      "                                                                                                  \n",
      " re_lu_13 (ReLU)                (None, 40, 40, 64)   0           ['batch_normalization_25[0][0]'] \n",
      "                                                                                                  \n",
      " decoder_conv_t_1 (Conv2DTransp  (None, 80, 80, 64)  36928       ['re_lu_13[0][0]']               \n",
      " ose)                                                                                             \n",
      "                                                                                                  \n",
      " batch_normalization_26 (BatchN  (None, 80, 80, 64)  256         ['decoder_conv_t_1[0][0]']       \n",
      " ormalization)                                                                                    \n",
      "                                                                                                  \n",
      " re_lu_14 (ReLU)                (None, 80, 80, 64)   0           ['batch_normalization_26[0][0]'] \n",
      "                                                                                                  \n",
      " decoder_conv_t_2 (Conv2DTransp  (None, 160, 160, 3)  1731       ['re_lu_14[0][0]']               \n",
      " ose)                                                                                             \n",
      "                                                                                                  \n",
      " dc_reco (Activation)           (None, 160, 160, 3)  0           ['decoder_conv_t_2[0][0]']       \n",
      "                                                                                                  \n",
      "==================================================================================================\n",
      "Total params: 13,327,299\n",
      "Trainable params: 13,326,787\n",
      "Non-trainable params: 512\n",
      "__________________________________________________________________________________________________\n"
     ]
    }
   ],
   "source": [
    "new_dec.summary()"
   ]
  },
  {
   "cell_type": "code",
   "execution_count": 751,
   "metadata": {},
   "outputs": [
    {
     "name": "stdout",
     "output_type": "stream",
     "text": [
      "Playing Qbert\n",
      "DECODED IMAGE SHAPE (1, 84, 84, 1)\n",
      "Game: 1 Score: 225.0 After 507 steps\n",
      "Highest Score: 225.0 Average of: 45.0 over 5 episodes\n"
     ]
    },
    {
     "data": {
      "image/png": "[encoded data removed]",
      "text/plain": [
       "<Figure size 432x288 with 2 Axes>"
      ]
     },
     "metadata": {
      "needs_background": "light"
     },
     "output_type": "display_data"
    }
   ],
   "source": [
    "test_ep = 1\n",
    "episodes = 5\n",
    "highest_score = 0\n",
    "screen = screensize\n",
    "average = 0\n",
    "dims = val.shape[-1]\n",
    "import cv2\n",
    "for episode in range(test_ep):\n",
    "    next_game = str(np.random.choice(single_atari,1)[0])\n",
    "    env = gym.make(next_game+'-v0',full_action_space=True,obs_type=\"image\")\n",
    "    print(\"Playing\",next_game)\n",
    "    state = env.reset()\n",
    "    #print(\"Assault state\",state.shape)\n",
    "    done = False\n",
    "    score = 0\n",
    "    i=0\n",
    "    while not done:\n",
    "        action = env.action_space.sample()\n",
    "        #print(\"ACTION:\",action) #simply an int for Atari\n",
    "        #print(\"Action type\",type(action))\n",
    "        n_state, reward, done, info = env.step(action)\n",
    "        #print(\"obs shape\",n_state.shape)\n",
    "        if i==178:\n",
    "            #res = cv2.resize(env.env.ale.getScreenRGB(),(screen,screen))\n",
    "            res = cv2.resize(env.env.ale.getScreenGrayscale(),(screen,screen))\n",
    "            res = tf.convert_to_tensor(res,dtype=tf.float32)\n",
    "            res /= 255\n",
    "            to_eval = np.reshape(res,(1,screen,screen ,dims))\n",
    "            encoded_image = new_enc(to_eval)\n",
    "            #print(\"ENCODED IMAGE\",encoded_image)\n",
    "            #print(\"ENCODED IMAGE SHAPE\",encoded_image[2].shape)\n",
    "            decoded_image = new_dec(encoded_image[0])\n",
    "            print(\"DECODED IMAGE SHAPE\",decoded_image.shape)\n",
    "            to_comp = np.reshape(decoded_image,(screen,screen,dims))\n",
    "            to_eval = np.reshape(res,(screen,screen,dims))\n",
    "            save_image(to_eval,to_comp,i=i)\n",
    "        score+=reward\n",
    "        i+=1\n",
    "    print(\"Game: {} Score: {} After {} steps\".format(episode+1,score,i))\n",
    "    if score > highest_score:\n",
    "        highest_score=score\n",
    "    average += score\n",
    "    final_avg = average/episodes\n",
    "    \n",
    "print(\"Highest Score:\",highest_score,\"Average of:\",final_avg,\"over\",episodes,\"episodes\")\n",
    "env.close()\n"
   ]
  },
  {
   "cell_type": "code",
   "execution_count": null,
   "metadata": {},
   "outputs": [],
   "source": [
    "nextimage = np.reshape(val[175],(1,screensize,screensize,val.shape[-1]))\n",
    "nextimage /= 255\n",
    "enc_image = new_enc(nextimage)\n",
    "dec_image = new_dec(enc_image[0])\n",
    "final_image = np.reshape(dec_image,(screensize,screensize,val.shape[-1]))\n",
    "plot_image(final_image,save=False)"
   ]
  },
  {
   "cell_type": "code",
   "execution_count": null,
   "metadata": {},
   "outputs": [],
   "source": [
    "save_image(val[175],final_image,i=1985)"
   ]
  },
  {
   "cell_type": "code",
   "execution_count": 686,
   "metadata": {},
   "outputs": [
    {
     "data": {
      "image/png": "[encoded data removed]",
      "text/plain": [
       "<Figure size 432x288 with 1 Axes>"
      ]
     },
     "metadata": {
      "needs_background": "light"
     },
     "output_type": "display_data"
    }
   ],
   "source": [
    "plot_image(env.env.ale.getScreenGrayscale())"
   ]
  },
  {
   "cell_type": "code",
   "execution_count": 26,
   "metadata": {},
   "outputs": [
    {
     "name": "stdout",
     "output_type": "stream",
     "text": [
      "WARNING:tensorflow:Compiled the loaded model, but the compiled metrics have yet to be built. `model.compile_metrics` will be empty until you train or evaluate the model.\n",
      "WARNING:tensorflow:Compiled the loaded model, but the compiled metrics have yet to be built. `model.compile_metrics` will be empty until you train or evaluate the model.\n"
     ]
    }
   ],
   "source": [
    "MyVae.encoder.save(\"/Users/antoniomone/Downloads/myEncoder.h5\")\n",
    "MyVae.decoder.save(\"/Users/antoniomone/Downloads/myDecoder.h5\")"
   ]
  }
 ],
 "metadata": {
  "kernelspec": {
   "display_name": "wannenvjup",
   "language": "python",
   "name": "python3"
  },
  "language_info": {
   "codemirror_mode": {
    "name": "ipython",
    "version": 3
   },
   "file_extension": ".py",
   "mimetype": "text/x-python",
   "name": "python",
   "nbconvert_exporter": "python",
   "pygments_lexer": "ipython3",
   "version": "3.10.8"
  },
  "orig_nbformat": 4,
  "vscode": {
   "interpreter": {
    "hash": "f9e2cc72134d3c038a8bd4d0829a047306f33c454654d5d331611e459cb333ad"
   }
  }
 },
 "nbformat": 4,
 "nbformat_minor": 2
}
